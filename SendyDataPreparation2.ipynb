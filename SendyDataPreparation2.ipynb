{
 "cells": [
  {
   "cell_type": "code",
   "execution_count": 46,
   "metadata": {},
   "outputs": [],
   "source": [
    "import geopandas as gpd\n",
    "import pandas as pd\n",
    "import numpy as np\n",
    "import matplotlib.pyplot as plt\n",
    "import seaborn as sns\n",
    "import shapely\n",
    "%matplotlib inline"
   ]
  },
  {
   "cell_type": "code",
   "execution_count": 2,
   "metadata": {},
   "outputs": [],
   "source": [
    "#setting plottling style\n",
    "plt.style.use('ggplot')"
   ]
  },
  {
   "cell_type": "code",
   "execution_count": 3,
   "metadata": {},
   "outputs": [],
   "source": [
    "import warnings\n",
    "warnings.filterwarnings('ignore')"
   ]
  },
  {
   "cell_type": "code",
   "execution_count": 4,
   "metadata": {},
   "outputs": [],
   "source": [
    "import os\n",
    "cwd = os.chdir(r'C:/Machine_learning_datafiles')"
   ]
  },
  {
   "cell_type": "code",
   "execution_count": 5,
   "metadata": {},
   "outputs": [],
   "source": [
    "from shapely.geometry import Point, Polygon, LineString, MultiPolygon"
   ]
  },
  {
   "cell_type": "code",
   "execution_count": 6,
   "metadata": {},
   "outputs": [],
   "source": [
    "pd.set_option('display.max_columns', 5000)\n",
    "pd.set_option('display.max_rows', 100)\n",
    "plt.rcParams['figure.figsize'] = [8,5]"
   ]
  },
  {
   "cell_type": "code",
   "execution_count": 7,
   "metadata": {
    "scrolled": false
   },
   "outputs": [],
   "source": [
    "#importing files\n",
    "hourly_travel_times = pd.read_csv('./sendy_logistics/hourly_travel_times.csv')\n",
    "weekly_travel_times = pd.read_csv('./sendy_logistics/weekly_travel_times.csv')\n",
    "monthly_travel_times = pd.read_csv('./sendy_logistics/monthly_travel_times.csv')"
   ]
  },
  {
   "cell_type": "code",
   "execution_count": 8,
   "metadata": {},
   "outputs": [],
   "source": [
    "sublocation_json = gpd.read_file('./sendy_logistics/locations/540_sublocations.json')"
   ]
  },
  {
   "cell_type": "code",
   "execution_count": 9,
   "metadata": {
    "scrolled": true
   },
   "outputs": [
    {
     "data": {
      "text/plain": [
       "(1286035, 8)"
      ]
     },
     "execution_count": 9,
     "metadata": {},
     "output_type": "execute_result"
    }
   ],
   "source": [
    "hourly_travel_times.shape"
   ]
  },
  {
   "cell_type": "code",
   "execution_count": 10,
   "metadata": {
    "scrolled": true
   },
   "outputs": [
    {
     "data": {
      "text/html": [
       "<div>\n",
       "<style scoped>\n",
       "    .dataframe tbody tr th:only-of-type {\n",
       "        vertical-align: middle;\n",
       "    }\n",
       "\n",
       "    .dataframe tbody tr th {\n",
       "        vertical-align: top;\n",
       "    }\n",
       "\n",
       "    .dataframe thead th {\n",
       "        text-align: right;\n",
       "    }\n",
       "</style>\n",
       "<table border=\"1\" class=\"dataframe\">\n",
       "  <thead>\n",
       "    <tr style=\"text-align: right;\">\n",
       "      <th></th>\n",
       "      <th>sourceid</th>\n",
       "      <th>dstid</th>\n",
       "      <th>dow</th>\n",
       "      <th>mean_travel_time</th>\n",
       "      <th>standard_deviation_travel_time</th>\n",
       "      <th>geometric_mean_travel_time</th>\n",
       "      <th>geometric_standard_deviation_travel_time</th>\n",
       "      <th>year</th>\n",
       "    </tr>\n",
       "  </thead>\n",
       "  <tbody>\n",
       "    <tr>\n",
       "      <td>200079</td>\n",
       "      <td>48</td>\n",
       "      <td>3</td>\n",
       "      <td>4</td>\n",
       "      <td>2420.75</td>\n",
       "      <td>1428.75</td>\n",
       "      <td>2176.46</td>\n",
       "      <td>1.52</td>\n",
       "      <td>2018</td>\n",
       "    </tr>\n",
       "    <tr>\n",
       "      <td>81430</td>\n",
       "      <td>43</td>\n",
       "      <td>87</td>\n",
       "      <td>6</td>\n",
       "      <td>1634.79</td>\n",
       "      <td>722.55</td>\n",
       "      <td>1527.66</td>\n",
       "      <td>1.42</td>\n",
       "      <td>2018</td>\n",
       "    </tr>\n",
       "    <tr>\n",
       "      <td>178297</td>\n",
       "      <td>11</td>\n",
       "      <td>20</td>\n",
       "      <td>7</td>\n",
       "      <td>950.22</td>\n",
       "      <td>501.55</td>\n",
       "      <td>850.17</td>\n",
       "      <td>1.59</td>\n",
       "      <td>2018</td>\n",
       "    </tr>\n",
       "    <tr>\n",
       "      <td>127548</td>\n",
       "      <td>92</td>\n",
       "      <td>72</td>\n",
       "      <td>1</td>\n",
       "      <td>1119.08</td>\n",
       "      <td>821.77</td>\n",
       "      <td>945.27</td>\n",
       "      <td>1.73</td>\n",
       "      <td>2018</td>\n",
       "    </tr>\n",
       "  </tbody>\n",
       "</table>\n",
       "</div>"
      ],
      "text/plain": [
       "        sourceid  dstid  dow  mean_travel_time  \\\n",
       "200079        48      3    4           2420.75   \n",
       "81430         43     87    6           1634.79   \n",
       "178297        11     20    7            950.22   \n",
       "127548        92     72    1           1119.08   \n",
       "\n",
       "        standard_deviation_travel_time  geometric_mean_travel_time  \\\n",
       "200079                         1428.75                     2176.46   \n",
       "81430                           722.55                     1527.66   \n",
       "178297                          501.55                      850.17   \n",
       "127548                          821.77                      945.27   \n",
       "\n",
       "        geometric_standard_deviation_travel_time  year  \n",
       "200079                                      1.52  2018  \n",
       "81430                                       1.42  2018  \n",
       "178297                                      1.59  2018  \n",
       "127548                                      1.73  2018  "
      ]
     },
     "execution_count": 10,
     "metadata": {},
     "output_type": "execute_result"
    }
   ],
   "source": [
    "weekly_travel_times.sample(4)"
   ]
  },
  {
   "cell_type": "code",
   "execution_count": 11,
   "metadata": {
    "scrolled": true
   },
   "outputs": [
    {
     "data": {
      "text/html": [
       "<div>\n",
       "<style scoped>\n",
       "    .dataframe tbody tr th:only-of-type {\n",
       "        vertical-align: middle;\n",
       "    }\n",
       "\n",
       "    .dataframe tbody tr th {\n",
       "        vertical-align: top;\n",
       "    }\n",
       "\n",
       "    .dataframe thead th {\n",
       "        text-align: right;\n",
       "    }\n",
       "</style>\n",
       "<table border=\"1\" class=\"dataframe\">\n",
       "  <thead>\n",
       "    <tr style=\"text-align: right;\">\n",
       "      <th></th>\n",
       "      <th>sourceid</th>\n",
       "      <th>dstid</th>\n",
       "      <th>month</th>\n",
       "      <th>mean_travel_time</th>\n",
       "      <th>standard_deviation_travel_time</th>\n",
       "      <th>geometric_mean_travel_time</th>\n",
       "      <th>geometric_standard_deviation_travel_time</th>\n",
       "      <th>year</th>\n",
       "    </tr>\n",
       "  </thead>\n",
       "  <tbody>\n",
       "    <tr>\n",
       "      <td>123067</td>\n",
       "      <td>78</td>\n",
       "      <td>43</td>\n",
       "      <td>1</td>\n",
       "      <td>1371.05</td>\n",
       "      <td>537.12</td>\n",
       "      <td>1311.80</td>\n",
       "      <td>1.32</td>\n",
       "      <td>2019</td>\n",
       "    </tr>\n",
       "    <tr>\n",
       "      <td>32867</td>\n",
       "      <td>45</td>\n",
       "      <td>18</td>\n",
       "      <td>5</td>\n",
       "      <td>3381.04</td>\n",
       "      <td>1189.37</td>\n",
       "      <td>3172.89</td>\n",
       "      <td>1.44</td>\n",
       "      <td>2018</td>\n",
       "    </tr>\n",
       "    <tr>\n",
       "      <td>65170</td>\n",
       "      <td>26</td>\n",
       "      <td>61</td>\n",
       "      <td>9</td>\n",
       "      <td>335.65</td>\n",
       "      <td>301.71</td>\n",
       "      <td>282.59</td>\n",
       "      <td>1.65</td>\n",
       "      <td>2018</td>\n",
       "    </tr>\n",
       "    <tr>\n",
       "      <td>78907</td>\n",
       "      <td>51</td>\n",
       "      <td>90</td>\n",
       "      <td>10</td>\n",
       "      <td>2099.80</td>\n",
       "      <td>803.70</td>\n",
       "      <td>1960.22</td>\n",
       "      <td>1.44</td>\n",
       "      <td>2018</td>\n",
       "    </tr>\n",
       "  </tbody>\n",
       "</table>\n",
       "</div>"
      ],
      "text/plain": [
       "        sourceid  dstid  month  mean_travel_time  \\\n",
       "123067        78     43      1           1371.05   \n",
       "32867         45     18      5           3381.04   \n",
       "65170         26     61      9            335.65   \n",
       "78907         51     90     10           2099.80   \n",
       "\n",
       "        standard_deviation_travel_time  geometric_mean_travel_time  \\\n",
       "123067                          537.12                     1311.80   \n",
       "32867                          1189.37                     3172.89   \n",
       "65170                           301.71                      282.59   \n",
       "78907                           803.70                     1960.22   \n",
       "\n",
       "        geometric_standard_deviation_travel_time  year  \n",
       "123067                                      1.32  2019  \n",
       "32867                                       1.44  2018  \n",
       "65170                                       1.65  2018  \n",
       "78907                                       1.44  2018  "
      ]
     },
     "execution_count": 11,
     "metadata": {},
     "output_type": "execute_result"
    }
   ],
   "source": [
    "monthly_travel_times.sample(4)"
   ]
  },
  {
   "cell_type": "code",
   "execution_count": 12,
   "metadata": {},
   "outputs": [
    {
     "data": {
      "text/html": [
       "<div>\n",
       "<style scoped>\n",
       "    .dataframe tbody tr th:only-of-type {\n",
       "        vertical-align: middle;\n",
       "    }\n",
       "\n",
       "    .dataframe tbody tr th {\n",
       "        vertical-align: top;\n",
       "    }\n",
       "\n",
       "    .dataframe thead th {\n",
       "        text-align: right;\n",
       "    }\n",
       "</style>\n",
       "<table border=\"1\" class=\"dataframe\">\n",
       "  <thead>\n",
       "    <tr style=\"text-align: right;\">\n",
       "      <th></th>\n",
       "      <th>DISPLAY_NAME</th>\n",
       "      <th>MOVEMENT_ID</th>\n",
       "      <th>geometry</th>\n",
       "    </tr>\n",
       "  </thead>\n",
       "  <tbody>\n",
       "    <tr>\n",
       "      <td>0</td>\n",
       "      <td>Kiwanja</td>\n",
       "      <td>1</td>\n",
       "      <td>POLYGON ((36.89859 -1.16106, 36.89934 -1.16136...</td>\n",
       "    </tr>\n",
       "    <tr>\n",
       "      <td>1</td>\n",
       "      <td>Kahawa West</td>\n",
       "      <td>2</td>\n",
       "      <td>POLYGON ((36.89445 -1.16934, 36.89481 -1.16969...</td>\n",
       "    </tr>\n",
       "    <tr>\n",
       "      <td>2</td>\n",
       "      <td>Kongo Soweto</td>\n",
       "      <td>3</td>\n",
       "      <td>POLYGON ((36.89429 -1.18202, 36.90141 -1.18339...</td>\n",
       "    </tr>\n",
       "    <tr>\n",
       "      <td>3</td>\n",
       "      <td>Njathaini</td>\n",
       "      <td>4</td>\n",
       "      <td>POLYGON ((36.89994 -1.19349, 36.90080 -1.19454...</td>\n",
       "    </tr>\n",
       "    <tr>\n",
       "      <td>4</td>\n",
       "      <td>Karura</td>\n",
       "      <td>5</td>\n",
       "      <td>POLYGON ((36.79952 -1.19554, 36.80290 -1.19732...</td>\n",
       "    </tr>\n",
       "  </tbody>\n",
       "</table>\n",
       "</div>"
      ],
      "text/plain": [
       "   DISPLAY_NAME MOVEMENT_ID                                           geometry\n",
       "0       Kiwanja           1  POLYGON ((36.89859 -1.16106, 36.89934 -1.16136...\n",
       "1   Kahawa West           2  POLYGON ((36.89445 -1.16934, 36.89481 -1.16969...\n",
       "2  Kongo Soweto           3  POLYGON ((36.89429 -1.18202, 36.90141 -1.18339...\n",
       "3     Njathaini           4  POLYGON ((36.89994 -1.19349, 36.90080 -1.19454...\n",
       "4        Karura           5  POLYGON ((36.79952 -1.19554, 36.80290 -1.19732..."
      ]
     },
     "execution_count": 12,
     "metadata": {},
     "output_type": "execute_result"
    }
   ],
   "source": [
    "sublocation_json.head()"
   ]
  },
  {
   "cell_type": "code",
   "execution_count": 13,
   "metadata": {},
   "outputs": [
    {
     "data": {
      "image/png": "[encoded data removed]",
      "text/plain": [
       "<Figure size 576x360 with 1 Axes>"
      ]
     },
     "metadata": {},
     "output_type": "display_data"
    }
   ],
   "source": [
    "sublocation_json.plot(color='g')\n",
    "plt.xlabel('Longitude')\n",
    "plt.ylabel('Latitude')\n",
    "plt.title('Map showing Pickup and Destination Sublocations');"
   ]
  },
  {
   "cell_type": "code",
   "execution_count": 14,
   "metadata": {},
   "outputs": [],
   "source": [
    "#importing the training and test data\n",
    "train = pd.read_csv('./sendy_logistics/train.csv')\n",
    "test = pd.read_csv('./sendy_logistics/test.csv')"
   ]
  },
  {
   "cell_type": "code",
   "execution_count": 15,
   "metadata": {},
   "outputs": [],
   "source": [
    "train['hr_of_day'] = pd.to_datetime(train['Pickup - Time']).dt.hour\n",
    "test['hr_of_day'] = pd.to_datetime(test['Pickup - Time']).dt.hour\n",
    "\n",
    "train['pickup_min'] = train['hr_of_day']*60 + pd.to_datetime(train['Pickup - Time']).dt.minute\n",
    "test['pickup_min'] = test['hr_of_day']*60 + pd.to_datetime(test['Pickup - Time']).dt.minute"
   ]
  },
  {
   "cell_type": "code",
   "execution_count": 16,
   "metadata": {},
   "outputs": [],
   "source": [
    "from collections import defaultdict"
   ]
  },
  {
   "cell_type": "markdown",
   "metadata": {},
   "source": [
    "Finding the pickup and destination cities"
   ]
  },
  {
   "cell_type": "code",
   "execution_count": 17,
   "metadata": {},
   "outputs": [],
   "source": [
    "def pickup_destination_cities_list(data):\n",
    "    \"\"\"This groups pickup and destination coordinates and loops each of the coordinates to find coordinates in the Polygon.\n",
    "    Returns the list of pickup and destination cities.\n",
    "    \"\"\"\n",
    "    pickup_location_list = []\n",
    "    pickup_lat = []\n",
    "    pickup_long = []\n",
    "\n",
    "    #grouping pickup and destination coordinates\n",
    "    pickup_coords = data.groupby(['Pickup Long', 'Pickup Lat']).count().reset_index() #pickup coords\n",
    "    destination_coords = data.groupby(['Destination Long', 'Destination Lat']).count().reset_index() #destination coords\n",
    "\n",
    "    for long, lat in pickup_coords[['Pickup Long', 'Pickup Lat']].values:\n",
    "        for location,polygon in sublocation_json[['DISPLAY_NAME', 'geometry']].values:\n",
    "            if (Point((long,lat)).within(polygon) or polygon.contains(Point((long,lat))) or Point((long,lat)).intersects(polygon)):\n",
    "                pickup_location_list.append(location) #appending the locations\n",
    "                pickup_lat.append(lat)\n",
    "                pickup_long.append(long)\n",
    "    \n",
    "    \n",
    "    destination_location_list = []\n",
    "    destination_long = []\n",
    "    destination_lat = []\n",
    "    \n",
    "    for long, lat in destination_coords[['Destination Long', 'Destination Lat']].values:\n",
    "        for location,polygon in sublocation_json[['DISPLAY_NAME', 'geometry']].values:\n",
    "            if (Point((long,lat)).within(polygon) or polygon.contains(Point((long,lat))) or Point((long,lat)).intersects(polygon)):\n",
    "                destination_location_list.append(location)\n",
    "                destination_lat.append(lat)\n",
    "                destination_long.append(long)\n",
    "    \n",
    "    return pickup_location_list, pickup_lat, pickup_long, destination_location_list, destination_lat, destination_long"
   ]
  },
  {
   "cell_type": "code",
   "execution_count": 18,
   "metadata": {
    "scrolled": false
   },
   "outputs": [],
   "source": [
    "def pickup_destination_city_df(data):\n",
    "    \"\"\"This creates a dataframe of the pickup and destination cities and merges them to the main data\"\"\"\n",
    "    \n",
    "    pickup_location_list, pickup_lat, pickup_long, destination_location_list, destination_lat, destination_long = \\\n",
    "    pickup_destination_cities_list(data)\n",
    "    \n",
    "    pickup_cities = pd.DataFrame(pickup_location_list)\n",
    "    pickup_cities['pickup_long']  = pickup_long\n",
    "    pickup_cities['pickup_lat'] = pickup_lat\n",
    "    pickup_cities.columns = ['Pickup_city','Pickup Long', 'Pickup Lat']\n",
    "\n",
    "    destination_cities= pd.DataFrame(destination_location_list)\n",
    "    destination_cities['destination_long'] = destination_long\n",
    "    destination_cities['destintion_lat'] = destination_lat\n",
    "    destination_cities.columns = ['Destination_city','Destination Long', 'Destination Lat']\n",
    "\n",
    "    #merging the pickup and destination cities to the training data\n",
    "    data = pd.merge(data, destination_cities, on=['Destination Long', 'Destination Lat'], how='left')\n",
    "    data= pd.merge(data, pickup_cities, on=['Pickup Long', 'Pickup Lat'], how='left')\n",
    "    \n",
    "    return data"
   ]
  },
  {
   "cell_type": "code",
   "execution_count": 19,
   "metadata": {},
   "outputs": [
    {
     "name": "stdout",
     "output_type": "stream",
     "text": [
      "Wall time: 2min 4s\n"
     ]
    }
   ],
   "source": [
    "%%time\n",
    "train = pickup_destination_city_df(train)\n",
    "test = pickup_destination_city_df(test)"
   ]
  },
  {
   "cell_type": "code",
   "execution_count": 20,
   "metadata": {
    "scrolled": true
   },
   "outputs": [
    {
     "name": "stdout",
     "output_type": "stream",
     "text": [
      "There are 3694 unique pickup coordinates in the training set\n"
     ]
    }
   ],
   "source": [
    "print('There are {} unique pickup coordinates in the training set'.format(3694))"
   ]
  },
  {
   "cell_type": "code",
   "execution_count": 21,
   "metadata": {},
   "outputs": [
    {
     "name": "stdout",
     "output_type": "stream",
     "text": [
      "There are 5348 unique destination coordinates in the training set\n"
     ]
    }
   ],
   "source": [
    "print('There are {} unique destination coordinates in the training set'.format(5348))"
   ]
  },
  {
   "cell_type": "code",
   "execution_count": 22,
   "metadata": {},
   "outputs": [
    {
     "name": "stdout",
     "output_type": "stream",
     "text": [
      "There are 1873 unique pickup coordinates in the test set\n"
     ]
    }
   ],
   "source": [
    "print('There are %s unique pickup coordinates in the test set' %1873)"
   ]
  },
  {
   "cell_type": "code",
   "execution_count": 23,
   "metadata": {},
   "outputs": [
    {
     "name": "stdout",
     "output_type": "stream",
     "text": [
      "There are 2644 unique destination coordinates in the test set\n"
     ]
    }
   ],
   "source": [
    "print('There are %s unique destination coordinates in the test set'%2644)"
   ]
  },
  {
   "cell_type": "code",
   "execution_count": 24,
   "metadata": {},
   "outputs": [
    {
     "name": "stdout",
     "output_type": "stream",
     "text": [
      "There are 140 grouped train pickup coordinates without any city encoded in the json file\n"
     ]
    }
   ],
   "source": [
    "print('There are {} grouped train pickup coordinates without any city encoded in the json file'.format(140))"
   ]
  },
  {
   "cell_type": "code",
   "execution_count": 25,
   "metadata": {
    "scrolled": true
   },
   "outputs": [
    {
     "name": "stdout",
     "output_type": "stream",
     "text": [
      "There are 353 grouped train destination coordinates without any city encoded in the json file\n"
     ]
    }
   ],
   "source": [
    "print('There are {} grouped train destination coordinates without any city encoded in the json file'.format(353))"
   ]
  },
  {
   "cell_type": "code",
   "execution_count": 26,
   "metadata": {},
   "outputs": [
    {
     "name": "stdout",
     "output_type": "stream",
     "text": [
      "There are 54 grouped test pickup coordinates without any city encoded in the json file\n"
     ]
    }
   ],
   "source": [
    "print('There are {} grouped test pickup coordinates without any city encoded in the json file'.format(54))"
   ]
  },
  {
   "cell_type": "code",
   "execution_count": 27,
   "metadata": {},
   "outputs": [
    {
     "name": "stdout",
     "output_type": "stream",
     "text": [
      "There are 142 grouped test destination coordinates without any city encoded in the json file\n"
     ]
    }
   ],
   "source": [
    "print('There are {} grouped test destination coordinates without any city encoded in the json file'.format(142))"
   ]
  },
  {
   "cell_type": "code",
   "execution_count": 28,
   "metadata": {},
   "outputs": [
    {
     "name": "stdout",
     "output_type": "stream",
     "text": [
      "There are 353 pickup coordinates in the train dataset with no city encoded in the geojson file]\n"
     ]
    }
   ],
   "source": [
    "print('There are {} pickup coordinates in the train dataset with no city encoded in the geojson file]'.format(353))"
   ]
  },
  {
   "cell_type": "code",
   "execution_count": 29,
   "metadata": {},
   "outputs": [
    {
     "name": "stdout",
     "output_type": "stream",
     "text": [
      "There are 769 destination coordinates in the train dataset with no city encoded in the geojson file\n"
     ]
    }
   ],
   "source": [
    "print('There are {} destination coordinates in the train dataset with no city encoded in the geojson file'.format(769))"
   ]
  },
  {
   "cell_type": "code",
   "execution_count": 30,
   "metadata": {},
   "outputs": [
    {
     "name": "stdout",
     "output_type": "stream",
     "text": [
      "There are 118 pickup coordinates in the test dataset with no city encoded in the geojson file\n"
     ]
    }
   ],
   "source": [
    "print('There are {} pickup coordinates in the test dataset with no city encoded in the geojson file'.format(118))"
   ]
  },
  {
   "cell_type": "code",
   "execution_count": 31,
   "metadata": {},
   "outputs": [
    {
     "name": "stdout",
     "output_type": "stream",
     "text": [
      "There are 252 destination coordinates in the test dataset with no city encoded in the geojson file\n"
     ]
    }
   ],
   "source": [
    "print('There are {} destination coordinates in the test dataset with no city encoded in the geojson file'.format(252))"
   ]
  },
  {
   "cell_type": "code",
   "execution_count": 32,
   "metadata": {},
   "outputs": [
    {
     "name": "stdout",
     "output_type": "stream",
     "text": [
      "Total null values for pickup and destination cities is 1122\n"
     ]
    }
   ],
   "source": [
    "print('Total null values for pickup and destination cities is {}'.format(train.Pickup_city.isnull().sum()+train.Destination_city.isnull().sum()))"
   ]
  },
  {
   "cell_type": "code",
   "execution_count": 33,
   "metadata": {},
   "outputs": [
    {
     "name": "stdout",
     "output_type": "stream",
     "text": [
      "Total null values for pickup and destination cities is 370\n"
     ]
    }
   ],
   "source": [
    "print('Total null values for pickup and destination cities is {}'.format(test.Pickup_city.isnull().sum()+test.Destination_city.isnull().sum()))"
   ]
  },
  {
   "cell_type": "markdown",
   "metadata": {},
   "source": [
    "We will be mapping the source ids and the dst ids in the sublocation_hr data to their respective cities from the sublocation_json data"
   ]
  },
  {
   "cell_type": "code",
   "execution_count": 34,
   "metadata": {},
   "outputs": [],
   "source": [
    "#creating a location map\n",
    "location_map = dict(sublocation_json[['MOVEMENT_ID','DISPLAY_NAME']].values)"
   ]
  },
  {
   "cell_type": "code",
   "execution_count": 55,
   "metadata": {},
   "outputs": [
    {
     "name": "stdout",
     "output_type": "stream",
     "text": [
      "Wall time: 2.53 s\n"
     ]
    }
   ],
   "source": [
    "%%time\n",
    "#applying the map to the hourly, weekly nd monthly travel times\n",
    "hourly_travel_times['Pickup city']= hourly_travel_times.sourceid.astype('str').map(location_map)\n",
    "hourly_travel_times['Destination city'] = hourly_travel_times.dstid.astype('str').map(location_map)"
   ]
  },
  {
   "cell_type": "markdown",
   "metadata": {},
   "source": [
    "Grouping hourly travel times by each pickup and destination cities"
   ]
  },
  {
   "cell_type": "code",
   "execution_count": 57,
   "metadata": {},
   "outputs": [],
   "source": [
    "hourly_pickup_to_dest_travel_times = hourly_travel_times[\n",
    "    [\n",
    "        'mean_travel_time','Pickup city','Destination city','hod'\n",
    "    ]\n",
    "].groupby(['Pickup city','Destination city','hod']).mean().reset_index()"
   ]
  },
  {
   "cell_type": "markdown",
   "metadata": {},
   "source": [
    "Grouping the pickup and Destination cities for both the training and testing data"
   ]
  },
  {
   "cell_type": "code",
   "execution_count": 64,
   "metadata": {},
   "outputs": [],
   "source": [
    "#Grouping the pickup and destination cities for both training and test data\n",
    "train_pickup_dest_cities = train[\n",
    "    [\n",
    "        'Pickup_city', 'Destination_city','hr_of_day'\n",
    "    ]\n",
    "].groupby(['Pickup_city', 'Destination_city','hr_of_day']).count().reset_index()\n",
    "\n",
    "\n",
    "test_pickup_dest_cities = test[\n",
    "    [\n",
    "        'Pickup_city', 'Destination_city','hr_of_day'\n",
    "    ]\n",
    "].groupby(['Pickup_city', 'Destination_city','hr_of_day']).count().reset_index()"
   ]
  },
  {
   "cell_type": "code",
   "execution_count": 60,
   "metadata": {},
   "outputs": [
    {
     "data": {
      "text/plain": [
       "((2056, 2), (1346, 2))"
      ]
     },
     "execution_count": 60,
     "metadata": {},
     "output_type": "execute_result"
    }
   ],
   "source": [
    "train_pickup_dest_cities.shape, test_pickup_dest_cities.shape"
   ]
  },
  {
   "cell_type": "markdown",
   "metadata": {},
   "source": [
    "Appending hourly mean travel times to both training and test sets\n",
    "<p>Firstly we will creating a list of hourly travel times and</p>\n",
    "<p>Secondly, merging them to the dataframe of pickup to destination cities for both the training and test sets</p>"
   ]
  },
  {
   "cell_type": "code",
   "execution_count": 92,
   "metadata": {},
   "outputs": [
    {
     "data": {
      "text/plain": [
       "(203352, 4)"
      ]
     },
     "execution_count": 92,
     "metadata": {},
     "output_type": "execute_result"
    }
   ],
   "source": [
    "hourly_pickup_to_dest_travel_times.shape"
   ]
  },
  {
   "cell_type": "raw",
   "metadata": {},
   "source": [
    "%%time\n",
    "#for train data\n",
    "\n",
    "pickup_city_list = []\n",
    "destination_list = []\n",
    "mean_travel_time_list = []\n",
    "hour_of_day = []\n",
    "\n",
    "for (pickup, dest, hod) in train_pickup_dest_cities[\n",
    "        ['Pickup_city','Destination_city', 'hr_of_day']].values:\n",
    "    for (pickup_, dest_, mean_tr_time, hod_) in hourly_pickup_to_dest_travel_times[\n",
    "        ['Pickup city','Destination city','mean_travel_time','hod']].values:\n",
    "\n",
    "        if (pickup == pickup_ and dest == dest_ and hod == hod_):\n",
    "            pickup_city_list.append(pickup)\n",
    "            destination_list.append(dest)\n",
    "            mean_travel_time_list.append(mean_tr_time)\n",
    "            hour_of_day.append(hod)"
   ]
  },
  {
   "cell_type": "code",
   "execution_count": 91,
   "metadata": {},
   "outputs": [],
   "source": [
    "train_hourly_time_travel= pd.DataFrame([pickup_city_list,destination_list, hour_of_day, mean_travel_time_list]).T\n",
    "train_hourly_time_travel.columns= ['Pickup_city','Destination_city', 'hr_of_day', 'hourly_travel_time']"
   ]
  },
  {
   "cell_type": "raw",
   "metadata": {},
   "source": [
    "%%time\n",
    "#for test data\n",
    "pickup_city_list = []\n",
    "destination_list = []\n",
    "mean_travel_time_list = []\n",
    "hour_of_day = []\n",
    "\n",
    "for (pickup, dest, hod) in test_pickup_dest_cities[\n",
    "        ['Pickup_city','Destination_city', 'hr_of_day']].values:\n",
    "    for (pickup_, dest_, mean_tr_time, hod_) in hourly_pickup_to_dest_travel_times[\n",
    "        ['Pickup city','Destination city','mean_travel_time','hod']].values:\n",
    "\n",
    "        if (pickup == pickup_ and dest == dest_ and hod == hod_):\n",
    "            pickup_city_list.append(pickup)\n",
    "            destination_list.append(dest)\n",
    "            mean_travel_time_list.append(mean_tr_time)\n",
    "            hour_of_day.append(hod)"
   ]
  },
  {
   "cell_type": "code",
   "execution_count": 94,
   "metadata": {},
   "outputs": [],
   "source": [
    "test_hourly_time_travel= pd.DataFrame([pickup_city_list,destination_list, hour_of_day, mean_travel_time_list]).T\n",
    "test_hourly_time_travel.columns= ['Pickup_city','Destination_city', 'hr_of_day', 'hourly_travel_time']"
   ]
  },
  {
   "cell_type": "code",
   "execution_count": 109,
   "metadata": {},
   "outputs": [],
   "source": []
  },
  {
   "cell_type": "code",
   "execution_count": 115,
   "metadata": {},
   "outputs": [
    {
     "name": "stdout",
     "output_type": "stream",
     "text": [
      "For the training data there are 2155 pickup and destination cities without hourly time travels\n",
      "For the test data there are 718 pickup and destination cities without hourly time travels\n"
     ]
    }
   ],
   "source": [
    "print('For the training data there are {} pickup and destination cities without hourly time travels'.format(2155))\n",
    "print('For the test data there are {} pickup and destination cities without hourly time travels'.format(718))"
   ]
  },
  {
   "cell_type": "markdown",
   "metadata": {},
   "source": [
    "Merging the dataframes of the grouped pickup and destination cities with their travel times to the main train and test data."
   ]
  },
  {
   "cell_type": "code",
   "execution_count": 117,
   "metadata": {},
   "outputs": [],
   "source": [
    "train = pd.merge(train, train_hourly_time_travel, on=['Pickup_city','Destination_city','hr_of_day'], how='left')\n",
    "test = pd.merge(test, test_hourly_time_travel, on=['Pickup_city','Destination_city', 'hr_of_day'], how='left')"
   ]
  },
  {
   "cell_type": "markdown",
   "metadata": {},
   "source": [
    "converting the modified training and testing data to csv files"
   ]
  },
  {
   "cell_type": "code",
   "execution_count": 120,
   "metadata": {},
   "outputs": [],
   "source": [
    "train.to_csv(r'./sendy_logistics/train_modified.csv', index=False)\n",
    "test.to_csv(r'./sendy_logistics/test_modified.csv', index=False)"
   ]
  },
  {
   "cell_type": "markdown",
   "metadata": {},
   "source": [
    "<h4>Importing the modified training and test sets</h4>"
   ]
  },
  {
   "cell_type": "code",
   "execution_count": 121,
   "metadata": {},
   "outputs": [],
   "source": [
    "train = pd.read_csv(r'./sendy_logistics/train_modified.csv')\n",
    "test = pd.read_csv(r'./sendy_logistics/test_modified.csv')"
   ]
  },
  {
   "cell_type": "code",
   "execution_count": 122,
   "metadata": {},
   "outputs": [
    {
     "data": {
      "text/plain": [
       "((21201, 34), (7068, 30))"
      ]
     },
     "execution_count": 122,
     "metadata": {},
     "output_type": "execute_result"
    }
   ],
   "source": [
    "train.shape, test.shape"
   ]
  },
  {
   "cell_type": "markdown",
   "metadata": {},
   "source": [
    "<b>Clustering</b>"
   ]
  },
  {
   "cell_type": "markdown",
   "metadata": {},
   "source": [
    "For coordinates with null values we will first cluster all coordinates and group them into clusters then take the mean and standard deviations of the time travels in those clusters"
   ]
  },
  {
   "cell_type": "markdown",
   "metadata": {},
   "source": [
    "Training and test data with Not null pickup and destination cities"
   ]
  },
  {
   "cell_type": "code",
   "execution_count": 123,
   "metadata": {},
   "outputs": [],
   "source": [
    "train_long_lat_not_null = train[(train.Pickup_city.notnull())&(train.Destination_city.notnull())]\n",
    "[['Pickup Long', 'Pickup Lat', 'Destination Long', 'Destination Lat']\n",
    "]\n",
    "\n",
    "test_long_lat_not_null = test[(test.Pickup_city.notnull())&(test.Destination_city.notnull())][\n",
    "    ['Pickup Long', 'Pickup Lat','Destination Long', 'Destination Lat']\n",
    "]"
   ]
  },
  {
   "cell_type": "markdown",
   "metadata": {},
   "source": [
    "Training and test data with null pickup and destination cities"
   ]
  },
  {
   "cell_type": "code",
   "execution_count": 124,
   "metadata": {},
   "outputs": [
    {
     "data": {
      "text/plain": [
       "[['Pickup Long', 'Pickup Lat', 'Destination Long', 'Destination Lat']]"
      ]
     },
     "execution_count": 124,
     "metadata": {},
     "output_type": "execute_result"
    }
   ],
   "source": [
    "train_long_lat_null = train[~((train.Pickup_city.notnull())&(train.Destination_city.notnull()))]\n",
    "[\n",
    "    ['Pickup Long', 'Pickup Lat', 'Destination Long', 'Destination Lat']\n",
    "]\n",
    "\n",
    "test_long_lat_null = test[~((test.Pickup_city.notnull())&(test.Destination_city.notnull()))]\n",
    "[\n",
    "    ['Pickup Long', 'Pickup Lat', 'Destination Long', 'Destination Lat']\n",
    "]\n"
   ]
  },
  {
   "cell_type": "code",
   "execution_count": 125,
   "metadata": {},
   "outputs": [
    {
     "name": "stdout",
     "output_type": "stream",
     "text": [
      "Training data with null Pickup and destination cities are 1122 in number while that for the testing data are 370 in number.\n"
     ]
    }
   ],
   "source": [
    "print('Training data with null Pickup and destination cities are {} in number while that for the testing data are {} \\\n",
    "in number.'.format((353+769), (118+252)))"
   ]
  },
  {
   "cell_type": "markdown",
   "metadata": {},
   "source": [
    "Plotting pickup and destination coordinates (with not null and null cities)"
   ]
  },
  {
   "cell_type": "code",
   "execution_count": 126,
   "metadata": {},
   "outputs": [
    {
     "data": {
      "image/png": "[encoded data removed]",
      "text/plain": [
       "<Figure size 432x288 with 1 Axes>"
      ]
     },
     "metadata": {
      "needs_background": "light"
     },
     "output_type": "display_data"
    }
   ],
   "source": [
    "ax= train_long_lat_not_null[['Pickup Long','Pickup Lat']].plot.scatter(x='Pickup Long', y='Pickup Lat',c='r')\n",
    "\n",
    "train_long_lat_not_null[['Destination Long', 'Destination Lat']].plot.scatter(\n",
    "    x='Destination Long', y='Destination Lat', color='g',ax=ax)\n",
    "\n",
    "train_long_lat_null[['Pickup Long', 'Pickup Lat']].plot.scatter(x='Pickup Long', y='Pickup Lat', c='b', ax=ax)\n",
    "\n",
    "train_long_lat_null[['Destination Long', 'Destination Lat']].plot.scatter(x='Destination Long', y='Destination Lat', \n",
    "                                                                          color='y',ax=ax)\n",
    "\n",
    "plt.title('Scatter plot showing the pickup and destination coordinates for \\\n",
    "training data with null and without null cities',fontsize=13)\n",
    "plt.legend(labels=['Pickup_not_null','Destination_not_null','Pickup_null','Destination_null'], loc=[1.,0.4],ncol=1,\n",
    "           fontsize=11, title='LEGEND', title_fontsize=12, fancybox=True)\n",
    "plt.xlabel('Longitude')\n",
    "plt.ylabel('Latitude');"
   ]
  },
  {
   "cell_type": "code",
   "execution_count": 127,
   "metadata": {},
   "outputs": [],
   "source": [
    "from sklearn.cluster import KMeans\n",
    "from sklearn.metrics import silhouette_score"
   ]
  },
  {
   "cell_type": "code",
   "execution_count": 128,
   "metadata": {},
   "outputs": [],
   "source": [
    "from sklearn.preprocessing import StandardScaler\n",
    "from sklearn.pipeline import Pipeline"
   ]
  },
  {
   "cell_type": "code",
   "execution_count": 129,
   "metadata": {},
   "outputs": [],
   "source": [
    "scaler = StandardScaler()"
   ]
  },
  {
   "cell_type": "code",
   "execution_count": 130,
   "metadata": {},
   "outputs": [
    {
     "name": "stdout",
     "output_type": "stream",
     "text": [
      "Wall time: 5min 31s\n"
     ]
    }
   ],
   "source": [
    "%%time\n",
    "cluster_list = []\n",
    "silhouette_score_list= []\n",
    "for cluster in range(2,30):\n",
    "    kmeans = KMeans(n_clusters=cluster, random_state=3, max_iter=500, n_init=10)\n",
    "    kmeans_pl = Pipeline([('scaler', scaler), ('kmeans',kmeans)])\n",
    "    kmeans_pl.fit(train[['Pickup Long', 'Pickup Lat', 'Destination Long', 'Destination Lat']])\n",
    "    cluster_list.append(kmeans.inertia_)\n",
    "    silhouette_score_list.append(silhouette_score(train[['Pickup Long', 'Pickup Lat', \n",
    "                                                         'Destination Long', 'Destination Lat']], kmeans.labels_))"
   ]
  },
  {
   "cell_type": "code",
   "execution_count": 131,
   "metadata": {
    "scrolled": false
   },
   "outputs": [
    {
     "data": {
      "image/png": "[encoded data removed]",
      "text/plain": [
       "<Figure size 432x288 with 1 Axes>"
      ]
     },
     "metadata": {
      "needs_background": "light"
     },
     "output_type": "display_data"
    }
   ],
   "source": [
    "plt.plot(range(2,30), cluster_list, 'o-')\n",
    "plt.axvline(6, color='c', ls='--')\n",
    "plt.axvline(7, color='r', ls='--')\n",
    "plt.axvline(8, color='g', ls='--')\n",
    "plt.axvline(9, color='y', ls='--')\n",
    "plt.title('Scree plot for the best cluster');"
   ]
  },
  {
   "cell_type": "code",
   "execution_count": 132,
   "metadata": {},
   "outputs": [
    {
     "data": {
      "image/png": "[encoded data removed]",
      "text/plain": [
       "<Figure size 432x288 with 1 Axes>"
      ]
     },
     "metadata": {
      "needs_background": "light"
     },
     "output_type": "display_data"
    }
   ],
   "source": [
    "plt.plot(range(2,30), silhouette_score_list, 'x-')\n",
    "plt.axvline(6, color='c', ls='--')\n",
    "plt.axvline(7, color='r', ls='--')\n",
    "plt.axvline(8, color='g', ls='--')\n",
    "plt.axvline(9, color='y', ls='--')\n",
    "plt.title('Silhouette scores for all 30 clusters');"
   ]
  },
  {
   "cell_type": "markdown",
   "metadata": {},
   "source": [
    "From the selection we see that the best cluster groups is 7"
   ]
  },
  {
   "cell_type": "code",
   "execution_count": 133,
   "metadata": {},
   "outputs": [],
   "source": [
    "kmeans = KMeans(n_clusters=7, random_state=3, max_iter=500, n_init=10)\n",
    "kmeans_pl = Pipeline([('scaler', scaler), ('kmeans',kmeans)])\n",
    "fit = kmeans_pl.fit(train[['Pickup Long', 'Pickup Lat', 'Destination Long', 'Destination Lat']])"
   ]
  },
  {
   "cell_type": "code",
   "execution_count": 134,
   "metadata": {},
   "outputs": [
    {
     "data": {
      "image/png": "[encoded data removed]",
      "text/plain": [
       "<Figure size 432x288 with 1 Axes>"
      ]
     },
     "metadata": {
      "needs_background": "light"
     },
     "output_type": "display_data"
    }
   ],
   "source": [
    "plt.scatter(train['Pickup Long'],  train['Pickup Lat'], c= kmeans.labels_);"
   ]
  },
  {
   "cell_type": "code",
   "execution_count": 135,
   "metadata": {},
   "outputs": [],
   "source": [
    "train_cluster_gp = kmeans_pl.predict(train[['Pickup Long', 'Pickup Lat', 'Destination Long', 'Destination Lat']])\n",
    "test_cluster_gp = kmeans_pl.predict(test[['Pickup Long', 'Pickup Lat', 'Destination Long', 'Destination Lat']])"
   ]
  },
  {
   "cell_type": "code",
   "execution_count": 136,
   "metadata": {},
   "outputs": [],
   "source": [
    "train['cluster_gp'] = train_cluster_gp\n",
    "test['cluster_gp'] = test_cluster_gp"
   ]
  },
  {
   "cell_type": "markdown",
   "metadata": {},
   "source": [
    "### Filling null values"
   ]
  },
  {
   "cell_type": "markdown",
   "metadata": {},
   "source": [
    "Group the coordinates by their clusters and fill in the coordinates with no cities with their mean and standard deviation travel times"
   ]
  },
  {
   "cell_type": "markdown",
   "metadata": {},
   "source": [
    "<h4>Grouping the travel times by clusters</h4>"
   ]
  },
  {
   "cell_type": "code",
   "execution_count": 137,
   "metadata": {},
   "outputs": [
    {
     "data": {
      "text/html": [
       "<div>\n",
       "<style scoped>\n",
       "    .dataframe tbody tr th:only-of-type {\n",
       "        vertical-align: middle;\n",
       "    }\n",
       "\n",
       "    .dataframe tbody tr th {\n",
       "        vertical-align: top;\n",
       "    }\n",
       "\n",
       "    .dataframe thead th {\n",
       "        text-align: right;\n",
       "    }\n",
       "</style>\n",
       "<table border=\"1\" class=\"dataframe\">\n",
       "  <thead>\n",
       "    <tr style=\"text-align: right;\">\n",
       "      <th></th>\n",
       "      <th>Order No</th>\n",
       "      <th>User Id</th>\n",
       "      <th>Vehicle Type</th>\n",
       "      <th>Platform Type</th>\n",
       "      <th>Personal or Business</th>\n",
       "      <th>Placement - Day of Month</th>\n",
       "      <th>Placement - Weekday (Mo = 1)</th>\n",
       "      <th>Placement - Time</th>\n",
       "      <th>Confirmation - Day of Month</th>\n",
       "      <th>Confirmation - Weekday (Mo = 1)</th>\n",
       "      <th>Confirmation - Time</th>\n",
       "      <th>Arrival at Pickup - Day of Month</th>\n",
       "      <th>Arrival at Pickup - Weekday (Mo = 1)</th>\n",
       "      <th>Arrival at Pickup - Time</th>\n",
       "      <th>Pickup - Day of Month</th>\n",
       "      <th>Pickup - Weekday (Mo = 1)</th>\n",
       "      <th>Pickup - Time</th>\n",
       "      <th>Arrival at Destination - Day of Month</th>\n",
       "      <th>Arrival at Destination - Weekday (Mo = 1)</th>\n",
       "      <th>Arrival at Destination - Time</th>\n",
       "      <th>Distance (KM)</th>\n",
       "      <th>Temperature</th>\n",
       "      <th>Precipitation in millimeters</th>\n",
       "      <th>Pickup Lat</th>\n",
       "      <th>Pickup Long</th>\n",
       "      <th>Destination Lat</th>\n",
       "      <th>Destination Long</th>\n",
       "      <th>Rider Id</th>\n",
       "      <th>Time from Pickup to Arrival</th>\n",
       "      <th>hr_of_day</th>\n",
       "      <th>pickup_min</th>\n",
       "      <th>Destination_city</th>\n",
       "      <th>Pickup_city</th>\n",
       "      <th>hourly_travel_time</th>\n",
       "      <th>cluster_gp</th>\n",
       "    </tr>\n",
       "  </thead>\n",
       "  <tbody>\n",
       "    <tr>\n",
       "      <td>0</td>\n",
       "      <td>Order_No_4211</td>\n",
       "      <td>User_Id_633</td>\n",
       "      <td>Bike</td>\n",
       "      <td>3</td>\n",
       "      <td>Business</td>\n",
       "      <td>9</td>\n",
       "      <td>5</td>\n",
       "      <td>9:35:46 AM</td>\n",
       "      <td>9</td>\n",
       "      <td>5</td>\n",
       "      <td>9:40:10 AM</td>\n",
       "      <td>9</td>\n",
       "      <td>5</td>\n",
       "      <td>10:04:47 AM</td>\n",
       "      <td>9</td>\n",
       "      <td>5</td>\n",
       "      <td>10:27:30 AM</td>\n",
       "      <td>9</td>\n",
       "      <td>5</td>\n",
       "      <td>10:39:55 AM</td>\n",
       "      <td>4</td>\n",
       "      <td>20.4</td>\n",
       "      <td>NaN</td>\n",
       "      <td>-1.317755</td>\n",
       "      <td>36.830370</td>\n",
       "      <td>-1.300406</td>\n",
       "      <td>36.829741</td>\n",
       "      <td>Rider_Id_432</td>\n",
       "      <td>745</td>\n",
       "      <td>10</td>\n",
       "      <td>627</td>\n",
       "      <td>Landmawe</td>\n",
       "      <td>South 'c'</td>\n",
       "      <td>817.300000</td>\n",
       "      <td>3</td>\n",
       "    </tr>\n",
       "    <tr>\n",
       "      <td>1</td>\n",
       "      <td>Order_No_25375</td>\n",
       "      <td>User_Id_2285</td>\n",
       "      <td>Bike</td>\n",
       "      <td>3</td>\n",
       "      <td>Personal</td>\n",
       "      <td>12</td>\n",
       "      <td>5</td>\n",
       "      <td>11:16:16 AM</td>\n",
       "      <td>12</td>\n",
       "      <td>5</td>\n",
       "      <td>11:23:21 AM</td>\n",
       "      <td>12</td>\n",
       "      <td>5</td>\n",
       "      <td>11:40:22 AM</td>\n",
       "      <td>12</td>\n",
       "      <td>5</td>\n",
       "      <td>11:44:09 AM</td>\n",
       "      <td>12</td>\n",
       "      <td>5</td>\n",
       "      <td>12:17:22 PM</td>\n",
       "      <td>16</td>\n",
       "      <td>26.4</td>\n",
       "      <td>NaN</td>\n",
       "      <td>-1.351453</td>\n",
       "      <td>36.899315</td>\n",
       "      <td>-1.295004</td>\n",
       "      <td>36.814358</td>\n",
       "      <td>Rider_Id_856</td>\n",
       "      <td>1993</td>\n",
       "      <td>11</td>\n",
       "      <td>704</td>\n",
       "      <td>Kenyatta</td>\n",
       "      <td>Embakasi</td>\n",
       "      <td>2106.170000</td>\n",
       "      <td>3</td>\n",
       "    </tr>\n",
       "    <tr>\n",
       "      <td>2</td>\n",
       "      <td>Order_No_1899</td>\n",
       "      <td>User_Id_265</td>\n",
       "      <td>Bike</td>\n",
       "      <td>3</td>\n",
       "      <td>Business</td>\n",
       "      <td>30</td>\n",
       "      <td>2</td>\n",
       "      <td>12:39:25 PM</td>\n",
       "      <td>30</td>\n",
       "      <td>2</td>\n",
       "      <td>12:42:44 PM</td>\n",
       "      <td>30</td>\n",
       "      <td>2</td>\n",
       "      <td>12:49:34 PM</td>\n",
       "      <td>30</td>\n",
       "      <td>2</td>\n",
       "      <td>12:53:03 PM</td>\n",
       "      <td>30</td>\n",
       "      <td>2</td>\n",
       "      <td>1:00:38 PM</td>\n",
       "      <td>3</td>\n",
       "      <td>NaN</td>\n",
       "      <td>NaN</td>\n",
       "      <td>-1.308284</td>\n",
       "      <td>36.843419</td>\n",
       "      <td>-1.300921</td>\n",
       "      <td>36.828195</td>\n",
       "      <td>Rider_Id_155</td>\n",
       "      <td>455</td>\n",
       "      <td>12</td>\n",
       "      <td>773</td>\n",
       "      <td>Landmawe</td>\n",
       "      <td>Landmawe</td>\n",
       "      <td>NaN</td>\n",
       "      <td>3</td>\n",
       "    </tr>\n",
       "    <tr>\n",
       "      <td>3</td>\n",
       "      <td>Order_No_9336</td>\n",
       "      <td>User_Id_1402</td>\n",
       "      <td>Bike</td>\n",
       "      <td>3</td>\n",
       "      <td>Business</td>\n",
       "      <td>15</td>\n",
       "      <td>5</td>\n",
       "      <td>9:25:34 AM</td>\n",
       "      <td>15</td>\n",
       "      <td>5</td>\n",
       "      <td>9:26:05 AM</td>\n",
       "      <td>15</td>\n",
       "      <td>5</td>\n",
       "      <td>9:37:56 AM</td>\n",
       "      <td>15</td>\n",
       "      <td>5</td>\n",
       "      <td>9:43:06 AM</td>\n",
       "      <td>15</td>\n",
       "      <td>5</td>\n",
       "      <td>10:05:27 AM</td>\n",
       "      <td>9</td>\n",
       "      <td>19.2</td>\n",
       "      <td>NaN</td>\n",
       "      <td>-1.281301</td>\n",
       "      <td>36.832396</td>\n",
       "      <td>-1.257147</td>\n",
       "      <td>36.795063</td>\n",
       "      <td>Rider_Id_855</td>\n",
       "      <td>1341</td>\n",
       "      <td>9</td>\n",
       "      <td>583</td>\n",
       "      <td>Upper Parklands</td>\n",
       "      <td>Ziwani/kariokor</td>\n",
       "      <td>1292.280000</td>\n",
       "      <td>0</td>\n",
       "    </tr>\n",
       "    <tr>\n",
       "      <td>4</td>\n",
       "      <td>Order_No_27883</td>\n",
       "      <td>User_Id_1737</td>\n",
       "      <td>Bike</td>\n",
       "      <td>1</td>\n",
       "      <td>Personal</td>\n",
       "      <td>13</td>\n",
       "      <td>1</td>\n",
       "      <td>9:55:18 AM</td>\n",
       "      <td>13</td>\n",
       "      <td>1</td>\n",
       "      <td>9:56:18 AM</td>\n",
       "      <td>13</td>\n",
       "      <td>1</td>\n",
       "      <td>10:03:53 AM</td>\n",
       "      <td>13</td>\n",
       "      <td>1</td>\n",
       "      <td>10:05:23 AM</td>\n",
       "      <td>13</td>\n",
       "      <td>1</td>\n",
       "      <td>10:25:37 AM</td>\n",
       "      <td>9</td>\n",
       "      <td>15.4</td>\n",
       "      <td>NaN</td>\n",
       "      <td>-1.266597</td>\n",
       "      <td>36.792118</td>\n",
       "      <td>-1.295041</td>\n",
       "      <td>36.809817</td>\n",
       "      <td>Rider_Id_770</td>\n",
       "      <td>1214</td>\n",
       "      <td>10</td>\n",
       "      <td>605</td>\n",
       "      <td>Kilimani</td>\n",
       "      <td>Muthangari</td>\n",
       "      <td>1006.988571</td>\n",
       "      <td>0</td>\n",
       "    </tr>\n",
       "  </tbody>\n",
       "</table>\n",
       "</div>"
      ],
      "text/plain": [
       "         Order No       User Id Vehicle Type  Platform Type  \\\n",
       "0   Order_No_4211   User_Id_633         Bike              3   \n",
       "1  Order_No_25375  User_Id_2285         Bike              3   \n",
       "2   Order_No_1899   User_Id_265         Bike              3   \n",
       "3   Order_No_9336  User_Id_1402         Bike              3   \n",
       "4  Order_No_27883  User_Id_1737         Bike              1   \n",
       "\n",
       "  Personal or Business  Placement - Day of Month  \\\n",
       "0             Business                         9   \n",
       "1             Personal                        12   \n",
       "2             Business                        30   \n",
       "3             Business                        15   \n",
       "4             Personal                        13   \n",
       "\n",
       "   Placement - Weekday (Mo = 1) Placement - Time  Confirmation - Day of Month  \\\n",
       "0                             5       9:35:46 AM                            9   \n",
       "1                             5      11:16:16 AM                           12   \n",
       "2                             2      12:39:25 PM                           30   \n",
       "3                             5       9:25:34 AM                           15   \n",
       "4                             1       9:55:18 AM                           13   \n",
       "\n",
       "   Confirmation - Weekday (Mo = 1) Confirmation - Time  \\\n",
       "0                                5          9:40:10 AM   \n",
       "1                                5         11:23:21 AM   \n",
       "2                                2         12:42:44 PM   \n",
       "3                                5          9:26:05 AM   \n",
       "4                                1          9:56:18 AM   \n",
       "\n",
       "   Arrival at Pickup - Day of Month  Arrival at Pickup - Weekday (Mo = 1)  \\\n",
       "0                                 9                                     5   \n",
       "1                                12                                     5   \n",
       "2                                30                                     2   \n",
       "3                                15                                     5   \n",
       "4                                13                                     1   \n",
       "\n",
       "  Arrival at Pickup - Time  Pickup - Day of Month  Pickup - Weekday (Mo = 1)  \\\n",
       "0              10:04:47 AM                      9                          5   \n",
       "1              11:40:22 AM                     12                          5   \n",
       "2              12:49:34 PM                     30                          2   \n",
       "3               9:37:56 AM                     15                          5   \n",
       "4              10:03:53 AM                     13                          1   \n",
       "\n",
       "  Pickup - Time  Arrival at Destination - Day of Month  \\\n",
       "0   10:27:30 AM                                      9   \n",
       "1   11:44:09 AM                                     12   \n",
       "2   12:53:03 PM                                     30   \n",
       "3    9:43:06 AM                                     15   \n",
       "4   10:05:23 AM                                     13   \n",
       "\n",
       "   Arrival at Destination - Weekday (Mo = 1) Arrival at Destination - Time  \\\n",
       "0                                          5                   10:39:55 AM   \n",
       "1                                          5                   12:17:22 PM   \n",
       "2                                          2                    1:00:38 PM   \n",
       "3                                          5                   10:05:27 AM   \n",
       "4                                          1                   10:25:37 AM   \n",
       "\n",
       "   Distance (KM)  Temperature  Precipitation in millimeters  Pickup Lat  \\\n",
       "0              4         20.4                           NaN   -1.317755   \n",
       "1             16         26.4                           NaN   -1.351453   \n",
       "2              3          NaN                           NaN   -1.308284   \n",
       "3              9         19.2                           NaN   -1.281301   \n",
       "4              9         15.4                           NaN   -1.266597   \n",
       "\n",
       "   Pickup Long  Destination Lat  Destination Long      Rider Id  \\\n",
       "0    36.830370        -1.300406         36.829741  Rider_Id_432   \n",
       "1    36.899315        -1.295004         36.814358  Rider_Id_856   \n",
       "2    36.843419        -1.300921         36.828195  Rider_Id_155   \n",
       "3    36.832396        -1.257147         36.795063  Rider_Id_855   \n",
       "4    36.792118        -1.295041         36.809817  Rider_Id_770   \n",
       "\n",
       "   Time from Pickup to Arrival  hr_of_day  pickup_min Destination_city  \\\n",
       "0                          745         10         627         Landmawe   \n",
       "1                         1993         11         704         Kenyatta   \n",
       "2                          455         12         773         Landmawe   \n",
       "3                         1341          9         583  Upper Parklands   \n",
       "4                         1214         10         605         Kilimani   \n",
       "\n",
       "       Pickup_city  hourly_travel_time  cluster_gp  \n",
       "0        South 'c'          817.300000           3  \n",
       "1         Embakasi         2106.170000           3  \n",
       "2         Landmawe                 NaN           3  \n",
       "3  Ziwani/kariokor         1292.280000           0  \n",
       "4       Muthangari         1006.988571           0  "
      ]
     },
     "execution_count": 137,
     "metadata": {},
     "output_type": "execute_result"
    }
   ],
   "source": [
    "train.head()"
   ]
  },
  {
   "cell_type": "code",
   "execution_count": 138,
   "metadata": {},
   "outputs": [],
   "source": [
    "train_mean_travel_times_by_cluster = train[\n",
    "    ['hourly_travel_time','cluster_gp'\n",
    "    ]\n",
    "].groupby('cluster_gp').agg(['mean']).reset_index()\n",
    "\n",
    "\n",
    "train_mean_travel_times_by_cluster.columns = ['cluster_gp','hourly_travel_time_by_cluster']"
   ]
  },
  {
   "cell_type": "code",
   "execution_count": 139,
   "metadata": {},
   "outputs": [],
   "source": [
    "test_mean_travel_times_by_cluster = test[\n",
    "    [\n",
    "        'hourly_travel_time', 'cluster_gp'\n",
    "    ]\n",
    "].groupby('cluster_gp').agg(['mean']).reset_index()\n",
    "\n",
    "\n",
    "test_mean_travel_times_by_cluster.columns = ['cluster_gp','hourly_travel_time_by_cluster']"
   ]
  },
  {
   "cell_type": "code",
   "execution_count": 140,
   "metadata": {},
   "outputs": [
    {
     "data": {
      "text/html": [
       "<div>\n",
       "<style scoped>\n",
       "    .dataframe tbody tr th:only-of-type {\n",
       "        vertical-align: middle;\n",
       "    }\n",
       "\n",
       "    .dataframe tbody tr th {\n",
       "        vertical-align: top;\n",
       "    }\n",
       "\n",
       "    .dataframe thead th {\n",
       "        text-align: right;\n",
       "    }\n",
       "</style>\n",
       "<table border=\"1\" class=\"dataframe\">\n",
       "  <thead>\n",
       "    <tr style=\"text-align: right;\">\n",
       "      <th></th>\n",
       "      <th>cluster_gp</th>\n",
       "      <th>hourly_travel_time_by_cluster</th>\n",
       "    </tr>\n",
       "  </thead>\n",
       "  <tbody>\n",
       "    <tr>\n",
       "      <td>0</td>\n",
       "      <td>0</td>\n",
       "      <td>1092.468414</td>\n",
       "    </tr>\n",
       "    <tr>\n",
       "      <td>1</td>\n",
       "      <td>1</td>\n",
       "      <td>2029.205727</td>\n",
       "    </tr>\n",
       "    <tr>\n",
       "      <td>2</td>\n",
       "      <td>2</td>\n",
       "      <td>1450.780106</td>\n",
       "    </tr>\n",
       "    <tr>\n",
       "      <td>3</td>\n",
       "      <td>3</td>\n",
       "      <td>1573.693701</td>\n",
       "    </tr>\n",
       "    <tr>\n",
       "      <td>4</td>\n",
       "      <td>4</td>\n",
       "      <td>1727.736784</td>\n",
       "    </tr>\n",
       "    <tr>\n",
       "      <td>5</td>\n",
       "      <td>5</td>\n",
       "      <td>1392.530947</td>\n",
       "    </tr>\n",
       "    <tr>\n",
       "      <td>6</td>\n",
       "      <td>6</td>\n",
       "      <td>1593.660850</td>\n",
       "    </tr>\n",
       "  </tbody>\n",
       "</table>\n",
       "</div>"
      ],
      "text/plain": [
       "   cluster_gp  hourly_travel_time_by_cluster\n",
       "0           0                    1092.468414\n",
       "1           1                    2029.205727\n",
       "2           2                    1450.780106\n",
       "3           3                    1573.693701\n",
       "4           4                    1727.736784\n",
       "5           5                    1392.530947\n",
       "6           6                    1593.660850"
      ]
     },
     "execution_count": 140,
     "metadata": {},
     "output_type": "execute_result"
    }
   ],
   "source": [
    "train_mean_travel_times_by_cluster"
   ]
  },
  {
   "cell_type": "code",
   "execution_count": 141,
   "metadata": {},
   "outputs": [
    {
     "data": {
      "text/html": [
       "<div>\n",
       "<style scoped>\n",
       "    .dataframe tbody tr th:only-of-type {\n",
       "        vertical-align: middle;\n",
       "    }\n",
       "\n",
       "    .dataframe tbody tr th {\n",
       "        vertical-align: top;\n",
       "    }\n",
       "\n",
       "    .dataframe thead th {\n",
       "        text-align: right;\n",
       "    }\n",
       "</style>\n",
       "<table border=\"1\" class=\"dataframe\">\n",
       "  <thead>\n",
       "    <tr style=\"text-align: right;\">\n",
       "      <th></th>\n",
       "      <th>cluster_gp</th>\n",
       "      <th>hourly_travel_time_by_cluster</th>\n",
       "    </tr>\n",
       "  </thead>\n",
       "  <tbody>\n",
       "    <tr>\n",
       "      <td>0</td>\n",
       "      <td>0</td>\n",
       "      <td>1088.208672</td>\n",
       "    </tr>\n",
       "    <tr>\n",
       "      <td>1</td>\n",
       "      <td>1</td>\n",
       "      <td>2041.568746</td>\n",
       "    </tr>\n",
       "    <tr>\n",
       "      <td>2</td>\n",
       "      <td>2</td>\n",
       "      <td>1469.013113</td>\n",
       "    </tr>\n",
       "    <tr>\n",
       "      <td>3</td>\n",
       "      <td>3</td>\n",
       "      <td>1592.307534</td>\n",
       "    </tr>\n",
       "    <tr>\n",
       "      <td>4</td>\n",
       "      <td>4</td>\n",
       "      <td>1691.830483</td>\n",
       "    </tr>\n",
       "    <tr>\n",
       "      <td>5</td>\n",
       "      <td>5</td>\n",
       "      <td>1402.869242</td>\n",
       "    </tr>\n",
       "    <tr>\n",
       "      <td>6</td>\n",
       "      <td>6</td>\n",
       "      <td>1655.312762</td>\n",
       "    </tr>\n",
       "  </tbody>\n",
       "</table>\n",
       "</div>"
      ],
      "text/plain": [
       "   cluster_gp  hourly_travel_time_by_cluster\n",
       "0           0                    1088.208672\n",
       "1           1                    2041.568746\n",
       "2           2                    1469.013113\n",
       "3           3                    1592.307534\n",
       "4           4                    1691.830483\n",
       "5           5                    1402.869242\n",
       "6           6                    1655.312762"
      ]
     },
     "execution_count": 141,
     "metadata": {},
     "output_type": "execute_result"
    }
   ],
   "source": [
    "test_mean_travel_times_by_cluster"
   ]
  },
  {
   "cell_type": "markdown",
   "metadata": {},
   "source": [
    "Creating null and not null training and test sets. Then replace the hourly, weekly and monthly mean travel times with the clustered mean times. Finally, we will concatenate them to reform the training and test sets"
   ]
  },
  {
   "cell_type": "markdown",
   "metadata": {},
   "source": [
    "<b>Null and non-null train hourly, weekly and monthly mean travel times</b>"
   ]
  },
  {
   "cell_type": "markdown",
   "metadata": {},
   "source": [
    "training set"
   ]
  },
  {
   "cell_type": "code",
   "execution_count": 142,
   "metadata": {},
   "outputs": [],
   "source": [
    "train_not_null = train[~(train.hourly_travel_time.isnull())]\n",
    "\n",
    "train_is_null = train[(train.hourly_travel_time.isnull())]"
   ]
  },
  {
   "cell_type": "code",
   "execution_count": 144,
   "metadata": {},
   "outputs": [],
   "source": [
    "cluster_list= []\n",
    "hourly_mt = []\n",
    "weekly_mt = []\n",
    "monthly_mt = []\n",
    "\n",
    "for (cluster_gp, hourly_travel_time) in train[\n",
    "    ['cluster_gp', 'hourly_travel_time']].values:\n",
    "    \n",
    "    for (cluster_gp_, hourly_cluster_mean_travel_time) in train_mean_travel_times_by_cluster[\n",
    "    ['cluster_gp', 'hourly_travel_time_by_cluster']\n",
    "    ].values:\n",
    "        \n",
    "        if cluster_gp == cluster_gp_ and np.isnan(hourly_travel_time):\n",
    "            hourly_mt.append(hourly_cluster_mean_travel_time)"
   ]
  },
  {
   "cell_type": "code",
   "execution_count": 145,
   "metadata": {},
   "outputs": [
    {
     "data": {
      "text/plain": [
       "2155"
      ]
     },
     "execution_count": 145,
     "metadata": {},
     "output_type": "execute_result"
    }
   ],
   "source": [
    "len(hourly_mt)"
   ]
  },
  {
   "cell_type": "markdown",
   "metadata": {},
   "source": [
    "replacing the null values for the training set"
   ]
  },
  {
   "cell_type": "code",
   "execution_count": 147,
   "metadata": {},
   "outputs": [],
   "source": [
    "train['hourly_travel_time'][train.hourly_travel_time.isnull()] = hourly_mt"
   ]
  },
  {
   "cell_type": "markdown",
   "metadata": {},
   "source": [
    "<b>Null and Non Null hourly, weekly and monthly travel times</b>\n",
    "<p>Test set</p>"
   ]
  },
  {
   "cell_type": "code",
   "execution_count": 148,
   "metadata": {},
   "outputs": [],
   "source": [
    "test_is_null = test[(test.hourly_travel_time.isnull())]\n",
    "\n",
    "test_not_null = test[~(test.hourly_travel_time.isnull())]"
   ]
  },
  {
   "cell_type": "code",
   "execution_count": 150,
   "metadata": {},
   "outputs": [],
   "source": [
    "cluster_list= []\n",
    "hourly_mt = []\n",
    "\n",
    "for (cluster_gp, hourly_travel_time) in test[\n",
    "    ['cluster_gp', 'hourly_travel_time']\n",
    "].values:\n",
    "    \n",
    "    for (cluster_gp_, hourly_cluster_mean_travel_time) in test_mean_travel_times_by_cluster[\n",
    "    ['cluster_gp', 'hourly_travel_time_by_cluster']\n",
    "    ].values:\n",
    "        \n",
    "        if cluster_gp == cluster_gp_ and np.isnan(hourly_travel_time):\n",
    "            hourly_mt.append(hourly_cluster_mean_travel_time)"
   ]
  },
  {
   "cell_type": "code",
   "execution_count": 151,
   "metadata": {},
   "outputs": [],
   "source": [
    "#Replacing the null hourly, weekly and monthly values for test set\n",
    "test['hourly_travel_time'][test.hourly_travel_time.isnull()] = hourly_mt"
   ]
  },
  {
   "cell_type": "code",
   "execution_count": 152,
   "metadata": {},
   "outputs": [
    {
     "data": {
      "text/html": [
       "<div>\n",
       "<style scoped>\n",
       "    .dataframe tbody tr th:only-of-type {\n",
       "        vertical-align: middle;\n",
       "    }\n",
       "\n",
       "    .dataframe tbody tr th {\n",
       "        vertical-align: top;\n",
       "    }\n",
       "\n",
       "    .dataframe thead th {\n",
       "        text-align: right;\n",
       "    }\n",
       "</style>\n",
       "<table border=\"1\" class=\"dataframe\">\n",
       "  <thead>\n",
       "    <tr style=\"text-align: right;\">\n",
       "      <th></th>\n",
       "      <th>Order No</th>\n",
       "      <th>User Id</th>\n",
       "      <th>Vehicle Type</th>\n",
       "      <th>Platform Type</th>\n",
       "      <th>Personal or Business</th>\n",
       "      <th>Placement - Day of Month</th>\n",
       "      <th>Placement - Weekday (Mo = 1)</th>\n",
       "      <th>Placement - Time</th>\n",
       "      <th>Confirmation - Day of Month</th>\n",
       "      <th>Confirmation - Weekday (Mo = 1)</th>\n",
       "      <th>Confirmation - Time</th>\n",
       "      <th>Arrival at Pickup - Day of Month</th>\n",
       "      <th>Arrival at Pickup - Weekday (Mo = 1)</th>\n",
       "      <th>Arrival at Pickup - Time</th>\n",
       "      <th>Pickup - Day of Month</th>\n",
       "      <th>Pickup - Weekday (Mo = 1)</th>\n",
       "      <th>Pickup - Time</th>\n",
       "      <th>Arrival at Destination - Day of Month</th>\n",
       "      <th>Arrival at Destination - Weekday (Mo = 1)</th>\n",
       "      <th>Arrival at Destination - Time</th>\n",
       "      <th>Distance (KM)</th>\n",
       "      <th>Temperature</th>\n",
       "      <th>Precipitation in millimeters</th>\n",
       "      <th>Pickup Lat</th>\n",
       "      <th>Pickup Long</th>\n",
       "      <th>Destination Lat</th>\n",
       "      <th>Destination Long</th>\n",
       "      <th>Rider Id</th>\n",
       "      <th>Time from Pickup to Arrival</th>\n",
       "      <th>hr_of_day</th>\n",
       "      <th>pickup_min</th>\n",
       "      <th>Destination_city</th>\n",
       "      <th>Pickup_city</th>\n",
       "      <th>hourly_travel_time</th>\n",
       "      <th>cluster_gp</th>\n",
       "    </tr>\n",
       "  </thead>\n",
       "  <tbody>\n",
       "    <tr>\n",
       "      <td>0</td>\n",
       "      <td>Order_No_4211</td>\n",
       "      <td>User_Id_633</td>\n",
       "      <td>Bike</td>\n",
       "      <td>3</td>\n",
       "      <td>Business</td>\n",
       "      <td>9</td>\n",
       "      <td>5</td>\n",
       "      <td>9:35:46 AM</td>\n",
       "      <td>9</td>\n",
       "      <td>5</td>\n",
       "      <td>9:40:10 AM</td>\n",
       "      <td>9</td>\n",
       "      <td>5</td>\n",
       "      <td>10:04:47 AM</td>\n",
       "      <td>9</td>\n",
       "      <td>5</td>\n",
       "      <td>10:27:30 AM</td>\n",
       "      <td>9</td>\n",
       "      <td>5</td>\n",
       "      <td>10:39:55 AM</td>\n",
       "      <td>4</td>\n",
       "      <td>20.4</td>\n",
       "      <td>NaN</td>\n",
       "      <td>-1.317755</td>\n",
       "      <td>36.830370</td>\n",
       "      <td>-1.300406</td>\n",
       "      <td>36.829741</td>\n",
       "      <td>Rider_Id_432</td>\n",
       "      <td>745</td>\n",
       "      <td>10</td>\n",
       "      <td>627</td>\n",
       "      <td>Landmawe</td>\n",
       "      <td>South 'c'</td>\n",
       "      <td>817.300000</td>\n",
       "      <td>3</td>\n",
       "    </tr>\n",
       "    <tr>\n",
       "      <td>1</td>\n",
       "      <td>Order_No_25375</td>\n",
       "      <td>User_Id_2285</td>\n",
       "      <td>Bike</td>\n",
       "      <td>3</td>\n",
       "      <td>Personal</td>\n",
       "      <td>12</td>\n",
       "      <td>5</td>\n",
       "      <td>11:16:16 AM</td>\n",
       "      <td>12</td>\n",
       "      <td>5</td>\n",
       "      <td>11:23:21 AM</td>\n",
       "      <td>12</td>\n",
       "      <td>5</td>\n",
       "      <td>11:40:22 AM</td>\n",
       "      <td>12</td>\n",
       "      <td>5</td>\n",
       "      <td>11:44:09 AM</td>\n",
       "      <td>12</td>\n",
       "      <td>5</td>\n",
       "      <td>12:17:22 PM</td>\n",
       "      <td>16</td>\n",
       "      <td>26.4</td>\n",
       "      <td>NaN</td>\n",
       "      <td>-1.351453</td>\n",
       "      <td>36.899315</td>\n",
       "      <td>-1.295004</td>\n",
       "      <td>36.814358</td>\n",
       "      <td>Rider_Id_856</td>\n",
       "      <td>1993</td>\n",
       "      <td>11</td>\n",
       "      <td>704</td>\n",
       "      <td>Kenyatta</td>\n",
       "      <td>Embakasi</td>\n",
       "      <td>2106.170000</td>\n",
       "      <td>3</td>\n",
       "    </tr>\n",
       "    <tr>\n",
       "      <td>2</td>\n",
       "      <td>Order_No_1899</td>\n",
       "      <td>User_Id_265</td>\n",
       "      <td>Bike</td>\n",
       "      <td>3</td>\n",
       "      <td>Business</td>\n",
       "      <td>30</td>\n",
       "      <td>2</td>\n",
       "      <td>12:39:25 PM</td>\n",
       "      <td>30</td>\n",
       "      <td>2</td>\n",
       "      <td>12:42:44 PM</td>\n",
       "      <td>30</td>\n",
       "      <td>2</td>\n",
       "      <td>12:49:34 PM</td>\n",
       "      <td>30</td>\n",
       "      <td>2</td>\n",
       "      <td>12:53:03 PM</td>\n",
       "      <td>30</td>\n",
       "      <td>2</td>\n",
       "      <td>1:00:38 PM</td>\n",
       "      <td>3</td>\n",
       "      <td>NaN</td>\n",
       "      <td>NaN</td>\n",
       "      <td>-1.308284</td>\n",
       "      <td>36.843419</td>\n",
       "      <td>-1.300921</td>\n",
       "      <td>36.828195</td>\n",
       "      <td>Rider_Id_155</td>\n",
       "      <td>455</td>\n",
       "      <td>12</td>\n",
       "      <td>773</td>\n",
       "      <td>Landmawe</td>\n",
       "      <td>Landmawe</td>\n",
       "      <td>1727.736784</td>\n",
       "      <td>3</td>\n",
       "    </tr>\n",
       "    <tr>\n",
       "      <td>3</td>\n",
       "      <td>Order_No_9336</td>\n",
       "      <td>User_Id_1402</td>\n",
       "      <td>Bike</td>\n",
       "      <td>3</td>\n",
       "      <td>Business</td>\n",
       "      <td>15</td>\n",
       "      <td>5</td>\n",
       "      <td>9:25:34 AM</td>\n",
       "      <td>15</td>\n",
       "      <td>5</td>\n",
       "      <td>9:26:05 AM</td>\n",
       "      <td>15</td>\n",
       "      <td>5</td>\n",
       "      <td>9:37:56 AM</td>\n",
       "      <td>15</td>\n",
       "      <td>5</td>\n",
       "      <td>9:43:06 AM</td>\n",
       "      <td>15</td>\n",
       "      <td>5</td>\n",
       "      <td>10:05:27 AM</td>\n",
       "      <td>9</td>\n",
       "      <td>19.2</td>\n",
       "      <td>NaN</td>\n",
       "      <td>-1.281301</td>\n",
       "      <td>36.832396</td>\n",
       "      <td>-1.257147</td>\n",
       "      <td>36.795063</td>\n",
       "      <td>Rider_Id_855</td>\n",
       "      <td>1341</td>\n",
       "      <td>9</td>\n",
       "      <td>583</td>\n",
       "      <td>Upper Parklands</td>\n",
       "      <td>Ziwani/kariokor</td>\n",
       "      <td>1292.280000</td>\n",
       "      <td>0</td>\n",
       "    </tr>\n",
       "    <tr>\n",
       "      <td>4</td>\n",
       "      <td>Order_No_27883</td>\n",
       "      <td>User_Id_1737</td>\n",
       "      <td>Bike</td>\n",
       "      <td>1</td>\n",
       "      <td>Personal</td>\n",
       "      <td>13</td>\n",
       "      <td>1</td>\n",
       "      <td>9:55:18 AM</td>\n",
       "      <td>13</td>\n",
       "      <td>1</td>\n",
       "      <td>9:56:18 AM</td>\n",
       "      <td>13</td>\n",
       "      <td>1</td>\n",
       "      <td>10:03:53 AM</td>\n",
       "      <td>13</td>\n",
       "      <td>1</td>\n",
       "      <td>10:05:23 AM</td>\n",
       "      <td>13</td>\n",
       "      <td>1</td>\n",
       "      <td>10:25:37 AM</td>\n",
       "      <td>9</td>\n",
       "      <td>15.4</td>\n",
       "      <td>NaN</td>\n",
       "      <td>-1.266597</td>\n",
       "      <td>36.792118</td>\n",
       "      <td>-1.295041</td>\n",
       "      <td>36.809817</td>\n",
       "      <td>Rider_Id_770</td>\n",
       "      <td>1214</td>\n",
       "      <td>10</td>\n",
       "      <td>605</td>\n",
       "      <td>Kilimani</td>\n",
       "      <td>Muthangari</td>\n",
       "      <td>1006.988571</td>\n",
       "      <td>0</td>\n",
       "    </tr>\n",
       "  </tbody>\n",
       "</table>\n",
       "</div>"
      ],
      "text/plain": [
       "         Order No       User Id Vehicle Type  Platform Type  \\\n",
       "0   Order_No_4211   User_Id_633         Bike              3   \n",
       "1  Order_No_25375  User_Id_2285         Bike              3   \n",
       "2   Order_No_1899   User_Id_265         Bike              3   \n",
       "3   Order_No_9336  User_Id_1402         Bike              3   \n",
       "4  Order_No_27883  User_Id_1737         Bike              1   \n",
       "\n",
       "  Personal or Business  Placement - Day of Month  \\\n",
       "0             Business                         9   \n",
       "1             Personal                        12   \n",
       "2             Business                        30   \n",
       "3             Business                        15   \n",
       "4             Personal                        13   \n",
       "\n",
       "   Placement - Weekday (Mo = 1) Placement - Time  Confirmation - Day of Month  \\\n",
       "0                             5       9:35:46 AM                            9   \n",
       "1                             5      11:16:16 AM                           12   \n",
       "2                             2      12:39:25 PM                           30   \n",
       "3                             5       9:25:34 AM                           15   \n",
       "4                             1       9:55:18 AM                           13   \n",
       "\n",
       "   Confirmation - Weekday (Mo = 1) Confirmation - Time  \\\n",
       "0                                5          9:40:10 AM   \n",
       "1                                5         11:23:21 AM   \n",
       "2                                2         12:42:44 PM   \n",
       "3                                5          9:26:05 AM   \n",
       "4                                1          9:56:18 AM   \n",
       "\n",
       "   Arrival at Pickup - Day of Month  Arrival at Pickup - Weekday (Mo = 1)  \\\n",
       "0                                 9                                     5   \n",
       "1                                12                                     5   \n",
       "2                                30                                     2   \n",
       "3                                15                                     5   \n",
       "4                                13                                     1   \n",
       "\n",
       "  Arrival at Pickup - Time  Pickup - Day of Month  Pickup - Weekday (Mo = 1)  \\\n",
       "0              10:04:47 AM                      9                          5   \n",
       "1              11:40:22 AM                     12                          5   \n",
       "2              12:49:34 PM                     30                          2   \n",
       "3               9:37:56 AM                     15                          5   \n",
       "4              10:03:53 AM                     13                          1   \n",
       "\n",
       "  Pickup - Time  Arrival at Destination - Day of Month  \\\n",
       "0   10:27:30 AM                                      9   \n",
       "1   11:44:09 AM                                     12   \n",
       "2   12:53:03 PM                                     30   \n",
       "3    9:43:06 AM                                     15   \n",
       "4   10:05:23 AM                                     13   \n",
       "\n",
       "   Arrival at Destination - Weekday (Mo = 1) Arrival at Destination - Time  \\\n",
       "0                                          5                   10:39:55 AM   \n",
       "1                                          5                   12:17:22 PM   \n",
       "2                                          2                    1:00:38 PM   \n",
       "3                                          5                   10:05:27 AM   \n",
       "4                                          1                   10:25:37 AM   \n",
       "\n",
       "   Distance (KM)  Temperature  Precipitation in millimeters  Pickup Lat  \\\n",
       "0              4         20.4                           NaN   -1.317755   \n",
       "1             16         26.4                           NaN   -1.351453   \n",
       "2              3          NaN                           NaN   -1.308284   \n",
       "3              9         19.2                           NaN   -1.281301   \n",
       "4              9         15.4                           NaN   -1.266597   \n",
       "\n",
       "   Pickup Long  Destination Lat  Destination Long      Rider Id  \\\n",
       "0    36.830370        -1.300406         36.829741  Rider_Id_432   \n",
       "1    36.899315        -1.295004         36.814358  Rider_Id_856   \n",
       "2    36.843419        -1.300921         36.828195  Rider_Id_155   \n",
       "3    36.832396        -1.257147         36.795063  Rider_Id_855   \n",
       "4    36.792118        -1.295041         36.809817  Rider_Id_770   \n",
       "\n",
       "   Time from Pickup to Arrival  hr_of_day  pickup_min Destination_city  \\\n",
       "0                          745         10         627         Landmawe   \n",
       "1                         1993         11         704         Kenyatta   \n",
       "2                          455         12         773         Landmawe   \n",
       "3                         1341          9         583  Upper Parklands   \n",
       "4                         1214         10         605         Kilimani   \n",
       "\n",
       "       Pickup_city  hourly_travel_time  cluster_gp  \n",
       "0        South 'c'          817.300000           3  \n",
       "1         Embakasi         2106.170000           3  \n",
       "2         Landmawe         1727.736784           3  \n",
       "3  Ziwani/kariokor         1292.280000           0  \n",
       "4       Muthangari         1006.988571           0  "
      ]
     },
     "execution_count": 152,
     "metadata": {},
     "output_type": "execute_result"
    }
   ],
   "source": [
    "train.head()"
   ]
  },
  {
   "cell_type": "code",
   "execution_count": 153,
   "metadata": {},
   "outputs": [
    {
     "data": {
      "text/html": [
       "<div>\n",
       "<style scoped>\n",
       "    .dataframe tbody tr th:only-of-type {\n",
       "        vertical-align: middle;\n",
       "    }\n",
       "\n",
       "    .dataframe tbody tr th {\n",
       "        vertical-align: top;\n",
       "    }\n",
       "\n",
       "    .dataframe thead th {\n",
       "        text-align: right;\n",
       "    }\n",
       "</style>\n",
       "<table border=\"1\" class=\"dataframe\">\n",
       "  <thead>\n",
       "    <tr style=\"text-align: right;\">\n",
       "      <th></th>\n",
       "      <th>Order No</th>\n",
       "      <th>User Id</th>\n",
       "      <th>Vehicle Type</th>\n",
       "      <th>Platform Type</th>\n",
       "      <th>Personal or Business</th>\n",
       "      <th>Placement - Day of Month</th>\n",
       "      <th>Placement - Weekday (Mo = 1)</th>\n",
       "      <th>Placement - Time</th>\n",
       "      <th>Confirmation - Day of Month</th>\n",
       "      <th>Confirmation - Weekday (Mo = 1)</th>\n",
       "      <th>Confirmation - Time</th>\n",
       "      <th>Arrival at Pickup - Day of Month</th>\n",
       "      <th>Arrival at Pickup - Weekday (Mo = 1)</th>\n",
       "      <th>Arrival at Pickup - Time</th>\n",
       "      <th>Pickup - Day of Month</th>\n",
       "      <th>Pickup - Weekday (Mo = 1)</th>\n",
       "      <th>Pickup - Time</th>\n",
       "      <th>Distance (KM)</th>\n",
       "      <th>Temperature</th>\n",
       "      <th>Precipitation in millimeters</th>\n",
       "      <th>Pickup Lat</th>\n",
       "      <th>Pickup Long</th>\n",
       "      <th>Destination Lat</th>\n",
       "      <th>Destination Long</th>\n",
       "      <th>Rider Id</th>\n",
       "      <th>hr_of_day</th>\n",
       "      <th>pickup_min</th>\n",
       "      <th>Destination_city</th>\n",
       "      <th>Pickup_city</th>\n",
       "      <th>hourly_travel_time</th>\n",
       "      <th>cluster_gp</th>\n",
       "    </tr>\n",
       "  </thead>\n",
       "  <tbody>\n",
       "    <tr>\n",
       "      <td>0</td>\n",
       "      <td>Order_No_19248</td>\n",
       "      <td>User_Id_3355</td>\n",
       "      <td>Bike</td>\n",
       "      <td>3</td>\n",
       "      <td>Business</td>\n",
       "      <td>27</td>\n",
       "      <td>3</td>\n",
       "      <td>4:44:10 PM</td>\n",
       "      <td>27</td>\n",
       "      <td>3</td>\n",
       "      <td>4:44:29 PM</td>\n",
       "      <td>27</td>\n",
       "      <td>3</td>\n",
       "      <td>4:53:04 PM</td>\n",
       "      <td>27</td>\n",
       "      <td>3</td>\n",
       "      <td>5:06:47 PM</td>\n",
       "      <td>8</td>\n",
       "      <td>NaN</td>\n",
       "      <td>NaN</td>\n",
       "      <td>-1.333275</td>\n",
       "      <td>36.870815</td>\n",
       "      <td>-1.305249</td>\n",
       "      <td>36.822390</td>\n",
       "      <td>Rider_Id_192</td>\n",
       "      <td>17</td>\n",
       "      <td>1026</td>\n",
       "      <td>Nairobi West</td>\n",
       "      <td>Imara Daima</td>\n",
       "      <td>932.744286</td>\n",
       "      <td>3</td>\n",
       "    </tr>\n",
       "    <tr>\n",
       "      <td>1</td>\n",
       "      <td>Order_No_12736</td>\n",
       "      <td>User_Id_3647</td>\n",
       "      <td>Bike</td>\n",
       "      <td>3</td>\n",
       "      <td>Business</td>\n",
       "      <td>17</td>\n",
       "      <td>5</td>\n",
       "      <td>12:57:35 PM</td>\n",
       "      <td>17</td>\n",
       "      <td>5</td>\n",
       "      <td>12:59:17 PM</td>\n",
       "      <td>17</td>\n",
       "      <td>5</td>\n",
       "      <td>1:20:27 PM</td>\n",
       "      <td>17</td>\n",
       "      <td>5</td>\n",
       "      <td>1:25:37 PM</td>\n",
       "      <td>5</td>\n",
       "      <td>NaN</td>\n",
       "      <td>NaN</td>\n",
       "      <td>-1.272639</td>\n",
       "      <td>36.794723</td>\n",
       "      <td>-1.277007</td>\n",
       "      <td>36.823907</td>\n",
       "      <td>Rider_Id_868</td>\n",
       "      <td>13</td>\n",
       "      <td>805</td>\n",
       "      <td>Ngara East</td>\n",
       "      <td>Kileleshwa</td>\n",
       "      <td>1063.108571</td>\n",
       "      <td>0</td>\n",
       "    </tr>\n",
       "    <tr>\n",
       "      <td>2</td>\n",
       "      <td>Order_No_768</td>\n",
       "      <td>User_Id_2154</td>\n",
       "      <td>Bike</td>\n",
       "      <td>3</td>\n",
       "      <td>Business</td>\n",
       "      <td>27</td>\n",
       "      <td>4</td>\n",
       "      <td>11:08:14 AM</td>\n",
       "      <td>27</td>\n",
       "      <td>4</td>\n",
       "      <td>11:25:05 AM</td>\n",
       "      <td>27</td>\n",
       "      <td>4</td>\n",
       "      <td>11:33:20 AM</td>\n",
       "      <td>27</td>\n",
       "      <td>4</td>\n",
       "      <td>11:57:54 AM</td>\n",
       "      <td>5</td>\n",
       "      <td>22.8</td>\n",
       "      <td>NaN</td>\n",
       "      <td>-1.290894</td>\n",
       "      <td>36.822971</td>\n",
       "      <td>-1.276574</td>\n",
       "      <td>36.851365</td>\n",
       "      <td>Rider_Id_26</td>\n",
       "      <td>11</td>\n",
       "      <td>717</td>\n",
       "      <td>Airbase</td>\n",
       "      <td>City Square</td>\n",
       "      <td>1848.011429</td>\n",
       "      <td>3</td>\n",
       "    </tr>\n",
       "    <tr>\n",
       "      <td>3</td>\n",
       "      <td>Order_No_15332</td>\n",
       "      <td>User_Id_2910</td>\n",
       "      <td>Bike</td>\n",
       "      <td>3</td>\n",
       "      <td>Business</td>\n",
       "      <td>17</td>\n",
       "      <td>1</td>\n",
       "      <td>1:51:35 PM</td>\n",
       "      <td>17</td>\n",
       "      <td>1</td>\n",
       "      <td>1:53:27 PM</td>\n",
       "      <td>17</td>\n",
       "      <td>1</td>\n",
       "      <td>2:02:41 PM</td>\n",
       "      <td>17</td>\n",
       "      <td>1</td>\n",
       "      <td>2:16:52 PM</td>\n",
       "      <td>5</td>\n",
       "      <td>24.5</td>\n",
       "      <td>NaN</td>\n",
       "      <td>-1.290503</td>\n",
       "      <td>36.809646</td>\n",
       "      <td>-1.303382</td>\n",
       "      <td>36.790658</td>\n",
       "      <td>Rider_Id_685</td>\n",
       "      <td>14</td>\n",
       "      <td>856</td>\n",
       "      <td>Golf Course</td>\n",
       "      <td>Kilimani</td>\n",
       "      <td>463.651429</td>\n",
       "      <td>4</td>\n",
       "    </tr>\n",
       "    <tr>\n",
       "      <td>4</td>\n",
       "      <td>Order_No_21373</td>\n",
       "      <td>User_Id_1205</td>\n",
       "      <td>Bike</td>\n",
       "      <td>3</td>\n",
       "      <td>Business</td>\n",
       "      <td>11</td>\n",
       "      <td>2</td>\n",
       "      <td>11:30:28 AM</td>\n",
       "      <td>11</td>\n",
       "      <td>2</td>\n",
       "      <td>11:34:45 AM</td>\n",
       "      <td>11</td>\n",
       "      <td>2</td>\n",
       "      <td>11:47:19 AM</td>\n",
       "      <td>11</td>\n",
       "      <td>2</td>\n",
       "      <td>11:56:04 AM</td>\n",
       "      <td>6</td>\n",
       "      <td>24.4</td>\n",
       "      <td>NaN</td>\n",
       "      <td>-1.281081</td>\n",
       "      <td>36.814423</td>\n",
       "      <td>-1.266467</td>\n",
       "      <td>36.792161</td>\n",
       "      <td>Rider_Id_858</td>\n",
       "      <td>11</td>\n",
       "      <td>716</td>\n",
       "      <td>Muthangari</td>\n",
       "      <td>Kilimani</td>\n",
       "      <td>721.531429</td>\n",
       "      <td>0</td>\n",
       "    </tr>\n",
       "  </tbody>\n",
       "</table>\n",
       "</div>"
      ],
      "text/plain": [
       "         Order No       User Id Vehicle Type  Platform Type  \\\n",
       "0  Order_No_19248  User_Id_3355         Bike              3   \n",
       "1  Order_No_12736  User_Id_3647         Bike              3   \n",
       "2    Order_No_768  User_Id_2154         Bike              3   \n",
       "3  Order_No_15332  User_Id_2910         Bike              3   \n",
       "4  Order_No_21373  User_Id_1205         Bike              3   \n",
       "\n",
       "  Personal or Business  Placement - Day of Month  \\\n",
       "0             Business                        27   \n",
       "1             Business                        17   \n",
       "2             Business                        27   \n",
       "3             Business                        17   \n",
       "4             Business                        11   \n",
       "\n",
       "   Placement - Weekday (Mo = 1) Placement - Time  Confirmation - Day of Month  \\\n",
       "0                             3       4:44:10 PM                           27   \n",
       "1                             5      12:57:35 PM                           17   \n",
       "2                             4      11:08:14 AM                           27   \n",
       "3                             1       1:51:35 PM                           17   \n",
       "4                             2      11:30:28 AM                           11   \n",
       "\n",
       "   Confirmation - Weekday (Mo = 1) Confirmation - Time  \\\n",
       "0                                3          4:44:29 PM   \n",
       "1                                5         12:59:17 PM   \n",
       "2                                4         11:25:05 AM   \n",
       "3                                1          1:53:27 PM   \n",
       "4                                2         11:34:45 AM   \n",
       "\n",
       "   Arrival at Pickup - Day of Month  Arrival at Pickup - Weekday (Mo = 1)  \\\n",
       "0                                27                                     3   \n",
       "1                                17                                     5   \n",
       "2                                27                                     4   \n",
       "3                                17                                     1   \n",
       "4                                11                                     2   \n",
       "\n",
       "  Arrival at Pickup - Time  Pickup - Day of Month  Pickup - Weekday (Mo = 1)  \\\n",
       "0               4:53:04 PM                     27                          3   \n",
       "1               1:20:27 PM                     17                          5   \n",
       "2              11:33:20 AM                     27                          4   \n",
       "3               2:02:41 PM                     17                          1   \n",
       "4              11:47:19 AM                     11                          2   \n",
       "\n",
       "  Pickup - Time  Distance (KM)  Temperature  Precipitation in millimeters  \\\n",
       "0    5:06:47 PM              8          NaN                           NaN   \n",
       "1    1:25:37 PM              5          NaN                           NaN   \n",
       "2   11:57:54 AM              5         22.8                           NaN   \n",
       "3    2:16:52 PM              5         24.5                           NaN   \n",
       "4   11:56:04 AM              6         24.4                           NaN   \n",
       "\n",
       "   Pickup Lat  Pickup Long  Destination Lat  Destination Long      Rider Id  \\\n",
       "0   -1.333275    36.870815        -1.305249         36.822390  Rider_Id_192   \n",
       "1   -1.272639    36.794723        -1.277007         36.823907  Rider_Id_868   \n",
       "2   -1.290894    36.822971        -1.276574         36.851365   Rider_Id_26   \n",
       "3   -1.290503    36.809646        -1.303382         36.790658  Rider_Id_685   \n",
       "4   -1.281081    36.814423        -1.266467         36.792161  Rider_Id_858   \n",
       "\n",
       "   hr_of_day  pickup_min Destination_city  Pickup_city  hourly_travel_time  \\\n",
       "0         17        1026     Nairobi West  Imara Daima          932.744286   \n",
       "1         13         805       Ngara East   Kileleshwa         1063.108571   \n",
       "2         11         717          Airbase  City Square         1848.011429   \n",
       "3         14         856      Golf Course     Kilimani          463.651429   \n",
       "4         11         716       Muthangari     Kilimani          721.531429   \n",
       "\n",
       "   cluster_gp  \n",
       "0           3  \n",
       "1           0  \n",
       "2           3  \n",
       "3           4  \n",
       "4           0  "
      ]
     },
     "execution_count": 153,
     "metadata": {},
     "output_type": "execute_result"
    }
   ],
   "source": [
    "test.head()"
   ]
  },
  {
   "cell_type": "markdown",
   "metadata": {},
   "source": [
    "Dropping the cluster group column"
   ]
  },
  {
   "cell_type": "code",
   "execution_count": 154,
   "metadata": {},
   "outputs": [],
   "source": [
    "train.drop('cluster_gp', axis=1, inplace=True)\n",
    "test.drop('cluster_gp', axis=1, inplace=True)"
   ]
  },
  {
   "cell_type": "code",
   "execution_count": 155,
   "metadata": {},
   "outputs": [],
   "source": [
    "#saving as csv\n",
    "train.to_csv('./sendy_logistics/train_cleaned.csv', index=False)\n",
    "test.to_csv('./sendy_logistics/test_cleaned.csv', index=False)"
   ]
  }
 ],
 "metadata": {
  "kernelspec": {
   "display_name": "Python 3",
   "language": "python",
   "name": "python3"
  },
  "language_info": {
   "codemirror_mode": {
    "name": "ipython",
    "version": 3
   },
   "file_extension": ".py",
   "mimetype": "text/x-python",
   "name": "python",
   "nbconvert_exporter": "python",
   "pygments_lexer": "ipython3",
   "version": "3.7.4"
  }
 },
 "nbformat": 4,
 "nbformat_minor": 2
}
