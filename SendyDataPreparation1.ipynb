{
 "cells": [
  {
   "cell_type": "markdown",
   "metadata": {},
   "source": [
    "Sendy logistics challenge hosted by Zindi.\n",
    "\n",
    "In this challenge we were asked to predict the time travel an order made by a customer would be delivered to the recipient when the order is picked by a rider from the pickup station.\n",
    "\n",
    "This is also my first challenge working with Geospatial data.\n",
    "In order to add some features such as the average speed based on the time travel I downloaded Additional datasets using the Uber travel times data of sublocations in Nairobi. \n",
    "\n",
    "Although it couldnt give me an accurate measurement of the time travels between the pickup and destination cities, I had to use this data because I was constrained by using some APIs such as the open route service and the Open Street routing machine APIs that could accurately calculate the time travel when a bike is used for delivery. \n",
    "Secondly, it could give me an estimate of the time travels since the means of transport used by Uber is car."
   ]
  },
  {
   "cell_type": "code",
   "execution_count": 1,
   "metadata": {},
   "outputs": [],
   "source": [
    "import pandas as pd\n",
    "import numpy as np"
   ]
  },
  {
   "cell_type": "code",
   "execution_count": 2,
   "metadata": {},
   "outputs": [],
   "source": [
    "import os\n",
    "cwd = os.chdir(r'C:/Machine_learning_datafiles/sendy_logistics')\n",
    "files = os.listdir('./locations')[3:]"
   ]
  },
  {
   "cell_type": "code",
   "execution_count": 3,
   "metadata": {
    "scrolled": true
   },
   "outputs": [
    {
     "data": {
      "text/plain": [
       "['nairobi-sublocations-2018-1-All-HourlyAggregate.csv',\n",
       " 'nairobi-sublocations-2018-1-All-MonthlyAggregate.csv',\n",
       " 'nairobi-sublocations-2018-1-WeeklyAggregate.csv',\n",
       " 'nairobi-sublocations-2018-2-All-HourlyAggregate.csv',\n",
       " 'nairobi-sublocations-2018-2-All-MonthlyAggregate.csv',\n",
       " 'nairobi-sublocations-2018-2-WeeklyAggregate.csv',\n",
       " 'nairobi-sublocations-2018-3-All-HourlyAggregate.csv',\n",
       " 'nairobi-sublocations-2018-3-All-MonthlyAggregate.csv',\n",
       " 'nairobi-sublocations-2018-3-WeeklyAggregate.csv',\n",
       " 'nairobi-sublocations-2018-4-All-HourlyAggregate.csv',\n",
       " 'nairobi-sublocations-2018-4-All-MonthlyAggregate.csv',\n",
       " 'nairobi-sublocations-2018-4-WeeklyAggregate.csv',\n",
       " 'nairobi-sublocations-2019-1-All-HourlyAggregate.csv',\n",
       " 'nairobi-sublocations-2019-1-All-MonthlyAggregate.csv',\n",
       " 'nairobi-sublocations-2019-1-WeeklyAggregate.csv',\n",
       " 'nairobi-sublocations-2019-2-All-HourlyAggregate.csv',\n",
       " 'nairobi-sublocations-2019-2-All-MonthlyAggregate.csv',\n",
       " 'nairobi-sublocations-2019-2-WeeklyAggregate.csv',\n",
       " 'nairobi-sublocations-2019-3-All-HourlyAggregate.csv',\n",
       " 'nairobi-sublocations-2019-3-All-MonthlyAggregate.csv',\n",
       " 'nairobi-sublocations-2019-3-WeeklyAggregate.csv']"
      ]
     },
     "execution_count": 3,
     "metadata": {},
     "output_type": "execute_result"
    }
   ],
   "source": [
    "files"
   ]
  },
  {
   "cell_type": "code",
   "execution_count": 4,
   "metadata": {},
   "outputs": [],
   "source": [
    "q1_hourly_18 = pd.read_csv('./locations/nairobi-sublocations-2018-1-All-HourlyAggregate.csv')\n",
    "q2_hourly_18 = pd.read_csv('./locations/nairobi-sublocations-2018-2-All-HourlyAggregate.csv')\n",
    "q3_hourly_18 = pd.read_csv('./locations/nairobi-sublocations-2018-3-All-HourlyAggregate.csv')\n",
    "q4_hourly_18 = pd.read_csv('./locations/nairobi-sublocations-2018-4-All-HourlyAggregate.csv')"
   ]
  },
  {
   "cell_type": "code",
   "execution_count": 5,
   "metadata": {},
   "outputs": [],
   "source": [
    "q1_hourly_19 = pd.read_csv('./locations/nairobi-sublocations-2019-1-All-HourlyAggregate.csv')\n",
    "q2_hourly_19 = pd.read_csv('./locations/nairobi-sublocations-2019-2-All-HourlyAggregate.csv')\n",
    "q3_hourly_19 = pd.read_csv('./locations/nairobi-sublocations-2019-3-All-HourlyAggregate.csv')"
   ]
  },
  {
   "cell_type": "code",
   "execution_count": 6,
   "metadata": {},
   "outputs": [],
   "source": [
    "q1_weekly_18 = pd.read_csv('./locations/nairobi-sublocations-2018-1-WeeklyAggregate.csv')\n",
    "q2_weekly_18 = pd.read_csv('./locations/nairobi-sublocations-2018-2-WeeklyAggregate.csv')\n",
    "q3_weekly_18 = pd.read_csv('./locations/nairobi-sublocations-2018-3-WeeklyAggregate.csv')\n",
    "q4_weekly_18 = pd.read_csv('./locations/nairobi-sublocations-2018-4-WeeklyAggregate.csv')"
   ]
  },
  {
   "cell_type": "code",
   "execution_count": 7,
   "metadata": {},
   "outputs": [],
   "source": [
    "q1_weekly_19 = pd.read_csv('./locations/nairobi-sublocations-2019-1-WeeklyAggregate.csv')\n",
    "q2_weekly_19 = pd.read_csv('./locations/nairobi-sublocations-2019-2-WeeklyAggregate.csv')\n",
    "q3_weekly_19 = pd.read_csv('./locations/nairobi-sublocations-2019-3-WeeklyAggregate.csv')"
   ]
  },
  {
   "cell_type": "code",
   "execution_count": 8,
   "metadata": {},
   "outputs": [],
   "source": [
    "q1_monthly_18 = pd.read_csv('./locations/nairobi-sublocations-2018-1-All-MonthlyAggregate.csv')\n",
    "q2_monthly_18 = pd.read_csv('./locations/nairobi-sublocations-2018-2-All-MonthlyAggregate.csv')\n",
    "q3_monthly_18 = pd.read_csv('./locations/nairobi-sublocations-2018-3-All-MonthlyAggregate.csv')\n",
    "q4_monthly_18 = pd.read_csv('./locations/nairobi-sublocations-2018-4-All-MonthlyAggregate.csv')"
   ]
  },
  {
   "cell_type": "code",
   "execution_count": 9,
   "metadata": {},
   "outputs": [],
   "source": [
    "q1_monthly_19 = pd.read_csv('./locations/nairobi-sublocations-2019-1-All-MonthlyAggregate.csv')\n",
    "q2_monthly_19 = pd.read_csv('./locations/nairobi-sublocations-2019-2-All-MonthlyAggregate.csv')\n",
    "q3_monthly_19 = pd.read_csv('./locations/nairobi-sublocations-2019-3-All-MonthlyAggregate.csv')"
   ]
  },
  {
   "cell_type": "code",
   "execution_count": 10,
   "metadata": {},
   "outputs": [],
   "source": [
    "for quarterly_data_18 in [q1_hourly_18,q1_weekly_18, q1_monthly_18, q2_hourly_18, q2_monthly_18, q2_weekly_18, \n",
    "                          q3_hourly_18, q3_monthly_18, q3_weekly_18, q4_hourly_18, q4_monthly_18, q4_weekly_18]:\n",
    "    quarterly_data_18['year'] = 2018"
   ]
  },
  {
   "cell_type": "code",
   "execution_count": 11,
   "metadata": {},
   "outputs": [],
   "source": [
    "for quarterly_data_19 in [q1_hourly_19,q1_weekly_19, q1_monthly_19, q2_hourly_19, q2_monthly_19, q2_weekly_19, \n",
    "                          q3_hourly_19, q3_monthly_19, q3_weekly_19]:\n",
    "    quarterly_data_19['year'] = 2019"
   ]
  },
  {
   "cell_type": "code",
   "execution_count": 12,
   "metadata": {},
   "outputs": [],
   "source": [
    "hourly_travel_time = pd.concat([\n",
    "    q1_hourly_18, q2_hourly_18, q3_hourly_18, q4_hourly_18, q1_hourly_19, q2_hourly_19, q3_hourly_19\n",
    "], axis=0)"
   ]
  },
  {
   "cell_type": "code",
   "execution_count": 13,
   "metadata": {},
   "outputs": [],
   "source": [
    "weekly_travel_time = pd.concat([\n",
    "    q1_weekly_18, q2_weekly_18, q3_weekly_18, q4_weekly_18, q1_weekly_19, q2_weekly_19, q3_weekly_19\n",
    "], axis=0)"
   ]
  },
  {
   "cell_type": "code",
   "execution_count": 14,
   "metadata": {},
   "outputs": [],
   "source": [
    "monthly_travel_time = pd.concat([\n",
    "    q1_monthly_18, q2_monthly_18, q3_monthly_18, q4_monthly_18, q1_monthly_19, q2_monthly_19, q3_monthly_19\n",
    "], axis=0)"
   ]
  },
  {
   "cell_type": "code",
   "execution_count": 15,
   "metadata": {},
   "outputs": [
    {
     "data": {
      "text/plain": [
       "((1286035, 8), (418135, 8), (180483, 8))"
      ]
     },
     "execution_count": 15,
     "metadata": {},
     "output_type": "execute_result"
    }
   ],
   "source": [
    "hourly_travel_time.shape, weekly_travel_time.shape, monthly_travel_time.shape"
   ]
  },
  {
   "cell_type": "code",
   "execution_count": 55,
   "metadata": {},
   "outputs": [],
   "source": [
    "hourly_travel_time_ = hourly_travel_time.groupby(['sourceid','dstid'])[\n",
    "    [\n",
    "        'mean_travel_time','standard_deviation_travel_time',\n",
    "        'geometric_mean_travel_time','geometric_standard_deviation_travel_time'\n",
    "    ]\n",
    "].mean().reset_index()"
   ]
  },
  {
   "cell_type": "code",
   "execution_count": 19,
   "metadata": {},
   "outputs": [],
   "source": [
    "hourly_travel_time.to_csv('hourly_travel_times.csv', index=False)"
   ]
  },
  {
   "cell_type": "code",
   "execution_count": 56,
   "metadata": {},
   "outputs": [
    {
     "data": {
      "text/plain": [
       "(9271, 6)"
      ]
     },
     "execution_count": 56,
     "metadata": {},
     "output_type": "execute_result"
    }
   ],
   "source": [
    "hourly_travel_time_.shape"
   ]
  },
  {
   "cell_type": "code",
   "execution_count": 57,
   "metadata": {},
   "outputs": [
    {
     "data": {
      "text/html": [
       "<div>\n",
       "<style scoped>\n",
       "    .dataframe tbody tr th:only-of-type {\n",
       "        vertical-align: middle;\n",
       "    }\n",
       "\n",
       "    .dataframe tbody tr th {\n",
       "        vertical-align: top;\n",
       "    }\n",
       "\n",
       "    .dataframe thead th {\n",
       "        text-align: right;\n",
       "    }\n",
       "</style>\n",
       "<table border=\"1\" class=\"dataframe\">\n",
       "  <thead>\n",
       "    <tr style=\"text-align: right;\">\n",
       "      <th></th>\n",
       "      <th>sourceid</th>\n",
       "      <th>dstid</th>\n",
       "      <th>mean_travel_time</th>\n",
       "      <th>standard_deviation_travel_time</th>\n",
       "      <th>geometric_mean_travel_time</th>\n",
       "      <th>geometric_standard_deviation_travel_time</th>\n",
       "    </tr>\n",
       "  </thead>\n",
       "  <tbody>\n",
       "    <tr>\n",
       "      <td>0</td>\n",
       "      <td>1</td>\n",
       "      <td>2</td>\n",
       "      <td>247.597976</td>\n",
       "      <td>363.056012</td>\n",
       "      <td>152.416310</td>\n",
       "      <td>2.457262</td>\n",
       "    </tr>\n",
       "    <tr>\n",
       "      <td>1</td>\n",
       "      <td>1</td>\n",
       "      <td>3</td>\n",
       "      <td>362.021429</td>\n",
       "      <td>337.189881</td>\n",
       "      <td>280.009583</td>\n",
       "      <td>1.938690</td>\n",
       "    </tr>\n",
       "    <tr>\n",
       "      <td>2</td>\n",
       "      <td>1</td>\n",
       "      <td>4</td>\n",
       "      <td>602.090655</td>\n",
       "      <td>453.689881</td>\n",
       "      <td>497.837440</td>\n",
       "      <td>1.780893</td>\n",
       "    </tr>\n",
       "    <tr>\n",
       "      <td>3</td>\n",
       "      <td>1</td>\n",
       "      <td>5</td>\n",
       "      <td>1452.731964</td>\n",
       "      <td>615.648214</td>\n",
       "      <td>1357.237560</td>\n",
       "      <td>1.401012</td>\n",
       "    </tr>\n",
       "    <tr>\n",
       "      <td>4</td>\n",
       "      <td>1</td>\n",
       "      <td>6</td>\n",
       "      <td>725.566190</td>\n",
       "      <td>653.835476</td>\n",
       "      <td>522.429345</td>\n",
       "      <td>2.230357</td>\n",
       "    </tr>\n",
       "    <tr>\n",
       "      <td>...</td>\n",
       "      <td>...</td>\n",
       "      <td>...</td>\n",
       "      <td>...</td>\n",
       "      <td>...</td>\n",
       "      <td>...</td>\n",
       "      <td>...</td>\n",
       "    </tr>\n",
       "    <tr>\n",
       "      <td>9266</td>\n",
       "      <td>107</td>\n",
       "      <td>103</td>\n",
       "      <td>1278.400060</td>\n",
       "      <td>628.072083</td>\n",
       "      <td>1169.743869</td>\n",
       "      <td>1.503036</td>\n",
       "    </tr>\n",
       "    <tr>\n",
       "      <td>9267</td>\n",
       "      <td>107</td>\n",
       "      <td>104</td>\n",
       "      <td>889.459345</td>\n",
       "      <td>476.330476</td>\n",
       "      <td>803.969524</td>\n",
       "      <td>1.530417</td>\n",
       "    </tr>\n",
       "    <tr>\n",
       "      <td>9268</td>\n",
       "      <td>107</td>\n",
       "      <td>105</td>\n",
       "      <td>2615.407771</td>\n",
       "      <td>915.719873</td>\n",
       "      <td>2460.732420</td>\n",
       "      <td>1.375732</td>\n",
       "    </tr>\n",
       "    <tr>\n",
       "      <td>9269</td>\n",
       "      <td>107</td>\n",
       "      <td>106</td>\n",
       "      <td>326.654643</td>\n",
       "      <td>349.661607</td>\n",
       "      <td>228.826548</td>\n",
       "      <td>2.417024</td>\n",
       "    </tr>\n",
       "    <tr>\n",
       "      <td>9270</td>\n",
       "      <td>107</td>\n",
       "      <td>107</td>\n",
       "      <td>1689.317778</td>\n",
       "      <td>758.338889</td>\n",
       "      <td>1491.357778</td>\n",
       "      <td>2.531111</td>\n",
       "    </tr>\n",
       "  </tbody>\n",
       "</table>\n",
       "<p>9271 rows × 6 columns</p>\n",
       "</div>"
      ],
      "text/plain": [
       "      sourceid  dstid  mean_travel_time  standard_deviation_travel_time  \\\n",
       "0            1      2        247.597976                      363.056012   \n",
       "1            1      3        362.021429                      337.189881   \n",
       "2            1      4        602.090655                      453.689881   \n",
       "3            1      5       1452.731964                      615.648214   \n",
       "4            1      6        725.566190                      653.835476   \n",
       "...        ...    ...               ...                             ...   \n",
       "9266       107    103       1278.400060                      628.072083   \n",
       "9267       107    104        889.459345                      476.330476   \n",
       "9268       107    105       2615.407771                      915.719873   \n",
       "9269       107    106        326.654643                      349.661607   \n",
       "9270       107    107       1689.317778                      758.338889   \n",
       "\n",
       "      geometric_mean_travel_time  geometric_standard_deviation_travel_time  \n",
       "0                     152.416310                                  2.457262  \n",
       "1                     280.009583                                  1.938690  \n",
       "2                     497.837440                                  1.780893  \n",
       "3                    1357.237560                                  1.401012  \n",
       "4                     522.429345                                  2.230357  \n",
       "...                          ...                                       ...  \n",
       "9266                 1169.743869                                  1.503036  \n",
       "9267                  803.969524                                  1.530417  \n",
       "9268                 2460.732420                                  1.375732  \n",
       "9269                  228.826548                                  2.417024  \n",
       "9270                 1491.357778                                  2.531111  \n",
       "\n",
       "[9271 rows x 6 columns]"
      ]
     },
     "execution_count": 57,
     "metadata": {},
     "output_type": "execute_result"
    }
   ],
   "source": [
    "hourly_travel_time_"
   ]
  },
  {
   "cell_type": "code",
   "execution_count": null,
   "metadata": {},
   "outputs": [],
   "source": []
  }
 ],
 "metadata": {
  "kernelspec": {
   "display_name": "Python 3",
   "language": "python",
   "name": "python3"
  },
  "language_info": {
   "codemirror_mode": {
    "name": "ipython",
    "version": 3
   },
   "file_extension": ".py",
   "mimetype": "text/x-python",
   "name": "python",
   "nbconvert_exporter": "python",
   "pygments_lexer": "ipython3",
   "version": "3.7.4"
  }
 },
 "nbformat": 4,
 "nbformat_minor": 2
}
