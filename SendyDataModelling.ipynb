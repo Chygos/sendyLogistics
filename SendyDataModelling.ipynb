{
 "cells": [
  {
   "cell_type": "code",
   "execution_count": 1,
   "metadata": {},
   "outputs": [],
   "source": [
    "import os\n",
    "os.chdir(r'C:\\Machine_learning_datafiles')\n",
    "\n",
    "#importing necessary modules\n",
    "%matplotlib inline\n",
    "import pandas as pd\n",
    "import matplotlib.pyplot as plt\n",
    "import seaborn as sns\n",
    "import numpy as np\n",
    "plt.style.use('ggplot')"
   ]
  },
  {
   "cell_type": "code",
   "execution_count": 2,
   "metadata": {},
   "outputs": [],
   "source": [
    "import warnings\n",
    "warnings.filterwarnings('ignore')"
   ]
  },
  {
   "cell_type": "code",
   "execution_count": 3,
   "metadata": {},
   "outputs": [],
   "source": [
    "dir = os.listdir('./sendy_logistics')"
   ]
  },
  {
   "cell_type": "code",
   "execution_count": 356,
   "metadata": {},
   "outputs": [],
   "source": [
    "train =pd.read_csv('./sendy_logistics/train_modified.csv')\n",
    "test = pd.read_csv('./sendy_logistics/test_modified.csv')\n",
    "rider = pd.read_csv('./sendy_logistics/Riders.csv')"
   ]
  },
  {
   "cell_type": "code",
   "execution_count": 5,
   "metadata": {},
   "outputs": [],
   "source": [
    "pd.set_option('display.max_columns', 5000, 'display.max_rows', 120)\n",
    "plt.rcParams['figure.figsize'] =[8,5]"
   ]
  },
  {
   "cell_type": "code",
   "execution_count": 7,
   "metadata": {},
   "outputs": [
    {
     "data": {
      "text/plain": [
       "Index(['Order No', 'User Id', 'Vehicle Type', 'Platform Type',\n",
       "       'Personal or Business', 'Placement - Day of Month',\n",
       "       'Placement - Weekday (Mo = 1)', 'Placement - Time',\n",
       "       'Confirmation - Day of Month', 'Confirmation - Weekday (Mo = 1)',\n",
       "       'Confirmation - Time', 'Arrival at Pickup - Day of Month',\n",
       "       'Arrival at Pickup - Weekday (Mo = 1)', 'Arrival at Pickup - Time',\n",
       "       'Pickup - Day of Month', 'Pickup - Weekday (Mo = 1)', 'Pickup - Time',\n",
       "       'Arrival at Destination - Day of Month',\n",
       "       'Arrival at Destination - Weekday (Mo = 1)',\n",
       "       'Arrival at Destination - Time', 'Distance (KM)', 'Temperature',\n",
       "       'Precipitation in millimeters', 'Pickup Lat', 'Pickup Long',\n",
       "       'Destination Lat', 'Destination Long', 'Rider Id',\n",
       "       'Time from Pickup to Arrival', 'hr_of_day', 'pickup_min',\n",
       "       'Destination_city', 'Pickup_city', 'hourly_travel_time'],\n",
       "      dtype='object')"
      ]
     },
     "execution_count": 7,
     "metadata": {},
     "output_type": "execute_result"
    }
   ],
   "source": [
    "train.columns"
   ]
  },
  {
   "cell_type": "markdown",
   "metadata": {},
   "source": [
    "   ### Variable Definitions\n",
    "\n",
    "1. Order No- Unique number identifying the order\n",
    "2. User id = Unique number identifying the customer on a platform\n",
    "3. Vehicle type- means of transport. For this case it is bike\n",
    "4. Platform type- Platform used to place the order\n",
    "5. Personal/business - Customer type\n",
    "6. Placement- Day of Month 1-31\n",
    "7. Placement weekday- 1 for Monday\n",
    "8. Placement time- Time of the day the order was placed\n",
    "9. Confirmation- Day of Month 1-31\n",
    "10. Confirmation-Weekday 1 for Mon\n",
    "11. Confirmation -Time- Time of day the order was confirmed by a rider\n",
    "12. Arrival at Pickup-Day of Month 1-31\n",
    "13. Arrival at Pickup- Weekday 1 for Monday\n",
    "14. Arrival at Pickup-Time - Time of day the rider arrived at the location to pick up the order- as marked by the rider through the Sendy application\n",
    "15. Pickup-Day of Month- 1-31\n",
    "16. Pickup- Weekday 1 for monday\n",
    "17. Pickup-Time - Time of day rhe rider picked up the order- as marked by the rider through the Sendy application\n",
    "<b>\n",
    "18. Arrival at Delivery- Day of Month- 1-31\n",
    "19. Arrival at Delivery- Weekday - 1 for Monday\n",
    "20. Arrival at Delivery Time- Time of day the rider picked up the order- as marked by the rider through the Sendy application\n",
    "    <p>(All Absent in the test data)</p>\n",
    "</b>\n",
    "21. Distance covered (Km)- The distance from pickup to Destination\n",
    "22. Temperature- Temperature at the time of order placement in degree Celsius (measured every 3 hours)\n",
    "23. Precipitation in Millimeters- Precipitation at the time of order placement (measured every three hours)\n",
    "24. Pickup latitude and Longitude- Latitude and Longitude of pick up location\n",
    "25. Destination latitude and Longitude- Latitude and Longitude of Delivery location\n",
    "26. Rider ID- ID of the rider who accepted the order\n",
    "27. Time from pickup to Arrival- Time in seconds btw Pickup and Arrival at Destination \n",
    "\n",
    "## Rider Metrics\n",
    "1. Rider Id- Unique number identifying the rider (same as in order details)\n",
    "2. No of orders- Number of orders the rider has delivered\n",
    "3. Age- Number of days since the rider delivered the first order\n",
    "4. Average rating- Average rating of the rider\n",
    "5. No of Ratings- Number of ratings the rider has received. Rating an order is optional for the customer"
   ]
  },
  {
   "cell_type": "code",
   "execution_count": 6,
   "metadata": {},
   "outputs": [
    {
     "data": {
      "text/plain": [
       "(34, 30)"
      ]
     },
     "execution_count": 6,
     "metadata": {},
     "output_type": "execute_result"
    }
   ],
   "source": [
    "original_train_vars = train.columns.tolist()\n",
    "original_test_vars = test.columns.tolist()\n",
    "\n",
    "len(original_train_vars), len(original_test_vars)"
   ]
  },
  {
   "cell_type": "code",
   "execution_count": 8,
   "metadata": {},
   "outputs": [
    {
     "data": {
      "text/plain": [
       "Order No                                         0\n",
       "User Id                                          0\n",
       "Vehicle Type                                     0\n",
       "Platform Type                                    0\n",
       "Personal or Business                             0\n",
       "Placement - Day of Month                         0\n",
       "Placement - Weekday (Mo = 1)                     0\n",
       "Placement - Time                                 0\n",
       "Confirmation - Day of Month                      0\n",
       "Confirmation - Weekday (Mo = 1)                  0\n",
       "Confirmation - Time                              0\n",
       "Arrival at Pickup - Day of Month                 0\n",
       "Arrival at Pickup - Weekday (Mo = 1)             0\n",
       "Arrival at Pickup - Time                         0\n",
       "Pickup - Day of Month                            0\n",
       "Pickup - Weekday (Mo = 1)                        0\n",
       "Pickup - Time                                    0\n",
       "Arrival at Destination - Day of Month            0\n",
       "Arrival at Destination - Weekday (Mo = 1)        0\n",
       "Arrival at Destination - Time                    0\n",
       "Distance (KM)                                    0\n",
       "Temperature                                   4366\n",
       "Precipitation in millimeters                 20649\n",
       "Pickup Lat                                       0\n",
       "Pickup Long                                      0\n",
       "Destination Lat                                  0\n",
       "Destination Long                                 0\n",
       "Rider Id                                         0\n",
       "Time from Pickup to Arrival                      0\n",
       "hr_of_day                                        0\n",
       "pickup_min                                       0\n",
       "Destination_city                               769\n",
       "Pickup_city                                    353\n",
       "hourly_travel_time                            2155\n",
       "dtype: int64"
      ]
     },
     "execution_count": 8,
     "metadata": {},
     "output_type": "execute_result"
    }
   ],
   "source": [
    "train.isnull().sum()"
   ]
  },
  {
   "cell_type": "code",
   "execution_count": 9,
   "metadata": {},
   "outputs": [
    {
     "data": {
      "text/plain": [
       "Order No                                   0\n",
       "User Id                                    0\n",
       "Vehicle Type                               0\n",
       "Platform Type                              0\n",
       "Personal or Business                       0\n",
       "Placement - Day of Month                   0\n",
       "Placement - Weekday (Mo = 1)               0\n",
       "Placement - Time                           0\n",
       "Confirmation - Day of Month                0\n",
       "Confirmation - Weekday (Mo = 1)            0\n",
       "Confirmation - Time                        0\n",
       "Arrival at Pickup - Day of Month           0\n",
       "Arrival at Pickup - Weekday (Mo = 1)       0\n",
       "Arrival at Pickup - Time                   0\n",
       "Pickup - Day of Month                      0\n",
       "Pickup - Weekday (Mo = 1)                  0\n",
       "Pickup - Time                              0\n",
       "Distance (KM)                              0\n",
       "Temperature                             1437\n",
       "Precipitation in millimeters            6869\n",
       "Pickup Lat                                 0\n",
       "Pickup Long                                0\n",
       "Destination Lat                            0\n",
       "Destination Long                           0\n",
       "Rider Id                                   0\n",
       "hr_of_day                                  0\n",
       "pickup_min                                 0\n",
       "Destination_city                         252\n",
       "Pickup_city                              118\n",
       "hourly_travel_time                       718\n",
       "dtype: int64"
      ]
     },
     "execution_count": 9,
     "metadata": {},
     "output_type": "execute_result"
    }
   ],
   "source": [
    "test.isnull().sum()"
   ]
  },
  {
   "cell_type": "code",
   "execution_count": 357,
   "metadata": {},
   "outputs": [],
   "source": [
    "train_columns = [\n",
    "    'order_no', 'user_id',' vehicle_type', 'platform_type','personal/business', 'placement_day_of_month',\\\n",
    "    'placement_weekday', 'placement_time', 'confirmation_day_of_month','confirmation_weekday','confirmation_time',\\\n",
    "    'pickup_arrival_day_of_month', 'pickup_arrival_weekday','pickup_arrival_time', 'pickup_day_of_month', \\\n",
    "    'pickup_weekday','pickup_time', 'delivery_day_of_month','delivery_arrival_weekday',\\\n",
    "    'delivery_time','distance_in_km', 'temperature','precipitation_in_mm','pickup_latitude', 'pickup_longitude',\\\n",
    "    'destination_latitude','destination_longitude','rider_id','pickup_to_arrival_time','pickup_hr', 'pickup_min',\\\n",
    "    'Destination_city', 'Pickup_city', 'hourly_travel_time'\n",
    "]"
   ]
  },
  {
   "cell_type": "code",
   "execution_count": 358,
   "metadata": {},
   "outputs": [],
   "source": [
    "test_columns = [\n",
    "    'order_no', 'user_id',' vehicle_type', 'platform_type','personal/business', 'placement_day_of_month',\\\n",
    "    'placement_weekday', 'placement_time', 'confirmation_day_of_month','confirmation_weekday','confirmation_time',\\\n",
    "    'pickup_arrival_day_of_month', 'pickup_arrival_weekday','pickup_arrival_time', 'pickup_day_of_month', \\\n",
    "    'pickup_weekday','pickup_time','distance_in_km', 'temperature','precipitation_in_mm','pickup_latitude', \\\n",
    "    'pickup_longitude','destination_latitude','destination_longitude','rider_id', 'pickup_hr', 'pickup_min',\\\n",
    "    'Destination_city', 'Pickup_city', 'hourly_travel_time'\n",
    "]"
   ]
  },
  {
   "cell_type": "code",
   "execution_count": 359,
   "metadata": {},
   "outputs": [],
   "source": [
    "train.columns =train_columns\n",
    "test.columns= test_columns"
   ]
  },
  {
   "cell_type": "code",
   "execution_count": 53,
   "metadata": {},
   "outputs": [
    {
     "name": "stdout",
     "output_type": "stream",
     "text": [
      "The training data has 21201 rows and 34 columns\n",
      "The test data has 7068 rows and 30 columns\n"
     ]
    }
   ],
   "source": [
    "print('The training data has {} rows and {} columns'.format(train.shape[0],train.shape[1]))\n",
    "print('The test data has {} rows and {} columns'.format(test.shape[0],test.shape[1]))"
   ]
  },
  {
   "cell_type": "code",
   "execution_count": 14,
   "metadata": {},
   "outputs": [
    {
     "name": "stdout",
     "output_type": "stream",
     "text": [
      "Variables not in the test data set but in the train dataset are 4 in number.\n"
     ]
    }
   ],
   "source": [
    "print('Variables not in the test data set but in the train dataset are %s in number.' \\\n",
    "      %len((set(train_columns)).difference(set(test_columns))))"
   ]
  },
  {
   "cell_type": "code",
   "execution_count": 15,
   "metadata": {},
   "outputs": [
    {
     "name": "stdout",
     "output_type": "stream",
     "text": [
      "Precipitation in mm variable has 97% fraction of null values.\n",
      "Temperature variable has 21% null values.\n",
      "\n",
      "Precipitation in mm variable has 97% fraction of null values.\n",
      "Temperature variable has 20% null values.\n",
      "\n"
     ]
    }
   ],
   "source": [
    "for dataset in [train, test]:\n",
    "    print('Precipitation in mm variable has %.0f%% fraction of null values.' \n",
    "          %(dataset.precipitation_in_mm.isnull().sum()/dataset.precipitation_in_mm.size * 100))\n",
    "    print('Temperature variable has %.0f%% null values.' \n",
    "          %(dataset.temperature.isnull().sum()/dataset.temperature.size *100))\n",
    "    print()"
   ]
  },
  {
   "cell_type": "markdown",
   "metadata": {},
   "source": [
    "We will be dropping the precipitation_in_mm column because it has about 97% null values"
   ]
  },
  {
   "cell_type": "code",
   "execution_count": 16,
   "metadata": {},
   "outputs": [
    {
     "name": "stdout",
     "output_type": "stream",
     "text": [
      "<class 'pandas.core.frame.DataFrame'>\n",
      "RangeIndex: 21201 entries, 0 to 21200\n",
      "Data columns (total 34 columns):\n",
      "order_no                       21201 non-null object\n",
      "user_id                        21201 non-null object\n",
      " vehicle_type                  21201 non-null object\n",
      "platform_type                  21201 non-null int64\n",
      "personal/business              21201 non-null object\n",
      "placement_day_of_month         21201 non-null int64\n",
      "placement_weekday              21201 non-null int64\n",
      "placement_time                 21201 non-null object\n",
      "confirmation_day_of_month      21201 non-null int64\n",
      "confirmation_weekday           21201 non-null int64\n",
      "confirmation_time              21201 non-null object\n",
      "pickup_arrival_day_of_month    21201 non-null int64\n",
      "pickup_arrival_weekday         21201 non-null int64\n",
      "pickup_arrival_time            21201 non-null object\n",
      "pickup_day_of_month            21201 non-null int64\n",
      "pickup_weekday                 21201 non-null int64\n",
      "pickup_time                    21201 non-null object\n",
      "delivery_day_of_month          21201 non-null int64\n",
      "delivery_arrival_weekday       21201 non-null int64\n",
      "delivery_time                  21201 non-null object\n",
      "distance_in_km                 21201 non-null int64\n",
      "temperature                    16835 non-null float64\n",
      "precipitation_in_mm            552 non-null float64\n",
      "pickup_latitude                21201 non-null float64\n",
      "pickup_longitude               21201 non-null float64\n",
      "destination_latitude           21201 non-null float64\n",
      "destination_longitude          21201 non-null float64\n",
      "rider_id                       21201 non-null object\n",
      "pickup_to_arrival_time         21201 non-null int64\n",
      "pickup_hr                      21201 non-null int64\n",
      "pickup_min                     21201 non-null int64\n",
      "Destination_city               20432 non-null object\n",
      "Pickup_city                    20848 non-null object\n",
      "hourly_travel_time             19046 non-null float64\n",
      "dtypes: float64(7), int64(15), object(12)\n",
      "memory usage: 5.5+ MB\n"
     ]
    }
   ],
   "source": [
    "train.info()"
   ]
  },
  {
   "cell_type": "code",
   "execution_count": 17,
   "metadata": {},
   "outputs": [
    {
     "data": {
      "text/html": [
       "<div>\n",
       "<style scoped>\n",
       "    .dataframe tbody tr th:only-of-type {\n",
       "        vertical-align: middle;\n",
       "    }\n",
       "\n",
       "    .dataframe tbody tr th {\n",
       "        vertical-align: top;\n",
       "    }\n",
       "\n",
       "    .dataframe thead th {\n",
       "        text-align: right;\n",
       "    }\n",
       "</style>\n",
       "<table border=\"1\" class=\"dataframe\">\n",
       "  <thead>\n",
       "    <tr style=\"text-align: right;\">\n",
       "      <th></th>\n",
       "      <th>platform_type</th>\n",
       "      <th>placement_day_of_month</th>\n",
       "      <th>placement_weekday</th>\n",
       "      <th>confirmation_day_of_month</th>\n",
       "      <th>confirmation_weekday</th>\n",
       "      <th>pickup_arrival_day_of_month</th>\n",
       "      <th>pickup_arrival_weekday</th>\n",
       "      <th>pickup_day_of_month</th>\n",
       "      <th>pickup_weekday</th>\n",
       "      <th>delivery_day_of_month</th>\n",
       "      <th>delivery_arrival_weekday</th>\n",
       "      <th>distance_in_km</th>\n",
       "      <th>temperature</th>\n",
       "      <th>precipitation_in_mm</th>\n",
       "      <th>pickup_latitude</th>\n",
       "      <th>pickup_longitude</th>\n",
       "      <th>destination_latitude</th>\n",
       "      <th>destination_longitude</th>\n",
       "      <th>pickup_to_arrival_time</th>\n",
       "      <th>pickup_hr</th>\n",
       "      <th>pickup_min</th>\n",
       "      <th>hourly_travel_time</th>\n",
       "    </tr>\n",
       "  </thead>\n",
       "  <tbody>\n",
       "    <tr>\n",
       "      <td>count</td>\n",
       "      <td>21201.000000</td>\n",
       "      <td>21201.000000</td>\n",
       "      <td>21201.000000</td>\n",
       "      <td>21201.000000</td>\n",
       "      <td>21201.000000</td>\n",
       "      <td>21201.000000</td>\n",
       "      <td>21201.000000</td>\n",
       "      <td>21201.000000</td>\n",
       "      <td>21201.000000</td>\n",
       "      <td>21201.000000</td>\n",
       "      <td>21201.000000</td>\n",
       "      <td>21201.000000</td>\n",
       "      <td>16835.000000</td>\n",
       "      <td>552.000000</td>\n",
       "      <td>21201.000000</td>\n",
       "      <td>21201.000000</td>\n",
       "      <td>21201.000000</td>\n",
       "      <td>21201.000000</td>\n",
       "      <td>21201.000000</td>\n",
       "      <td>21201.000000</td>\n",
       "      <td>21201.000000</td>\n",
       "      <td>19046.000000</td>\n",
       "    </tr>\n",
       "    <tr>\n",
       "      <td>mean</td>\n",
       "      <td>2.752182</td>\n",
       "      <td>15.653696</td>\n",
       "      <td>3.240083</td>\n",
       "      <td>15.653837</td>\n",
       "      <td>3.240225</td>\n",
       "      <td>15.653837</td>\n",
       "      <td>3.240225</td>\n",
       "      <td>15.653837</td>\n",
       "      <td>3.240225</td>\n",
       "      <td>15.653837</td>\n",
       "      <td>3.240225</td>\n",
       "      <td>9.506533</td>\n",
       "      <td>23.258889</td>\n",
       "      <td>7.905797</td>\n",
       "      <td>-1.281470</td>\n",
       "      <td>36.811264</td>\n",
       "      <td>-1.282581</td>\n",
       "      <td>36.811220</td>\n",
       "      <td>1556.920947</td>\n",
       "      <td>12.873214</td>\n",
       "      <td>801.787746</td>\n",
       "      <td>1409.392411</td>\n",
       "    </tr>\n",
       "    <tr>\n",
       "      <td>std</td>\n",
       "      <td>0.625178</td>\n",
       "      <td>8.798916</td>\n",
       "      <td>1.567295</td>\n",
       "      <td>8.798886</td>\n",
       "      <td>1.567228</td>\n",
       "      <td>8.798886</td>\n",
       "      <td>1.567228</td>\n",
       "      <td>8.798886</td>\n",
       "      <td>1.567228</td>\n",
       "      <td>8.798886</td>\n",
       "      <td>1.567228</td>\n",
       "      <td>5.668963</td>\n",
       "      <td>3.615768</td>\n",
       "      <td>17.089971</td>\n",
       "      <td>0.030507</td>\n",
       "      <td>0.037473</td>\n",
       "      <td>0.034824</td>\n",
       "      <td>0.044721</td>\n",
       "      <td>987.270788</td>\n",
       "      <td>2.551666</td>\n",
       "      <td>152.192497</td>\n",
       "      <td>755.627038</td>\n",
       "    </tr>\n",
       "    <tr>\n",
       "      <td>min</td>\n",
       "      <td>1.000000</td>\n",
       "      <td>1.000000</td>\n",
       "      <td>1.000000</td>\n",
       "      <td>1.000000</td>\n",
       "      <td>1.000000</td>\n",
       "      <td>1.000000</td>\n",
       "      <td>1.000000</td>\n",
       "      <td>1.000000</td>\n",
       "      <td>1.000000</td>\n",
       "      <td>1.000000</td>\n",
       "      <td>1.000000</td>\n",
       "      <td>1.000000</td>\n",
       "      <td>11.200000</td>\n",
       "      <td>0.100000</td>\n",
       "      <td>-1.438302</td>\n",
       "      <td>36.653621</td>\n",
       "      <td>-1.430298</td>\n",
       "      <td>36.606594</td>\n",
       "      <td>1.000000</td>\n",
       "      <td>0.000000</td>\n",
       "      <td>49.000000</td>\n",
       "      <td>106.647143</td>\n",
       "    </tr>\n",
       "    <tr>\n",
       "      <td>25%</td>\n",
       "      <td>3.000000</td>\n",
       "      <td>8.000000</td>\n",
       "      <td>2.000000</td>\n",
       "      <td>8.000000</td>\n",
       "      <td>2.000000</td>\n",
       "      <td>8.000000</td>\n",
       "      <td>2.000000</td>\n",
       "      <td>8.000000</td>\n",
       "      <td>2.000000</td>\n",
       "      <td>8.000000</td>\n",
       "      <td>2.000000</td>\n",
       "      <td>5.000000</td>\n",
       "      <td>20.600000</td>\n",
       "      <td>1.075000</td>\n",
       "      <td>-1.300921</td>\n",
       "      <td>36.784605</td>\n",
       "      <td>-1.301201</td>\n",
       "      <td>36.785661</td>\n",
       "      <td>882.000000</td>\n",
       "      <td>11.000000</td>\n",
       "      <td>678.000000</td>\n",
       "      <td>780.024286</td>\n",
       "    </tr>\n",
       "    <tr>\n",
       "      <td>50%</td>\n",
       "      <td>3.000000</td>\n",
       "      <td>15.000000</td>\n",
       "      <td>3.000000</td>\n",
       "      <td>15.000000</td>\n",
       "      <td>3.000000</td>\n",
       "      <td>15.000000</td>\n",
       "      <td>3.000000</td>\n",
       "      <td>15.000000</td>\n",
       "      <td>3.000000</td>\n",
       "      <td>15.000000</td>\n",
       "      <td>3.000000</td>\n",
       "      <td>8.000000</td>\n",
       "      <td>23.500000</td>\n",
       "      <td>2.900000</td>\n",
       "      <td>-1.279395</td>\n",
       "      <td>36.807040</td>\n",
       "      <td>-1.284382</td>\n",
       "      <td>36.808002</td>\n",
       "      <td>1369.000000</td>\n",
       "      <td>13.000000</td>\n",
       "      <td>797.000000</td>\n",
       "      <td>1339.175000</td>\n",
       "    </tr>\n",
       "    <tr>\n",
       "      <td>75%</td>\n",
       "      <td>3.000000</td>\n",
       "      <td>23.000000</td>\n",
       "      <td>5.000000</td>\n",
       "      <td>23.000000</td>\n",
       "      <td>5.000000</td>\n",
       "      <td>23.000000</td>\n",
       "      <td>5.000000</td>\n",
       "      <td>23.000000</td>\n",
       "      <td>5.000000</td>\n",
       "      <td>23.000000</td>\n",
       "      <td>5.000000</td>\n",
       "      <td>13.000000</td>\n",
       "      <td>26.000000</td>\n",
       "      <td>4.900000</td>\n",
       "      <td>-1.257147</td>\n",
       "      <td>36.829741</td>\n",
       "      <td>-1.261177</td>\n",
       "      <td>36.829477</td>\n",
       "      <td>2040.000000</td>\n",
       "      <td>15.000000</td>\n",
       "      <td>923.000000</td>\n",
       "      <td>1938.214286</td>\n",
       "    </tr>\n",
       "    <tr>\n",
       "      <td>max</td>\n",
       "      <td>4.000000</td>\n",
       "      <td>31.000000</td>\n",
       "      <td>7.000000</td>\n",
       "      <td>31.000000</td>\n",
       "      <td>7.000000</td>\n",
       "      <td>31.000000</td>\n",
       "      <td>7.000000</td>\n",
       "      <td>31.000000</td>\n",
       "      <td>7.000000</td>\n",
       "      <td>31.000000</td>\n",
       "      <td>7.000000</td>\n",
       "      <td>49.000000</td>\n",
       "      <td>32.100000</td>\n",
       "      <td>99.100000</td>\n",
       "      <td>-1.147170</td>\n",
       "      <td>36.991046</td>\n",
       "      <td>-1.030225</td>\n",
       "      <td>37.016779</td>\n",
       "      <td>7883.000000</td>\n",
       "      <td>23.000000</td>\n",
       "      <td>1393.000000</td>\n",
       "      <td>4698.567143</td>\n",
       "    </tr>\n",
       "  </tbody>\n",
       "</table>\n",
       "</div>"
      ],
      "text/plain": [
       "       platform_type  placement_day_of_month  placement_weekday  \\\n",
       "count   21201.000000            21201.000000       21201.000000   \n",
       "mean        2.752182               15.653696           3.240083   \n",
       "std         0.625178                8.798916           1.567295   \n",
       "min         1.000000                1.000000           1.000000   \n",
       "25%         3.000000                8.000000           2.000000   \n",
       "50%         3.000000               15.000000           3.000000   \n",
       "75%         3.000000               23.000000           5.000000   \n",
       "max         4.000000               31.000000           7.000000   \n",
       "\n",
       "       confirmation_day_of_month  confirmation_weekday  \\\n",
       "count               21201.000000          21201.000000   \n",
       "mean                   15.653837              3.240225   \n",
       "std                     8.798886              1.567228   \n",
       "min                     1.000000              1.000000   \n",
       "25%                     8.000000              2.000000   \n",
       "50%                    15.000000              3.000000   \n",
       "75%                    23.000000              5.000000   \n",
       "max                    31.000000              7.000000   \n",
       "\n",
       "       pickup_arrival_day_of_month  pickup_arrival_weekday  \\\n",
       "count                 21201.000000            21201.000000   \n",
       "mean                     15.653837                3.240225   \n",
       "std                       8.798886                1.567228   \n",
       "min                       1.000000                1.000000   \n",
       "25%                       8.000000                2.000000   \n",
       "50%                      15.000000                3.000000   \n",
       "75%                      23.000000                5.000000   \n",
       "max                      31.000000                7.000000   \n",
       "\n",
       "       pickup_day_of_month  pickup_weekday  delivery_day_of_month  \\\n",
       "count         21201.000000    21201.000000           21201.000000   \n",
       "mean             15.653837        3.240225              15.653837   \n",
       "std               8.798886        1.567228               8.798886   \n",
       "min               1.000000        1.000000               1.000000   \n",
       "25%               8.000000        2.000000               8.000000   \n",
       "50%              15.000000        3.000000              15.000000   \n",
       "75%              23.000000        5.000000              23.000000   \n",
       "max              31.000000        7.000000              31.000000   \n",
       "\n",
       "       delivery_arrival_weekday  distance_in_km   temperature  \\\n",
       "count              21201.000000    21201.000000  16835.000000   \n",
       "mean                   3.240225        9.506533     23.258889   \n",
       "std                    1.567228        5.668963      3.615768   \n",
       "min                    1.000000        1.000000     11.200000   \n",
       "25%                    2.000000        5.000000     20.600000   \n",
       "50%                    3.000000        8.000000     23.500000   \n",
       "75%                    5.000000       13.000000     26.000000   \n",
       "max                    7.000000       49.000000     32.100000   \n",
       "\n",
       "       precipitation_in_mm  pickup_latitude  pickup_longitude  \\\n",
       "count           552.000000     21201.000000      21201.000000   \n",
       "mean              7.905797        -1.281470         36.811264   \n",
       "std              17.089971         0.030507          0.037473   \n",
       "min               0.100000        -1.438302         36.653621   \n",
       "25%               1.075000        -1.300921         36.784605   \n",
       "50%               2.900000        -1.279395         36.807040   \n",
       "75%               4.900000        -1.257147         36.829741   \n",
       "max              99.100000        -1.147170         36.991046   \n",
       "\n",
       "       destination_latitude  destination_longitude  pickup_to_arrival_time  \\\n",
       "count          21201.000000           21201.000000            21201.000000   \n",
       "mean              -1.282581              36.811220             1556.920947   \n",
       "std                0.034824               0.044721              987.270788   \n",
       "min               -1.430298              36.606594                1.000000   \n",
       "25%               -1.301201              36.785661              882.000000   \n",
       "50%               -1.284382              36.808002             1369.000000   \n",
       "75%               -1.261177              36.829477             2040.000000   \n",
       "max               -1.030225              37.016779             7883.000000   \n",
       "\n",
       "          pickup_hr    pickup_min  hourly_travel_time  \n",
       "count  21201.000000  21201.000000        19046.000000  \n",
       "mean      12.873214    801.787746         1409.392411  \n",
       "std        2.551666    152.192497          755.627038  \n",
       "min        0.000000     49.000000          106.647143  \n",
       "25%       11.000000    678.000000          780.024286  \n",
       "50%       13.000000    797.000000         1339.175000  \n",
       "75%       15.000000    923.000000         1938.214286  \n",
       "max       23.000000   1393.000000         4698.567143  "
      ]
     },
     "execution_count": 17,
     "metadata": {},
     "output_type": "execute_result"
    }
   ],
   "source": [
    "train.describe()"
   ]
  },
  {
   "cell_type": "code",
   "execution_count": 360,
   "metadata": {},
   "outputs": [],
   "source": [
    "def convert_to_time(data, columns=list):\n",
    "    \"\"\"Function converting time objects into time dtypes\n",
    "    \"\"\"\n",
    "    for col in columns:\n",
    "        data[col] = data[col].apply(lambda x: pd.to_datetime(x))\n",
    "    return data\n",
    "\n",
    "def weekday_conversion(weekday):\n",
    "    if weekday == 1: return 'Mon'\n",
    "    elif weekday == 2: return 'Tues'\n",
    "    elif weekday == 3: return 'Wed'\n",
    "    elif weekday == 4: return 'Thurs'\n",
    "    elif weekday == 5: return 'Fri'\n",
    "    elif weekday == 6: return 'Sat'\n",
    "    elif weekday == 7: return 'Sun'\n",
    "\n",
    "def time_of_day(time):\n",
    "    if time.hour < 5: return 'EM'\n",
    "    elif 5 <= time.hour < 12: return 'Mo'\n",
    "    elif 12 <= time.hour < 17: return 'Af'\n",
    "    elif 17 <= time.hour < 21: return 'Ev'\n",
    "    elif 21 <= time.hour < 24: return 'Ni'"
   ]
  },
  {
   "cell_type": "code",
   "execution_count": 361,
   "metadata": {},
   "outputs": [
    {
     "name": "stdout",
     "output_type": "stream",
     "text": [
      "Total number of riders working for sendy logistics are 952.\n",
      "Wall time: 35.9 s\n"
     ]
    }
   ],
   "source": [
    "%%time\n",
    "#converting both train and test data\n",
    "train = convert_to_time(train, columns=['placement_time', 'confirmation_time', 'pickup_arrival_time', \\\n",
    "                        'pickup_time', 'delivery_time'])\n",
    "\n",
    "test = convert_to_time(test, columns=['placement_time', 'confirmation_time', \\\n",
    "                                      'pickup_arrival_time', 'pickup_time'])\n",
    "\n",
    "print('Total number of riders working for sendy logistics are %s.'\\\n",
    "      %len(set(train.rider_id.unique().tolist()).union(set(test.rider_id.unique().tolist()))))\n"
   ]
  },
  {
   "cell_type": "code",
   "execution_count": 362,
   "metadata": {},
   "outputs": [],
   "source": [
    "#converting weekday numbers to names\n",
    "#training data\n",
    "for weekday in ['placement_weekday', 'confirmation_weekday','delivery_arrival_weekday', \n",
    "                'pickup_arrival_weekday', 'pickup_weekday']:\n",
    "    train[weekday] = train[weekday].apply(weekday_conversion)\n",
    "\n",
    "#test data\n",
    "for weekday in ['placement_weekday', 'confirmation_weekday', 'pickup_arrival_weekday', 'pickup_weekday']:\n",
    "    test[weekday] = test[weekday].apply(weekday_conversion)"
   ]
  },
  {
   "cell_type": "code",
   "execution_count": 363,
   "metadata": {},
   "outputs": [],
   "source": [
    "#coverting time to time of day\n",
    "for time in ['pickup_time', 'placement_time']:\n",
    "    train[time+'_of_day'] = train[time].apply(time_of_day)\n",
    "\n",
    "#coverting time to time of day\n",
    "for time in ['pickup_time','placement_time']:\n",
    "    test[time+'_of_day'] = test[time].apply(time_of_day)"
   ]
  },
  {
   "cell_type": "code",
   "execution_count": 364,
   "metadata": {},
   "outputs": [],
   "source": [
    "train.hourly_travel_time.fillna(-999, inplace=True)\n",
    "test.hourly_travel_time.fillna(-999, inplace=True)"
   ]
  },
  {
   "cell_type": "code",
   "execution_count": 365,
   "metadata": {},
   "outputs": [],
   "source": [
    "#this checks the difference btw the time the rider came to pickup the orderand the time he left to deliver the order\n",
    "for dataset in [train,test]:\n",
    "    dataset['rider_delay_time_in_mins'] = round((dataset.pickup_time - dataset.pickup_arrival_time).dt.seconds / 60,0)\n",
    "    dataset['placement_to_pickup_time_min'] = round((dataset.pickup_time - dataset.confirmation_time).dt.seconds/60,0)\n",
    "    dataset['placement_to_confirmation_time_min'] = round((dataset.confirmation_time - dataset.placement_time).dt.seconds/60,0)\n",
    "    dataset['confirmation_to_pickup_time_min'] = round((dataset.pickup_time - dataset.confirmation_time).dt.seconds/60,0)"
   ]
  },
  {
   "cell_type": "code",
   "execution_count": 60,
   "metadata": {
    "scrolled": false
   },
   "outputs": [
    {
     "data": {
      "image/png": "[encoded data removed]",
      "text/plain": [
       "<Figure size 1080x288 with 3 Axes>"
      ]
     },
     "metadata": {
      "needs_background": "light"
     },
     "output_type": "display_data"
    }
   ],
   "source": [
    "fig,ax= plt.subplots(1,3, figsize=[15,4])\n",
    "train[['pickup_hr', 'distance_in_km','pickup_to_arrival_time']\n",
    "     ].groupby(['pickup_hr']).mean().reset_index().plot(x='pickup_hr', y='distance_in_km', ax=ax[0])\n",
    "ax[0].set_xlim(-0.5,24)\n",
    "ax[0].axhline(9, ls='--')\n",
    "\n",
    "train[['pickup_hr', 'distance_in_km','pickup_to_arrival_time']\n",
    "     ].groupby(['pickup_hr']).mean().reset_index().plot(x='pickup_hr', y='pickup_to_arrival_time', ax=ax[1])\n",
    "\n",
    "ax[1].set_xlim(-0.5,24)\n",
    "ax[1].axvline(20, ls='--')\n",
    "\n",
    "train[['distance_in_km','pickup_to_arrival_time']].plot(kind='scatter',y='pickup_to_arrival_time', x='distance_in_km', ax=ax[2])\n",
    "ax[2].set_xlim(-.5,55)\n",
    "plt.tight_layout(pad=1.15);"
   ]
  },
  {
   "cell_type": "code",
   "execution_count": 366,
   "metadata": {},
   "outputs": [],
   "source": [
    "pickup_18_dist_9_list =[]\n",
    "for (pickup_hr, distance) in train[['pickup_hr','distance_in_km']].values:\n",
    "    if pickup_hr < 18 and distance < 9:\n",
    "        pickup_18_dist_9_list.append(1)\n",
    "    else:\n",
    "        pickup_18_dist_9_list.append(0)\n",
    "train['pickup_hr_18_dist_9'] = pickup_18_dist_9_list"
   ]
  },
  {
   "cell_type": "code",
   "execution_count": 367,
   "metadata": {},
   "outputs": [],
   "source": [
    "pickup_18_dist_9_list =[]\n",
    "for (pickup_hr, distance) in test[['pickup_hr','distance_in_km']].values:\n",
    "    if pickup_hr < 18 and distance < 9:\n",
    "        pickup_18_dist_9_list.append(1)\n",
    "    else:\n",
    "        pickup_18_dist_9_list.append(0)\n",
    "test['pickup_hr_18_dist_9'] = pickup_18_dist_9_list"
   ]
  },
  {
   "cell_type": "code",
   "execution_count": 368,
   "metadata": {},
   "outputs": [],
   "source": [
    "for data in [train, test]:\n",
    "    data['distance_greater_11'] = (data.distance_in_km > 11).astype(int)"
   ]
  },
  {
   "cell_type": "code",
   "execution_count": 369,
   "metadata": {},
   "outputs": [],
   "source": [
    "#average speed\n",
    "for dataset in [train,test]:\n",
    "    dataset['hourly_av_speed_in_ms'] = dataset.distance_in_km * 1000 / dataset.hourly_travel_time"
   ]
  },
  {
   "cell_type": "code",
   "execution_count": 370,
   "metadata": {},
   "outputs": [],
   "source": [
    "#average speed for each rider for each location he goes to\n",
    "rider_av_speed = train.groupby(['rider_id']).agg({'hourly_av_speed_in_ms':'mean'})\n",
    "\n",
    "rider_av_speed.columns = ['rider_mean_hourly_speed_ms']\n",
    "\n",
    "train = pd.merge(train, rider_av_speed, on='rider_id', how='left')"
   ]
  },
  {
   "cell_type": "code",
   "execution_count": 371,
   "metadata": {},
   "outputs": [],
   "source": [
    "#average speed for each rider for each location he goes to\n",
    "rider_av_speed = test.groupby(['rider_id']).agg({'hourly_av_speed_in_ms':'mean'})\n",
    "\n",
    "rider_av_speed.columns = ['rider_mean_hourly_speed_ms']\n",
    "\n",
    "test = pd.merge(test, rider_av_speed, on='rider_id', how='left')"
   ]
  },
  {
   "cell_type": "code",
   "execution_count": 68,
   "metadata": {},
   "outputs": [
    {
     "data": {
      "image/png": "[encoded data removed]",
      "text/plain": [
       "<Figure size 1080x360 with 2 Axes>"
      ]
     },
     "metadata": {
      "needs_background": "light"
     },
     "output_type": "display_data"
    }
   ],
   "source": [
    "fig,ax=plt.subplots(1,2,figsize=[15,5])\n",
    "sns.barplot('pickup_time_of_day','pickup_to_arrival_time', hue='pickup_weekday',data=train,ci=None, ax=ax[0])\n",
    "sns.barplot('pickup_weekday','pickup_to_arrival_time', hue='pickup_time_of_day',data=train,ci=None, ax=ax[1])\n",
    "ax[0].set(ylim=[0,2300], xlim=(-0.56,4.5))\n",
    "ax[1].set(ylim=[0,2300], xlim=(-0.56,6.5))\n",
    "ax[0].legend(ncol=4, loc='best', title='Days', title_fontsize=13)\n",
    "ax[1].legend(ncol=7, loc='upper center', title='Time of Day', title_fontsize=13);"
   ]
  },
  {
   "cell_type": "code",
   "execution_count": 69,
   "metadata": {},
   "outputs": [
    {
     "data": {
      "image/png": "[encoded data removed]",
      "text/plain": [
       "<Figure size 1008x288 with 3 Axes>"
      ]
     },
     "metadata": {
      "needs_background": "light"
     },
     "output_type": "display_data"
    }
   ],
   "source": [
    "fig,ax = plt.subplots(1,3, figsize=[14,4])\n",
    "sns.distplot(train.hourly_travel_time, ax=ax[0])\n",
    "sns.distplot(train.hourly_av_speed_in_ms, ax=ax[1])\n",
    "sns.distplot(train.rider_delay_time_in_mins, ax=ax[2]);"
   ]
  },
  {
   "cell_type": "code",
   "execution_count": 70,
   "metadata": {},
   "outputs": [
    {
     "data": {
      "text/plain": [
       "order_no                                 0\n",
       "user_id                                  0\n",
       " vehicle_type                            0\n",
       "platform_type                            0\n",
       "personal/business                        0\n",
       "placement_day_of_month                   0\n",
       "placement_weekday                        0\n",
       "placement_time                           0\n",
       "confirmation_day_of_month                0\n",
       "confirmation_weekday                     0\n",
       "confirmation_time                        0\n",
       "pickup_arrival_day_of_month              0\n",
       "pickup_arrival_weekday                   0\n",
       "pickup_arrival_time                      0\n",
       "pickup_day_of_month                      0\n",
       "pickup_weekday                           0\n",
       "pickup_time                              0\n",
       "delivery_day_of_month                    0\n",
       "delivery_arrival_weekday                 0\n",
       "delivery_time                            0\n",
       "distance_in_km                           0\n",
       "temperature                           4366\n",
       "precipitation_in_mm                  20649\n",
       "pickup_latitude                          0\n",
       "pickup_longitude                         0\n",
       "destination_latitude                     0\n",
       "destination_longitude                    0\n",
       "rider_id                                 0\n",
       "pickup_to_arrival_time                   0\n",
       "pickup_hr                                0\n",
       "pickup_min                               0\n",
       "Destination_city                       769\n",
       "Pickup_city                            353\n",
       "hourly_travel_time                       0\n",
       "pickup_time_of_day                       0\n",
       "placement_time_of_day                    0\n",
       "rider_delay_time_in_mins                 0\n",
       "placement_to_pickup_time_min             0\n",
       "placement_to_cofirmation_time_min        0\n",
       "pickup_hr_18_dist_9                      0\n",
       "distance_greater_11                      0\n",
       "hourly_av_speed_in_ms                    0\n",
       "rider_mean_hourly_speed_ms               0\n",
       "dtype: int64"
      ]
     },
     "execution_count": 70,
     "metadata": {},
     "output_type": "execute_result"
    }
   ],
   "source": [
    "train.isnull().sum()"
   ]
  },
  {
   "cell_type": "code",
   "execution_count": 372,
   "metadata": {},
   "outputs": [],
   "source": [
    "def temperature_na_replace(data):  \n",
    "    temps = []\n",
    "    temp_ = data.groupby('placement_time_of_day').agg({'temperature':'mean'}).reset_index()\n",
    "    temp_dict = dict(temp_.values)\n",
    "    \n",
    "    for daytime, temp in data[['placement_time_of_day','temperature']].values:\n",
    "        if daytime == 'EM' and np.isnan(temp)==True:\n",
    "            temps.append(round(temp_dict['EM'],1))\n",
    "        elif daytime == 'Af' and np.isnan(temp)== True:\n",
    "            temps.append(round(temp_dict['Af'],1))\n",
    "        elif daytime == 'Ev' and np.isnan(temp) == True:\n",
    "            temps.append(round(temp_dict['Ev'],1))\n",
    "        elif daytime == 'Mo' and np.isnan(temp) == True:\n",
    "            temps.append(round(temp_dict['Mo'], 1))\n",
    "        elif daytime == 'Ni' and np.isnan(temp) == True:\n",
    "            temps.append(round(temp_dict['Ni'], 1))\n",
    "        else:\n",
    "            temps.append(temp)\n",
    "    data['temperature'] = temps\n",
    "    return data"
   ]
  },
  {
   "cell_type": "code",
   "execution_count": 373,
   "metadata": {},
   "outputs": [],
   "source": [
    "for data in [train,test]:\n",
    "    data = temperature_na_replace(data)"
   ]
  },
  {
   "cell_type": "code",
   "execution_count": 374,
   "metadata": {},
   "outputs": [],
   "source": [
    "for dataset in [train, test]:\n",
    "    dataset['pickup_dest_lat_diff_10'] = abs(dataset['pickup_latitude'] - dataset['destination_latitude']) * 10\n",
    "    dataset['pickup_dest_long_diff_10'] = abs(dataset['pickup_longitude'] - dataset['destination_longitude']) * 10"
   ]
  },
  {
   "cell_type": "code",
   "execution_count": 179,
   "metadata": {},
   "outputs": [
    {
     "data": {
      "text/plain": [
       "Index(['order_no', 'user_id', ' vehicle_type', 'platform_type',\n",
       "       'personal/business', 'placement_day_of_month', 'placement_weekday',\n",
       "       'placement_time', 'confirmation_day_of_month', 'confirmation_weekday',\n",
       "       'confirmation_time', 'pickup_arrival_day_of_month',\n",
       "       'pickup_arrival_weekday', 'pickup_arrival_time', 'pickup_day_of_month',\n",
       "       'pickup_weekday', 'pickup_time', 'delivery_day_of_month',\n",
       "       'delivery_arrival_weekday', 'delivery_time', 'distance_in_km',\n",
       "       'temperature', 'precipitation_in_mm', 'pickup_latitude',\n",
       "       'pickup_longitude', 'destination_latitude', 'destination_longitude',\n",
       "       'rider_id', 'pickup_to_arrival_time', 'pickup_hr', 'pickup_min',\n",
       "       'Destination_city', 'Pickup_city', 'hourly_travel_time',\n",
       "       'pickup_time_of_day', 'placement_time_of_day',\n",
       "       'rider_delay_time_in_mins', 'placement_to_pickup_time_min',\n",
       "       'placement_to_cofirmation_time_min', 'pickup_hr_18_dist_9',\n",
       "       'distance_greater_11', 'hourly_av_speed_in_ms',\n",
       "       'rider_mean_hourly_speed_ms', 'pickup_dest_lat_diff_10',\n",
       "       'pickup_dest_long_diff_10'],\n",
       "      dtype='object')"
      ]
     },
     "execution_count": 179,
     "metadata": {},
     "output_type": "execute_result"
    }
   ],
   "source": [
    "train.columns"
   ]
  },
  {
   "cell_type": "code",
   "execution_count": 375,
   "metadata": {},
   "outputs": [],
   "source": [
    "train_df = train[['pickup_hr', 'distance_in_km', \n",
    "                  'temperature', 'pickup_latitude', 'pickup_longitude', 'destination_latitude', 'destination_longitude', \n",
    "                  'pickup_dest_lat_diff_10', 'pickup_dest_long_diff_10', 'pickup_time_of_day','pickup_weekday',\n",
    "                  'hourly_av_speed_in_ms', 'rider_mean_hourly_speed_ms','rider_delay_time_in_mins', \n",
    "                  'placement_to_pickup_time_min', 'placement_to_confirmation_time_min', 'confirmation_to_pickup_time_min',\n",
    "                  'pickup_hr_18_dist_9', 'distance_greater_11','pickup_to_arrival_time']]\n",
    "\n",
    "test_df = test[['pickup_hr', 'distance_in_km','temperature', 'pickup_latitude', 'pickup_longitude', \n",
    "                'destination_latitude', 'destination_longitude', 'pickup_dest_lat_diff_10', 'pickup_dest_long_diff_10', \n",
    "                'pickup_time_of_day','pickup_weekday', 'hourly_av_speed_in_ms','rider_mean_hourly_speed_ms',\n",
    "                'rider_delay_time_in_mins', 'placement_to_pickup_time_min', 'placement_to_confirmation_time_min', \n",
    "                'confirmation_to_pickup_time_min','pickup_hr_18_dist_9', 'distance_greater_11']]"
   ]
  },
  {
   "cell_type": "code",
   "execution_count": 376,
   "metadata": {},
   "outputs": [],
   "source": [
    "for data in [train_df, test_df]:\n",
    "    time_of_day_map = dict(data.pickup_time_of_day.value_counts().transform(lambda x: x/x.sum()))\n",
    "    data['pickup_time_of_day'] = data.pickup_time_of_day.map(time_of_day_map)"
   ]
  },
  {
   "cell_type": "code",
   "execution_count": 377,
   "metadata": {},
   "outputs": [],
   "source": [
    "for data in [train_df, test_df]:\n",
    "    weekday_map = dict(data.pickup_weekday.value_counts().transform(lambda x: x/x.sum()))\n",
    "    data['pickup_weekday'] = data.pickup_weekday.map(weekday_map)"
   ]
  },
  {
   "cell_type": "raw",
   "metadata": {},
   "source": [
    "train_df = pd.get_dummies(train_df,columns=['pickup_hr','pickup_weekday','pickup_time_of_day'])\n",
    "test_df = pd.get_dummies(test_df,columns=['pickup_hr','pickup_weekday','pickup_time_of_day'])"
   ]
  },
  {
   "cell_type": "code",
   "execution_count": 378,
   "metadata": {},
   "outputs": [],
   "source": [
    "corr =train_df.corr()"
   ]
  },
  {
   "cell_type": "code",
   "execution_count": 379,
   "metadata": {},
   "outputs": [],
   "source": [
    "mask= np.zeros_like(corr)\n",
    "mask[np.triu_indices_from(mask)] = True"
   ]
  },
  {
   "cell_type": "code",
   "execution_count": 380,
   "metadata": {},
   "outputs": [
    {
     "data": {
      "text/html": [
       "<div>\n",
       "<style scoped>\n",
       "    .dataframe tbody tr th:only-of-type {\n",
       "        vertical-align: middle;\n",
       "    }\n",
       "\n",
       "    .dataframe tbody tr th {\n",
       "        vertical-align: top;\n",
       "    }\n",
       "\n",
       "    .dataframe thead th {\n",
       "        text-align: right;\n",
       "    }\n",
       "</style>\n",
       "<table border=\"1\" class=\"dataframe\">\n",
       "  <thead>\n",
       "    <tr style=\"text-align: right;\">\n",
       "      <th></th>\n",
       "      <th>pickup_hr</th>\n",
       "      <th>distance_in_km</th>\n",
       "      <th>temperature</th>\n",
       "      <th>pickup_latitude</th>\n",
       "      <th>pickup_longitude</th>\n",
       "      <th>destination_latitude</th>\n",
       "      <th>destination_longitude</th>\n",
       "      <th>pickup_dest_lat_diff_10</th>\n",
       "      <th>pickup_dest_long_diff_10</th>\n",
       "      <th>pickup_time_of_day</th>\n",
       "      <th>pickup_weekday</th>\n",
       "      <th>hourly_av_speed_in_ms</th>\n",
       "      <th>rider_mean_hourly_speed_ms</th>\n",
       "      <th>rider_delay_time_in_mins</th>\n",
       "      <th>placement_to_pickup_time_min</th>\n",
       "      <th>placement_to_confirmation_time_min</th>\n",
       "      <th>confirmation_to_pickup_time_min</th>\n",
       "      <th>pickup_hr_18_dist_9</th>\n",
       "      <th>distance_greater_11</th>\n",
       "      <th>pickup_to_arrival_time</th>\n",
       "    </tr>\n",
       "  </thead>\n",
       "  <tbody>\n",
       "    <tr>\n",
       "      <td>pickup_hr</td>\n",
       "      <td>1.000000</td>\n",
       "      <td>-0.036373</td>\n",
       "      <td>0.422780</td>\n",
       "      <td>0.039430</td>\n",
       "      <td>-0.011040</td>\n",
       "      <td>0.018985</td>\n",
       "      <td>-0.002764</td>\n",
       "      <td>-0.032097</td>\n",
       "      <td>-0.020648</td>\n",
       "      <td>0.156231</td>\n",
       "      <td>0.034237</td>\n",
       "      <td>-0.053611</td>\n",
       "      <td>-0.030169</td>\n",
       "      <td>0.021603</td>\n",
       "      <td>0.044878</td>\n",
       "      <td>0.062035</td>\n",
       "      <td>0.044878</td>\n",
       "      <td>-0.027662</td>\n",
       "      <td>-0.023926</td>\n",
       "      <td>0.010314</td>\n",
       "    </tr>\n",
       "    <tr>\n",
       "      <td>distance_in_km</td>\n",
       "      <td>-0.036373</td>\n",
       "      <td>1.000000</td>\n",
       "      <td>-0.005331</td>\n",
       "      <td>-0.124338</td>\n",
       "      <td>0.178537</td>\n",
       "      <td>-0.079366</td>\n",
       "      <td>0.135397</td>\n",
       "      <td>0.724589</td>\n",
       "      <td>0.814407</td>\n",
       "      <td>-0.001606</td>\n",
       "      <td>-0.028271</td>\n",
       "      <td>-0.249968</td>\n",
       "      <td>-0.114072</td>\n",
       "      <td>0.103208</td>\n",
       "      <td>0.152856</td>\n",
       "      <td>-0.018394</td>\n",
       "      <td>0.152856</td>\n",
       "      <td>-0.756438</td>\n",
       "      <td>0.823154</td>\n",
       "      <td>0.580608</td>\n",
       "    </tr>\n",
       "    <tr>\n",
       "      <td>temperature</td>\n",
       "      <td>0.422780</td>\n",
       "      <td>-0.005331</td>\n",
       "      <td>1.000000</td>\n",
       "      <td>0.020441</td>\n",
       "      <td>0.009567</td>\n",
       "      <td>0.011425</td>\n",
       "      <td>0.025563</td>\n",
       "      <td>0.006680</td>\n",
       "      <td>0.002400</td>\n",
       "      <td>0.337384</td>\n",
       "      <td>0.042336</td>\n",
       "      <td>-0.033666</td>\n",
       "      <td>-0.015444</td>\n",
       "      <td>0.034322</td>\n",
       "      <td>0.009139</td>\n",
       "      <td>0.003066</td>\n",
       "      <td>0.009139</td>\n",
       "      <td>0.027137</td>\n",
       "      <td>0.004497</td>\n",
       "      <td>0.007258</td>\n",
       "    </tr>\n",
       "    <tr>\n",
       "      <td>pickup_latitude</td>\n",
       "      <td>0.039430</td>\n",
       "      <td>-0.124338</td>\n",
       "      <td>0.020441</td>\n",
       "      <td>1.000000</td>\n",
       "      <td>-0.147629</td>\n",
       "      <td>0.114975</td>\n",
       "      <td>0.051399</td>\n",
       "      <td>-0.048701</td>\n",
       "      <td>-0.131114</td>\n",
       "      <td>-0.007374</td>\n",
       "      <td>0.016380</td>\n",
       "      <td>0.037834</td>\n",
       "      <td>0.045786</td>\n",
       "      <td>-0.120896</td>\n",
       "      <td>-0.123886</td>\n",
       "      <td>-0.017253</td>\n",
       "      <td>-0.123886</td>\n",
       "      <td>0.100933</td>\n",
       "      <td>-0.092499</td>\n",
       "      <td>-0.053823</td>\n",
       "    </tr>\n",
       "    <tr>\n",
       "      <td>pickup_longitude</td>\n",
       "      <td>-0.011040</td>\n",
       "      <td>0.178537</td>\n",
       "      <td>0.009567</td>\n",
       "      <td>-0.147629</td>\n",
       "      <td>1.000000</td>\n",
       "      <td>0.014992</td>\n",
       "      <td>0.082803</td>\n",
       "      <td>0.125789</td>\n",
       "      <td>0.143979</td>\n",
       "      <td>0.019638</td>\n",
       "      <td>-0.022262</td>\n",
       "      <td>-0.081763</td>\n",
       "      <td>-0.057918</td>\n",
       "      <td>0.167870</td>\n",
       "      <td>0.190317</td>\n",
       "      <td>0.033058</td>\n",
       "      <td>0.190317</td>\n",
       "      <td>-0.134472</td>\n",
       "      <td>0.174145</td>\n",
       "      <td>0.060285</td>\n",
       "    </tr>\n",
       "    <tr>\n",
       "      <td>destination_latitude</td>\n",
       "      <td>0.018985</td>\n",
       "      <td>-0.079366</td>\n",
       "      <td>0.011425</td>\n",
       "      <td>0.114975</td>\n",
       "      <td>0.014992</td>\n",
       "      <td>1.000000</td>\n",
       "      <td>0.046767</td>\n",
       "      <td>-0.017504</td>\n",
       "      <td>-0.139300</td>\n",
       "      <td>-0.003937</td>\n",
       "      <td>-0.018023</td>\n",
       "      <td>-0.063801</td>\n",
       "      <td>0.000459</td>\n",
       "      <td>-0.030231</td>\n",
       "      <td>-0.019648</td>\n",
       "      <td>-0.008562</td>\n",
       "      <td>-0.019648</td>\n",
       "      <td>0.063198</td>\n",
       "      <td>-0.091044</td>\n",
       "      <td>-0.061872</td>\n",
       "    </tr>\n",
       "    <tr>\n",
       "      <td>destination_longitude</td>\n",
       "      <td>-0.002764</td>\n",
       "      <td>0.135397</td>\n",
       "      <td>0.025563</td>\n",
       "      <td>0.051399</td>\n",
       "      <td>0.082803</td>\n",
       "      <td>0.046767</td>\n",
       "      <td>1.000000</td>\n",
       "      <td>0.191770</td>\n",
       "      <td>0.117612</td>\n",
       "      <td>0.028745</td>\n",
       "      <td>-0.013567</td>\n",
       "      <td>-0.087206</td>\n",
       "      <td>-0.022809</td>\n",
       "      <td>-0.015863</td>\n",
       "      <td>0.001818</td>\n",
       "      <td>0.018096</td>\n",
       "      <td>0.001818</td>\n",
       "      <td>-0.085125</td>\n",
       "      <td>0.135330</td>\n",
       "      <td>0.070425</td>\n",
       "    </tr>\n",
       "    <tr>\n",
       "      <td>pickup_dest_lat_diff_10</td>\n",
       "      <td>-0.032097</td>\n",
       "      <td>0.724589</td>\n",
       "      <td>0.006680</td>\n",
       "      <td>-0.048701</td>\n",
       "      <td>0.125789</td>\n",
       "      <td>-0.017504</td>\n",
       "      <td>0.191770</td>\n",
       "      <td>1.000000</td>\n",
       "      <td>0.371704</td>\n",
       "      <td>-0.002196</td>\n",
       "      <td>-0.007500</td>\n",
       "      <td>-0.375242</td>\n",
       "      <td>-0.128599</td>\n",
       "      <td>0.076531</td>\n",
       "      <td>0.103311</td>\n",
       "      <td>-0.006861</td>\n",
       "      <td>0.103311</td>\n",
       "      <td>-0.534017</td>\n",
       "      <td>0.556860</td>\n",
       "      <td>0.453923</td>\n",
       "    </tr>\n",
       "    <tr>\n",
       "      <td>pickup_dest_long_diff_10</td>\n",
       "      <td>-0.020648</td>\n",
       "      <td>0.814407</td>\n",
       "      <td>0.002400</td>\n",
       "      <td>-0.131114</td>\n",
       "      <td>0.143979</td>\n",
       "      <td>-0.139300</td>\n",
       "      <td>0.117612</td>\n",
       "      <td>0.371704</td>\n",
       "      <td>1.000000</td>\n",
       "      <td>0.008755</td>\n",
       "      <td>-0.020400</td>\n",
       "      <td>-0.173384</td>\n",
       "      <td>-0.086082</td>\n",
       "      <td>0.085471</td>\n",
       "      <td>0.119772</td>\n",
       "      <td>-0.012162</td>\n",
       "      <td>0.119772</td>\n",
       "      <td>-0.610704</td>\n",
       "      <td>0.698792</td>\n",
       "      <td>0.467943</td>\n",
       "    </tr>\n",
       "    <tr>\n",
       "      <td>pickup_time_of_day</td>\n",
       "      <td>0.156231</td>\n",
       "      <td>-0.001606</td>\n",
       "      <td>0.337384</td>\n",
       "      <td>-0.007374</td>\n",
       "      <td>0.019638</td>\n",
       "      <td>-0.003937</td>\n",
       "      <td>0.028745</td>\n",
       "      <td>-0.002196</td>\n",
       "      <td>0.008755</td>\n",
       "      <td>1.000000</td>\n",
       "      <td>0.033936</td>\n",
       "      <td>-0.005623</td>\n",
       "      <td>0.000542</td>\n",
       "      <td>0.004174</td>\n",
       "      <td>-0.003309</td>\n",
       "      <td>0.000115</td>\n",
       "      <td>-0.003309</td>\n",
       "      <td>0.084253</td>\n",
       "      <td>-0.000622</td>\n",
       "      <td>0.021967</td>\n",
       "    </tr>\n",
       "    <tr>\n",
       "      <td>pickup_weekday</td>\n",
       "      <td>0.034237</td>\n",
       "      <td>-0.028271</td>\n",
       "      <td>0.042336</td>\n",
       "      <td>0.016380</td>\n",
       "      <td>-0.022262</td>\n",
       "      <td>-0.018023</td>\n",
       "      <td>-0.013567</td>\n",
       "      <td>-0.007500</td>\n",
       "      <td>-0.020400</td>\n",
       "      <td>0.033936</td>\n",
       "      <td>1.000000</td>\n",
       "      <td>0.000002</td>\n",
       "      <td>-0.006554</td>\n",
       "      <td>-0.017361</td>\n",
       "      <td>-0.024775</td>\n",
       "      <td>0.013433</td>\n",
       "      <td>-0.024775</td>\n",
       "      <td>0.028782</td>\n",
       "      <td>-0.033038</td>\n",
       "      <td>0.020641</td>\n",
       "    </tr>\n",
       "    <tr>\n",
       "      <td>hourly_av_speed_in_ms</td>\n",
       "      <td>-0.053611</td>\n",
       "      <td>-0.249968</td>\n",
       "      <td>-0.033666</td>\n",
       "      <td>0.037834</td>\n",
       "      <td>-0.081763</td>\n",
       "      <td>-0.063801</td>\n",
       "      <td>-0.087206</td>\n",
       "      <td>-0.375242</td>\n",
       "      <td>-0.173384</td>\n",
       "      <td>-0.005623</td>\n",
       "      <td>0.000002</td>\n",
       "      <td>1.000000</td>\n",
       "      <td>0.250889</td>\n",
       "      <td>-0.011445</td>\n",
       "      <td>-0.025551</td>\n",
       "      <td>-0.005122</td>\n",
       "      <td>-0.025551</td>\n",
       "      <td>0.067080</td>\n",
       "      <td>-0.147501</td>\n",
       "      <td>-0.145104</td>\n",
       "    </tr>\n",
       "    <tr>\n",
       "      <td>rider_mean_hourly_speed_ms</td>\n",
       "      <td>-0.030169</td>\n",
       "      <td>-0.114072</td>\n",
       "      <td>-0.015444</td>\n",
       "      <td>0.045786</td>\n",
       "      <td>-0.057918</td>\n",
       "      <td>0.000459</td>\n",
       "      <td>-0.022809</td>\n",
       "      <td>-0.128599</td>\n",
       "      <td>-0.086082</td>\n",
       "      <td>0.000542</td>\n",
       "      <td>-0.006554</td>\n",
       "      <td>0.250889</td>\n",
       "      <td>1.000000</td>\n",
       "      <td>-0.013124</td>\n",
       "      <td>-0.014741</td>\n",
       "      <td>-0.009829</td>\n",
       "      <td>-0.014741</td>\n",
       "      <td>0.054058</td>\n",
       "      <td>-0.085105</td>\n",
       "      <td>-0.075621</td>\n",
       "    </tr>\n",
       "    <tr>\n",
       "      <td>rider_delay_time_in_mins</td>\n",
       "      <td>0.021603</td>\n",
       "      <td>0.103208</td>\n",
       "      <td>0.034322</td>\n",
       "      <td>-0.120896</td>\n",
       "      <td>0.167870</td>\n",
       "      <td>-0.030231</td>\n",
       "      <td>-0.015863</td>\n",
       "      <td>0.076531</td>\n",
       "      <td>0.085471</td>\n",
       "      <td>0.004174</td>\n",
       "      <td>-0.017361</td>\n",
       "      <td>-0.011445</td>\n",
       "      <td>-0.013124</td>\n",
       "      <td>1.000000</td>\n",
       "      <td>0.713892</td>\n",
       "      <td>-0.002831</td>\n",
       "      <td>0.713892</td>\n",
       "      <td>-0.092090</td>\n",
       "      <td>0.092810</td>\n",
       "      <td>-0.079604</td>\n",
       "    </tr>\n",
       "    <tr>\n",
       "      <td>placement_to_pickup_time_min</td>\n",
       "      <td>0.044878</td>\n",
       "      <td>0.152856</td>\n",
       "      <td>0.009139</td>\n",
       "      <td>-0.123886</td>\n",
       "      <td>0.190317</td>\n",
       "      <td>-0.019648</td>\n",
       "      <td>0.001818</td>\n",
       "      <td>0.103311</td>\n",
       "      <td>0.119772</td>\n",
       "      <td>-0.003309</td>\n",
       "      <td>-0.024775</td>\n",
       "      <td>-0.025551</td>\n",
       "      <td>-0.014741</td>\n",
       "      <td>0.713892</td>\n",
       "      <td>1.000000</td>\n",
       "      <td>0.022858</td>\n",
       "      <td>1.000000</td>\n",
       "      <td>-0.123551</td>\n",
       "      <td>0.126638</td>\n",
       "      <td>0.063575</td>\n",
       "    </tr>\n",
       "    <tr>\n",
       "      <td>placement_to_confirmation_time_min</td>\n",
       "      <td>0.062035</td>\n",
       "      <td>-0.018394</td>\n",
       "      <td>0.003066</td>\n",
       "      <td>-0.017253</td>\n",
       "      <td>0.033058</td>\n",
       "      <td>-0.008562</td>\n",
       "      <td>0.018096</td>\n",
       "      <td>-0.006861</td>\n",
       "      <td>-0.012162</td>\n",
       "      <td>0.000115</td>\n",
       "      <td>0.013433</td>\n",
       "      <td>-0.005122</td>\n",
       "      <td>-0.009829</td>\n",
       "      <td>-0.002831</td>\n",
       "      <td>0.022858</td>\n",
       "      <td>1.000000</td>\n",
       "      <td>0.022858</td>\n",
       "      <td>0.011378</td>\n",
       "      <td>-0.029054</td>\n",
       "      <td>0.018676</td>\n",
       "    </tr>\n",
       "    <tr>\n",
       "      <td>confirmation_to_pickup_time_min</td>\n",
       "      <td>0.044878</td>\n",
       "      <td>0.152856</td>\n",
       "      <td>0.009139</td>\n",
       "      <td>-0.123886</td>\n",
       "      <td>0.190317</td>\n",
       "      <td>-0.019648</td>\n",
       "      <td>0.001818</td>\n",
       "      <td>0.103311</td>\n",
       "      <td>0.119772</td>\n",
       "      <td>-0.003309</td>\n",
       "      <td>-0.024775</td>\n",
       "      <td>-0.025551</td>\n",
       "      <td>-0.014741</td>\n",
       "      <td>0.713892</td>\n",
       "      <td>1.000000</td>\n",
       "      <td>0.022858</td>\n",
       "      <td>1.000000</td>\n",
       "      <td>-0.123551</td>\n",
       "      <td>0.126638</td>\n",
       "      <td>0.063575</td>\n",
       "    </tr>\n",
       "    <tr>\n",
       "      <td>pickup_hr_18_dist_9</td>\n",
       "      <td>-0.027662</td>\n",
       "      <td>-0.756438</td>\n",
       "      <td>0.027137</td>\n",
       "      <td>0.100933</td>\n",
       "      <td>-0.134472</td>\n",
       "      <td>0.063198</td>\n",
       "      <td>-0.085125</td>\n",
       "      <td>-0.534017</td>\n",
       "      <td>-0.610704</td>\n",
       "      <td>0.084253</td>\n",
       "      <td>0.028782</td>\n",
       "      <td>0.067080</td>\n",
       "      <td>0.054058</td>\n",
       "      <td>-0.092090</td>\n",
       "      <td>-0.123551</td>\n",
       "      <td>0.011378</td>\n",
       "      <td>-0.123551</td>\n",
       "      <td>1.000000</td>\n",
       "      <td>-0.672655</td>\n",
       "      <td>-0.441636</td>\n",
       "    </tr>\n",
       "    <tr>\n",
       "      <td>distance_greater_11</td>\n",
       "      <td>-0.023926</td>\n",
       "      <td>0.823154</td>\n",
       "      <td>0.004497</td>\n",
       "      <td>-0.092499</td>\n",
       "      <td>0.174145</td>\n",
       "      <td>-0.091044</td>\n",
       "      <td>0.135330</td>\n",
       "      <td>0.556860</td>\n",
       "      <td>0.698792</td>\n",
       "      <td>-0.000622</td>\n",
       "      <td>-0.033038</td>\n",
       "      <td>-0.147501</td>\n",
       "      <td>-0.085105</td>\n",
       "      <td>0.092810</td>\n",
       "      <td>0.126638</td>\n",
       "      <td>-0.029054</td>\n",
       "      <td>0.126638</td>\n",
       "      <td>-0.672655</td>\n",
       "      <td>1.000000</td>\n",
       "      <td>0.471844</td>\n",
       "    </tr>\n",
       "    <tr>\n",
       "      <td>pickup_to_arrival_time</td>\n",
       "      <td>0.010314</td>\n",
       "      <td>0.580608</td>\n",
       "      <td>0.007258</td>\n",
       "      <td>-0.053823</td>\n",
       "      <td>0.060285</td>\n",
       "      <td>-0.061872</td>\n",
       "      <td>0.070425</td>\n",
       "      <td>0.453923</td>\n",
       "      <td>0.467943</td>\n",
       "      <td>0.021967</td>\n",
       "      <td>0.020641</td>\n",
       "      <td>-0.145104</td>\n",
       "      <td>-0.075621</td>\n",
       "      <td>-0.079604</td>\n",
       "      <td>0.063575</td>\n",
       "      <td>0.018676</td>\n",
       "      <td>0.063575</td>\n",
       "      <td>-0.441636</td>\n",
       "      <td>0.471844</td>\n",
       "      <td>1.000000</td>\n",
       "    </tr>\n",
       "  </tbody>\n",
       "</table>\n",
       "</div>"
      ],
      "text/plain": [
       "                                    pickup_hr  distance_in_km  temperature  \\\n",
       "pickup_hr                            1.000000       -0.036373     0.422780   \n",
       "distance_in_km                      -0.036373        1.000000    -0.005331   \n",
       "temperature                          0.422780       -0.005331     1.000000   \n",
       "pickup_latitude                      0.039430       -0.124338     0.020441   \n",
       "pickup_longitude                    -0.011040        0.178537     0.009567   \n",
       "destination_latitude                 0.018985       -0.079366     0.011425   \n",
       "destination_longitude               -0.002764        0.135397     0.025563   \n",
       "pickup_dest_lat_diff_10             -0.032097        0.724589     0.006680   \n",
       "pickup_dest_long_diff_10            -0.020648        0.814407     0.002400   \n",
       "pickup_time_of_day                   0.156231       -0.001606     0.337384   \n",
       "pickup_weekday                       0.034237       -0.028271     0.042336   \n",
       "hourly_av_speed_in_ms               -0.053611       -0.249968    -0.033666   \n",
       "rider_mean_hourly_speed_ms          -0.030169       -0.114072    -0.015444   \n",
       "rider_delay_time_in_mins             0.021603        0.103208     0.034322   \n",
       "placement_to_pickup_time_min         0.044878        0.152856     0.009139   \n",
       "placement_to_confirmation_time_min   0.062035       -0.018394     0.003066   \n",
       "confirmation_to_pickup_time_min      0.044878        0.152856     0.009139   \n",
       "pickup_hr_18_dist_9                 -0.027662       -0.756438     0.027137   \n",
       "distance_greater_11                 -0.023926        0.823154     0.004497   \n",
       "pickup_to_arrival_time               0.010314        0.580608     0.007258   \n",
       "\n",
       "                                    pickup_latitude  pickup_longitude  \\\n",
       "pickup_hr                                  0.039430         -0.011040   \n",
       "distance_in_km                            -0.124338          0.178537   \n",
       "temperature                                0.020441          0.009567   \n",
       "pickup_latitude                            1.000000         -0.147629   \n",
       "pickup_longitude                          -0.147629          1.000000   \n",
       "destination_latitude                       0.114975          0.014992   \n",
       "destination_longitude                      0.051399          0.082803   \n",
       "pickup_dest_lat_diff_10                   -0.048701          0.125789   \n",
       "pickup_dest_long_diff_10                  -0.131114          0.143979   \n",
       "pickup_time_of_day                        -0.007374          0.019638   \n",
       "pickup_weekday                             0.016380         -0.022262   \n",
       "hourly_av_speed_in_ms                      0.037834         -0.081763   \n",
       "rider_mean_hourly_speed_ms                 0.045786         -0.057918   \n",
       "rider_delay_time_in_mins                  -0.120896          0.167870   \n",
       "placement_to_pickup_time_min              -0.123886          0.190317   \n",
       "placement_to_confirmation_time_min        -0.017253          0.033058   \n",
       "confirmation_to_pickup_time_min           -0.123886          0.190317   \n",
       "pickup_hr_18_dist_9                        0.100933         -0.134472   \n",
       "distance_greater_11                       -0.092499          0.174145   \n",
       "pickup_to_arrival_time                    -0.053823          0.060285   \n",
       "\n",
       "                                    destination_latitude  \\\n",
       "pickup_hr                                       0.018985   \n",
       "distance_in_km                                 -0.079366   \n",
       "temperature                                     0.011425   \n",
       "pickup_latitude                                 0.114975   \n",
       "pickup_longitude                                0.014992   \n",
       "destination_latitude                            1.000000   \n",
       "destination_longitude                           0.046767   \n",
       "pickup_dest_lat_diff_10                        -0.017504   \n",
       "pickup_dest_long_diff_10                       -0.139300   \n",
       "pickup_time_of_day                             -0.003937   \n",
       "pickup_weekday                                 -0.018023   \n",
       "hourly_av_speed_in_ms                          -0.063801   \n",
       "rider_mean_hourly_speed_ms                      0.000459   \n",
       "rider_delay_time_in_mins                       -0.030231   \n",
       "placement_to_pickup_time_min                   -0.019648   \n",
       "placement_to_confirmation_time_min             -0.008562   \n",
       "confirmation_to_pickup_time_min                -0.019648   \n",
       "pickup_hr_18_dist_9                             0.063198   \n",
       "distance_greater_11                            -0.091044   \n",
       "pickup_to_arrival_time                         -0.061872   \n",
       "\n",
       "                                    destination_longitude  \\\n",
       "pickup_hr                                       -0.002764   \n",
       "distance_in_km                                   0.135397   \n",
       "temperature                                      0.025563   \n",
       "pickup_latitude                                  0.051399   \n",
       "pickup_longitude                                 0.082803   \n",
       "destination_latitude                             0.046767   \n",
       "destination_longitude                            1.000000   \n",
       "pickup_dest_lat_diff_10                          0.191770   \n",
       "pickup_dest_long_diff_10                         0.117612   \n",
       "pickup_time_of_day                               0.028745   \n",
       "pickup_weekday                                  -0.013567   \n",
       "hourly_av_speed_in_ms                           -0.087206   \n",
       "rider_mean_hourly_speed_ms                      -0.022809   \n",
       "rider_delay_time_in_mins                        -0.015863   \n",
       "placement_to_pickup_time_min                     0.001818   \n",
       "placement_to_confirmation_time_min               0.018096   \n",
       "confirmation_to_pickup_time_min                  0.001818   \n",
       "pickup_hr_18_dist_9                             -0.085125   \n",
       "distance_greater_11                              0.135330   \n",
       "pickup_to_arrival_time                           0.070425   \n",
       "\n",
       "                                    pickup_dest_lat_diff_10  \\\n",
       "pickup_hr                                         -0.032097   \n",
       "distance_in_km                                     0.724589   \n",
       "temperature                                        0.006680   \n",
       "pickup_latitude                                   -0.048701   \n",
       "pickup_longitude                                   0.125789   \n",
       "destination_latitude                              -0.017504   \n",
       "destination_longitude                              0.191770   \n",
       "pickup_dest_lat_diff_10                            1.000000   \n",
       "pickup_dest_long_diff_10                           0.371704   \n",
       "pickup_time_of_day                                -0.002196   \n",
       "pickup_weekday                                    -0.007500   \n",
       "hourly_av_speed_in_ms                             -0.375242   \n",
       "rider_mean_hourly_speed_ms                        -0.128599   \n",
       "rider_delay_time_in_mins                           0.076531   \n",
       "placement_to_pickup_time_min                       0.103311   \n",
       "placement_to_confirmation_time_min                -0.006861   \n",
       "confirmation_to_pickup_time_min                    0.103311   \n",
       "pickup_hr_18_dist_9                               -0.534017   \n",
       "distance_greater_11                                0.556860   \n",
       "pickup_to_arrival_time                             0.453923   \n",
       "\n",
       "                                    pickup_dest_long_diff_10  \\\n",
       "pickup_hr                                          -0.020648   \n",
       "distance_in_km                                      0.814407   \n",
       "temperature                                         0.002400   \n",
       "pickup_latitude                                    -0.131114   \n",
       "pickup_longitude                                    0.143979   \n",
       "destination_latitude                               -0.139300   \n",
       "destination_longitude                               0.117612   \n",
       "pickup_dest_lat_diff_10                             0.371704   \n",
       "pickup_dest_long_diff_10                            1.000000   \n",
       "pickup_time_of_day                                  0.008755   \n",
       "pickup_weekday                                     -0.020400   \n",
       "hourly_av_speed_in_ms                              -0.173384   \n",
       "rider_mean_hourly_speed_ms                         -0.086082   \n",
       "rider_delay_time_in_mins                            0.085471   \n",
       "placement_to_pickup_time_min                        0.119772   \n",
       "placement_to_confirmation_time_min                 -0.012162   \n",
       "confirmation_to_pickup_time_min                     0.119772   \n",
       "pickup_hr_18_dist_9                                -0.610704   \n",
       "distance_greater_11                                 0.698792   \n",
       "pickup_to_arrival_time                              0.467943   \n",
       "\n",
       "                                    pickup_time_of_day  pickup_weekday  \\\n",
       "pickup_hr                                     0.156231        0.034237   \n",
       "distance_in_km                               -0.001606       -0.028271   \n",
       "temperature                                   0.337384        0.042336   \n",
       "pickup_latitude                              -0.007374        0.016380   \n",
       "pickup_longitude                              0.019638       -0.022262   \n",
       "destination_latitude                         -0.003937       -0.018023   \n",
       "destination_longitude                         0.028745       -0.013567   \n",
       "pickup_dest_lat_diff_10                      -0.002196       -0.007500   \n",
       "pickup_dest_long_diff_10                      0.008755       -0.020400   \n",
       "pickup_time_of_day                            1.000000        0.033936   \n",
       "pickup_weekday                                0.033936        1.000000   \n",
       "hourly_av_speed_in_ms                        -0.005623        0.000002   \n",
       "rider_mean_hourly_speed_ms                    0.000542       -0.006554   \n",
       "rider_delay_time_in_mins                      0.004174       -0.017361   \n",
       "placement_to_pickup_time_min                 -0.003309       -0.024775   \n",
       "placement_to_confirmation_time_min            0.000115        0.013433   \n",
       "confirmation_to_pickup_time_min              -0.003309       -0.024775   \n",
       "pickup_hr_18_dist_9                           0.084253        0.028782   \n",
       "distance_greater_11                          -0.000622       -0.033038   \n",
       "pickup_to_arrival_time                        0.021967        0.020641   \n",
       "\n",
       "                                    hourly_av_speed_in_ms  \\\n",
       "pickup_hr                                       -0.053611   \n",
       "distance_in_km                                  -0.249968   \n",
       "temperature                                     -0.033666   \n",
       "pickup_latitude                                  0.037834   \n",
       "pickup_longitude                                -0.081763   \n",
       "destination_latitude                            -0.063801   \n",
       "destination_longitude                           -0.087206   \n",
       "pickup_dest_lat_diff_10                         -0.375242   \n",
       "pickup_dest_long_diff_10                        -0.173384   \n",
       "pickup_time_of_day                              -0.005623   \n",
       "pickup_weekday                                   0.000002   \n",
       "hourly_av_speed_in_ms                            1.000000   \n",
       "rider_mean_hourly_speed_ms                       0.250889   \n",
       "rider_delay_time_in_mins                        -0.011445   \n",
       "placement_to_pickup_time_min                    -0.025551   \n",
       "placement_to_confirmation_time_min              -0.005122   \n",
       "confirmation_to_pickup_time_min                 -0.025551   \n",
       "pickup_hr_18_dist_9                              0.067080   \n",
       "distance_greater_11                             -0.147501   \n",
       "pickup_to_arrival_time                          -0.145104   \n",
       "\n",
       "                                    rider_mean_hourly_speed_ms  \\\n",
       "pickup_hr                                            -0.030169   \n",
       "distance_in_km                                       -0.114072   \n",
       "temperature                                          -0.015444   \n",
       "pickup_latitude                                       0.045786   \n",
       "pickup_longitude                                     -0.057918   \n",
       "destination_latitude                                  0.000459   \n",
       "destination_longitude                                -0.022809   \n",
       "pickup_dest_lat_diff_10                              -0.128599   \n",
       "pickup_dest_long_diff_10                             -0.086082   \n",
       "pickup_time_of_day                                    0.000542   \n",
       "pickup_weekday                                       -0.006554   \n",
       "hourly_av_speed_in_ms                                 0.250889   \n",
       "rider_mean_hourly_speed_ms                            1.000000   \n",
       "rider_delay_time_in_mins                             -0.013124   \n",
       "placement_to_pickup_time_min                         -0.014741   \n",
       "placement_to_confirmation_time_min                   -0.009829   \n",
       "confirmation_to_pickup_time_min                      -0.014741   \n",
       "pickup_hr_18_dist_9                                   0.054058   \n",
       "distance_greater_11                                  -0.085105   \n",
       "pickup_to_arrival_time                               -0.075621   \n",
       "\n",
       "                                    rider_delay_time_in_mins  \\\n",
       "pickup_hr                                           0.021603   \n",
       "distance_in_km                                      0.103208   \n",
       "temperature                                         0.034322   \n",
       "pickup_latitude                                    -0.120896   \n",
       "pickup_longitude                                    0.167870   \n",
       "destination_latitude                               -0.030231   \n",
       "destination_longitude                              -0.015863   \n",
       "pickup_dest_lat_diff_10                             0.076531   \n",
       "pickup_dest_long_diff_10                            0.085471   \n",
       "pickup_time_of_day                                  0.004174   \n",
       "pickup_weekday                                     -0.017361   \n",
       "hourly_av_speed_in_ms                              -0.011445   \n",
       "rider_mean_hourly_speed_ms                         -0.013124   \n",
       "rider_delay_time_in_mins                            1.000000   \n",
       "placement_to_pickup_time_min                        0.713892   \n",
       "placement_to_confirmation_time_min                 -0.002831   \n",
       "confirmation_to_pickup_time_min                     0.713892   \n",
       "pickup_hr_18_dist_9                                -0.092090   \n",
       "distance_greater_11                                 0.092810   \n",
       "pickup_to_arrival_time                             -0.079604   \n",
       "\n",
       "                                    placement_to_pickup_time_min  \\\n",
       "pickup_hr                                               0.044878   \n",
       "distance_in_km                                          0.152856   \n",
       "temperature                                             0.009139   \n",
       "pickup_latitude                                        -0.123886   \n",
       "pickup_longitude                                        0.190317   \n",
       "destination_latitude                                   -0.019648   \n",
       "destination_longitude                                   0.001818   \n",
       "pickup_dest_lat_diff_10                                 0.103311   \n",
       "pickup_dest_long_diff_10                                0.119772   \n",
       "pickup_time_of_day                                     -0.003309   \n",
       "pickup_weekday                                         -0.024775   \n",
       "hourly_av_speed_in_ms                                  -0.025551   \n",
       "rider_mean_hourly_speed_ms                             -0.014741   \n",
       "rider_delay_time_in_mins                                0.713892   \n",
       "placement_to_pickup_time_min                            1.000000   \n",
       "placement_to_confirmation_time_min                      0.022858   \n",
       "confirmation_to_pickup_time_min                         1.000000   \n",
       "pickup_hr_18_dist_9                                    -0.123551   \n",
       "distance_greater_11                                     0.126638   \n",
       "pickup_to_arrival_time                                  0.063575   \n",
       "\n",
       "                                    placement_to_confirmation_time_min  \\\n",
       "pickup_hr                                                     0.062035   \n",
       "distance_in_km                                               -0.018394   \n",
       "temperature                                                   0.003066   \n",
       "pickup_latitude                                              -0.017253   \n",
       "pickup_longitude                                              0.033058   \n",
       "destination_latitude                                         -0.008562   \n",
       "destination_longitude                                         0.018096   \n",
       "pickup_dest_lat_diff_10                                      -0.006861   \n",
       "pickup_dest_long_diff_10                                     -0.012162   \n",
       "pickup_time_of_day                                            0.000115   \n",
       "pickup_weekday                                                0.013433   \n",
       "hourly_av_speed_in_ms                                        -0.005122   \n",
       "rider_mean_hourly_speed_ms                                   -0.009829   \n",
       "rider_delay_time_in_mins                                     -0.002831   \n",
       "placement_to_pickup_time_min                                  0.022858   \n",
       "placement_to_confirmation_time_min                            1.000000   \n",
       "confirmation_to_pickup_time_min                               0.022858   \n",
       "pickup_hr_18_dist_9                                           0.011378   \n",
       "distance_greater_11                                          -0.029054   \n",
       "pickup_to_arrival_time                                        0.018676   \n",
       "\n",
       "                                    confirmation_to_pickup_time_min  \\\n",
       "pickup_hr                                                  0.044878   \n",
       "distance_in_km                                             0.152856   \n",
       "temperature                                                0.009139   \n",
       "pickup_latitude                                           -0.123886   \n",
       "pickup_longitude                                           0.190317   \n",
       "destination_latitude                                      -0.019648   \n",
       "destination_longitude                                      0.001818   \n",
       "pickup_dest_lat_diff_10                                    0.103311   \n",
       "pickup_dest_long_diff_10                                   0.119772   \n",
       "pickup_time_of_day                                        -0.003309   \n",
       "pickup_weekday                                            -0.024775   \n",
       "hourly_av_speed_in_ms                                     -0.025551   \n",
       "rider_mean_hourly_speed_ms                                -0.014741   \n",
       "rider_delay_time_in_mins                                   0.713892   \n",
       "placement_to_pickup_time_min                               1.000000   \n",
       "placement_to_confirmation_time_min                         0.022858   \n",
       "confirmation_to_pickup_time_min                            1.000000   \n",
       "pickup_hr_18_dist_9                                       -0.123551   \n",
       "distance_greater_11                                        0.126638   \n",
       "pickup_to_arrival_time                                     0.063575   \n",
       "\n",
       "                                    pickup_hr_18_dist_9  distance_greater_11  \\\n",
       "pickup_hr                                     -0.027662            -0.023926   \n",
       "distance_in_km                                -0.756438             0.823154   \n",
       "temperature                                    0.027137             0.004497   \n",
       "pickup_latitude                                0.100933            -0.092499   \n",
       "pickup_longitude                              -0.134472             0.174145   \n",
       "destination_latitude                           0.063198            -0.091044   \n",
       "destination_longitude                         -0.085125             0.135330   \n",
       "pickup_dest_lat_diff_10                       -0.534017             0.556860   \n",
       "pickup_dest_long_diff_10                      -0.610704             0.698792   \n",
       "pickup_time_of_day                             0.084253            -0.000622   \n",
       "pickup_weekday                                 0.028782            -0.033038   \n",
       "hourly_av_speed_in_ms                          0.067080            -0.147501   \n",
       "rider_mean_hourly_speed_ms                     0.054058            -0.085105   \n",
       "rider_delay_time_in_mins                      -0.092090             0.092810   \n",
       "placement_to_pickup_time_min                  -0.123551             0.126638   \n",
       "placement_to_confirmation_time_min             0.011378            -0.029054   \n",
       "confirmation_to_pickup_time_min               -0.123551             0.126638   \n",
       "pickup_hr_18_dist_9                            1.000000            -0.672655   \n",
       "distance_greater_11                           -0.672655             1.000000   \n",
       "pickup_to_arrival_time                        -0.441636             0.471844   \n",
       "\n",
       "                                    pickup_to_arrival_time  \n",
       "pickup_hr                                         0.010314  \n",
       "distance_in_km                                    0.580608  \n",
       "temperature                                       0.007258  \n",
       "pickup_latitude                                  -0.053823  \n",
       "pickup_longitude                                  0.060285  \n",
       "destination_latitude                             -0.061872  \n",
       "destination_longitude                             0.070425  \n",
       "pickup_dest_lat_diff_10                           0.453923  \n",
       "pickup_dest_long_diff_10                          0.467943  \n",
       "pickup_time_of_day                                0.021967  \n",
       "pickup_weekday                                    0.020641  \n",
       "hourly_av_speed_in_ms                            -0.145104  \n",
       "rider_mean_hourly_speed_ms                       -0.075621  \n",
       "rider_delay_time_in_mins                         -0.079604  \n",
       "placement_to_pickup_time_min                      0.063575  \n",
       "placement_to_confirmation_time_min                0.018676  \n",
       "confirmation_to_pickup_time_min                   0.063575  \n",
       "pickup_hr_18_dist_9                              -0.441636  \n",
       "distance_greater_11                               0.471844  \n",
       "pickup_to_arrival_time                            1.000000  "
      ]
     },
     "execution_count": 380,
     "metadata": {},
     "output_type": "execute_result"
    }
   ],
   "source": [
    "corr"
   ]
  },
  {
   "cell_type": "code",
   "execution_count": 381,
   "metadata": {},
   "outputs": [
    {
     "data": {
      "image/png": "[encoded data removed]",
      "text/plain": [
       "<Figure size 1440x720 with 2 Axes>"
      ]
     },
     "metadata": {
      "needs_background": "light"
     },
     "output_type": "display_data"
    }
   ],
   "source": [
    "plt.figure(figsize=[20,10])\n",
    "sns.heatmap(corr, annot=True, mask=mask);"
   ]
  },
  {
   "cell_type": "code",
   "execution_count": 382,
   "metadata": {},
   "outputs": [],
   "source": [
    "features = train_df.drop('pickup_to_arrival_time', 1)\n",
    "labels = train_df.pickup_to_arrival_time"
   ]
  },
  {
   "cell_type": "code",
   "execution_count": 383,
   "metadata": {},
   "outputs": [],
   "source": [
    "predictors = features.columns.tolist()"
   ]
  },
  {
   "cell_type": "code",
   "execution_count": 352,
   "metadata": {},
   "outputs": [],
   "source": [
    "from sklearn.model_selection import train_test_split,cross_val_score, cross_val_predict"
   ]
  },
  {
   "cell_type": "code",
   "execution_count": 180,
   "metadata": {},
   "outputs": [],
   "source": [
    "from custom_metrics import mlfunctools\n",
    "from sklearn.ensemble import RandomForestRegressor, GradientBoostingRegressor\n",
    "from lightgbm import LGBMRegressor\n",
    "from xgboost.sklearn import XGBRegressor\n",
    "from catboost import CatBoostRegressor"
   ]
  },
  {
   "cell_type": "code",
   "execution_count": 184,
   "metadata": {},
   "outputs": [],
   "source": [
    "from sklearn.feature_selection import f_regression, SelectFromModel, SelectKBest\n",
    "from sklearn.pipeline import Pipeline"
   ]
  },
  {
   "cell_type": "code",
   "execution_count": 384,
   "metadata": {},
   "outputs": [],
   "source": [
    "X_train, X_val, y_train, y_val = train_test_split(features, labels, test_size=0.30, random_state=945)"
   ]
  },
  {
   "cell_type": "code",
   "execution_count": 185,
   "metadata": {},
   "outputs": [],
   "source": []
  },
  {
   "cell_type": "code",
   "execution_count": 186,
   "metadata": {},
   "outputs": [],
   "source": []
  },
  {
   "cell_type": "code",
   "execution_count": 92,
   "metadata": {},
   "outputs": [],
   "source": [
    "xgb = XGBRegressor(objective='reg:squarederror',max_depth=5, reg_lambda=3, random_state=32)\n",
    "rf = RandomForestRegressor(max_depth=20, random_state=32 )\n",
    "gb = GradientBoostingRegressor(max_depth=5, max_features='auto', random_state=32)\n",
    "lgb= LGBMRegressor(importance_type='gain', max_depth=5, reg_lambda=3, random_state=32)\n",
    "cat = CatBoostRegressor(silent=True, max_depth=5, l2_leaf_reg=3, random_state=32)"
   ]
  },
  {
   "cell_type": "code",
   "execution_count": 93,
   "metadata": {
    "scrolled": false
   },
   "outputs": [
    {
     "name": "stdout",
     "output_type": "stream",
     "text": [
      "GradientBoostingRegressor RMSE: 754.6126371995838\n",
      "LGBMRegressor RMSE: 752.1068412661295\n",
      "XGBRegressor RMSE: 752.3815702890656\n",
      "CatBoostRegressor RMSE: 749.6469490349413\n",
      "RandomForestRegressor RMSE: 808.5861902348666\n"
     ]
    }
   ],
   "source": [
    "for estimator in [gb, lgb, xgb, cat, rf]:\n",
    "    cvs = cross_val_score(estimator, features, labels, cv=5, scoring='neg_mean_squared_error')\n",
    "    cvs_mean = np.sqrt(-cvs.mean())\n",
    "    print(estimator.__class__.__name__,'RMSE: {}'.format(cvs_mean))"
   ]
  },
  {
   "cell_type": "code",
   "execution_count": 191,
   "metadata": {},
   "outputs": [],
   "source": []
  },
  {
   "cell_type": "code",
   "execution_count": 110,
   "metadata": {},
   "outputs": [
    {
     "data": {
      "text/plain": [
       "{'l2_leaf_reg': 3,\n",
       " 'loss_function': 'RMSE',\n",
       " 'silent': True,\n",
       " 'max_depth': 5,\n",
       " 'random_state': 32}"
      ]
     },
     "execution_count": 110,
     "metadata": {},
     "output_type": "execute_result"
    }
   ],
   "source": [
    "cat.get_params()"
   ]
  },
  {
   "cell_type": "code",
   "execution_count": 98,
   "metadata": {},
   "outputs": [
    {
     "data": {
      "text/plain": [
       "({'learn': {'RMSE': 709.8533395932786},\n",
       "  'validation': {'RMSE': 746.6419980973706}},\n",
       " 729)"
      ]
     },
     "execution_count": 98,
     "metadata": {},
     "output_type": "execute_result"
    }
   ],
   "source": [
    "cat.best_score_, cat.best_iteration_"
   ]
  },
  {
   "cell_type": "code",
   "execution_count": 149,
   "metadata": {},
   "outputs": [],
   "source": [
    "params = {\n",
    "    'max_depth':[5],\n",
    "    'l2_leaf_reg':[3],\n",
    "    'learning_rate':[0.03],\n",
    "#     'n_estimators':[1000],\n",
    "    'bootstrap_type' :['Bernoulli'],\n",
    "    'subsample':[0.85]\n",
    "}"
   ]
  },
  {
   "cell_type": "raw",
   "metadata": {},
   "source": [
    "from catboost import Pool"
   ]
  },
  {
   "cell_type": "raw",
   "metadata": {},
   "source": [
    "train_pool = Pool(X_train, y_train)"
   ]
  },
  {
   "cell_type": "raw",
   "metadata": {},
   "source": [
    "cat.grid_search(params, train_pool, shuffle=True, cv=5, verbose=7)"
   ]
  },
  {
   "cell_type": "code",
   "execution_count": 150,
   "metadata": {
    "scrolled": false
   },
   "outputs": [],
   "source": [
    "gcv= mlfunctools.grid_search(cat, X_train, y_train, cv=5, param_grid=params,scoring='neg_mean_squared_error')"
   ]
  },
  {
   "cell_type": "code",
   "execution_count": 151,
   "metadata": {},
   "outputs": [
    {
     "data": {
      "text/plain": [
       "({'bootstrap_type': 'Bernoulli',\n",
       "  'l2_leaf_reg': 3,\n",
       "  'learning_rate': 0.03,\n",
       "  'max_depth': 5,\n",
       "  'subsample': 0.85},\n",
       " 754.7664455717402)"
      ]
     },
     "execution_count": 151,
     "metadata": {},
     "output_type": "execute_result"
    }
   ],
   "source": [
    "gcv.best_params_, np.sqrt(-gcv.best_score_)"
   ]
  },
  {
   "cell_type": "code",
   "execution_count": 152,
   "metadata": {},
   "outputs": [
    {
     "data": {
      "text/plain": [
       "744.6370203639759"
      ]
     },
     "execution_count": 152,
     "metadata": {},
     "output_type": "execute_result"
    }
   ],
   "source": [
    "np.sqrt(mlfunctools.mse(gcv.best_estimator_, X_val, y_val))"
   ]
  },
  {
   "cell_type": "code",
   "execution_count": 153,
   "metadata": {},
   "outputs": [
    {
     "data": {
      "text/plain": [
       "array([755.82010973, 756.14893697, 754.76644557])"
      ]
     },
     "execution_count": 153,
     "metadata": {},
     "output_type": "execute_result"
    }
   ],
   "source": [
    "np.sqrt(-gcv.cv_results_['mean_test_score'])"
   ]
  },
  {
   "cell_type": "code",
   "execution_count": 154,
   "metadata": {},
   "outputs": [],
   "source": [
    "importance,predictor = zip(*sorted(zip(cat.feature_importances_,predictors)))"
   ]
  },
  {
   "cell_type": "code",
   "execution_count": 155,
   "metadata": {
    "scrolled": true
   },
   "outputs": [
    {
     "data": {
      "image/png": "[encoded data removed]",
      "text/plain": [
       "<Figure size 576x360 with 1 Axes>"
      ]
     },
     "metadata": {
      "needs_background": "light"
     },
     "output_type": "display_data"
    }
   ],
   "source": [
    "plt.barh(predictor, importance);"
   ]
  },
  {
   "cell_type": "markdown",
   "metadata": {},
   "source": [
    "I tried different combinations of the columns and saw that when the temperture variable was used in the model, the RMSE increased, so I had to remove it."
   ]
  },
  {
   "cell_type": "code",
   "execution_count": 385,
   "metadata": {},
   "outputs": [],
   "source": [
    "cols_to_drop = ['temperature']"
   ]
  },
  {
   "cell_type": "code",
   "execution_count": 386,
   "metadata": {},
   "outputs": [],
   "source": [
    "X_train_,X_val_, y_train_ ,y_val_= train_test_split(features.drop(cols_to_drop,1), labels, test_size=0.25, random_state=54)"
   ]
  },
  {
   "cell_type": "code",
   "execution_count": 387,
   "metadata": {
    "scrolled": false
   },
   "outputs": [],
   "source": [
    "fit= cat.fit(X_train_, y_train_, eval_set=[(X_val_,y_val_)])"
   ]
  },
  {
   "cell_type": "code",
   "execution_count": 389,
   "metadata": {},
   "outputs": [
    {
     "data": {
      "text/plain": [
       "{'learn': {'RMSE': 697.9459594643769},\n",
       " 'validation': {'RMSE': 736.2251330708118}}"
      ]
     },
     "execution_count": 389,
     "metadata": {},
     "output_type": "execute_result"
    }
   ],
   "source": [
    "cat.best_score_"
   ]
  },
  {
   "cell_type": "code",
   "execution_count": 416,
   "metadata": {},
   "outputs": [],
   "source": [
    "params = {'max_depth': [6],\n",
    "          'l2_leaf_reg': [3],\n",
    "           'learning_rate': [0.03],\n",
    "          #  'bootstrap_type': ['Bernoulli'],\n",
    "          #  'subsample': [0.6, 0.75, 0.85]\n",
    "         }"
   ]
  },
  {
   "cell_type": "code",
   "execution_count": 417,
   "metadata": {},
   "outputs": [],
   "source": [
    "gcv= mlfunctools.grid_search(cat, X_train_, y_train_, cv=5, param_grid=params,scoring='neg_mean_squared_error')"
   ]
  },
  {
   "cell_type": "code",
   "execution_count": 418,
   "metadata": {},
   "outputs": [
    {
     "data": {
      "text/plain": [
       "({'l2_leaf_reg': 3, 'learning_rate': 0.03, 'max_depth': 6}, 754.5979914433217)"
      ]
     },
     "execution_count": 418,
     "metadata": {},
     "output_type": "execute_result"
    }
   ],
   "source": [
    "gcv.best_params_, np.sqrt(-gcv.best_score_)"
   ]
  },
  {
   "cell_type": "code",
   "execution_count": 411,
   "metadata": {},
   "outputs": [
    {
     "data": {
      "text/plain": [
       "array([754.59799144, 754.69162175, 761.39440211])"
      ]
     },
     "execution_count": 411,
     "metadata": {},
     "output_type": "execute_result"
    }
   ],
   "source": [
    "np.sqrt(-gcv.cv_results_['mean_test_score'])"
   ]
  },
  {
   "cell_type": "code",
   "execution_count": 419,
   "metadata": {},
   "outputs": [
    {
     "data": {
      "text/plain": [
       "735.4762782560009"
      ]
     },
     "execution_count": 419,
     "metadata": {},
     "output_type": "execute_result"
    }
   ],
   "source": [
    "np.sqrt(mlfunctools.mse(gcv.best_estimator_, X_val_, y_val_))"
   ]
  },
  {
   "cell_type": "code",
   "execution_count": 423,
   "metadata": {},
   "outputs": [],
   "source": [
    "X_test = test_df.drop(cols_to_drop ,1)"
   ]
  },
  {
   "cell_type": "code",
   "execution_count": 424,
   "metadata": {},
   "outputs": [],
   "source": [
    "pred = gcv.best_estimator_.predict(X_test)"
   ]
  },
  {
   "cell_type": "code",
   "execution_count": 425,
   "metadata": {},
   "outputs": [
    {
     "data": {
      "text/plain": [
       "array([1323.17327524, 1476.16683959, 1236.2471629 , ..., 1413.72026501,\n",
       "       2445.08569913, 1858.58149708])"
      ]
     },
     "execution_count": 425,
     "metadata": {},
     "output_type": "execute_result"
    }
   ],
   "source": [
    "pred"
   ]
  },
  {
   "cell_type": "code",
   "execution_count": 426,
   "metadata": {},
   "outputs": [],
   "source": [
    "X_test_df = pd.DataFrame(test.order_no)"
   ]
  },
  {
   "cell_type": "code",
   "execution_count": 262,
   "metadata": {},
   "outputs": [
    {
     "data": {
      "text/plain": [
       "['Order No',\n",
       " 'User Id',\n",
       " 'Vehicle Type',\n",
       " 'Platform Type',\n",
       " 'Personal or Business',\n",
       " 'Placement - Day of Month',\n",
       " 'Placement - Weekday (Mo = 1)',\n",
       " 'Placement - Time',\n",
       " 'Confirmation - Day of Month',\n",
       " 'Confirmation - Weekday (Mo = 1)',\n",
       " 'Confirmation - Time',\n",
       " 'Arrival at Pickup - Day of Month',\n",
       " 'Arrival at Pickup - Weekday (Mo = 1)',\n",
       " 'Arrival at Pickup - Time',\n",
       " 'Pickup - Day of Month',\n",
       " 'Pickup - Weekday (Mo = 1)',\n",
       " 'Pickup - Time',\n",
       " 'Distance (KM)',\n",
       " 'Temperature',\n",
       " 'Precipitation in millimeters',\n",
       " 'Pickup Lat',\n",
       " 'Pickup Long',\n",
       " 'Destination Lat',\n",
       " 'Destination Long',\n",
       " 'Rider Id',\n",
       " 'hr_of_day',\n",
       " 'pickup_min',\n",
       " 'Destination_city',\n",
       " 'Pickup_city',\n",
       " 'hourly_travel_time']"
      ]
     },
     "execution_count": 262,
     "metadata": {},
     "output_type": "execute_result"
    }
   ],
   "source": [
    "original_test_vars"
   ]
  },
  {
   "cell_type": "code",
   "execution_count": 427,
   "metadata": {},
   "outputs": [],
   "source": [
    "X_test_df['Time from Pickup to Arrival'] = pred"
   ]
  },
  {
   "cell_type": "code",
   "execution_count": 429,
   "metadata": {},
   "outputs": [],
   "source": [
    "X_test_df.to_csv('./sendy_logistics/sendy_logistics.csv', index=False)"
   ]
  },
  {
   "cell_type": "code",
   "execution_count": null,
   "metadata": {},
   "outputs": [],
   "source": []
  }
 ],
 "metadata": {
  "kernelspec": {
   "display_name": "Python 3",
   "language": "python",
   "name": "python3"
  },
  "language_info": {
   "codemirror_mode": {
    "name": "ipython",
    "version": 3
   },
   "file_extension": ".py",
   "mimetype": "text/x-python",
   "name": "python",
   "nbconvert_exporter": "python",
   "pygments_lexer": "ipython3",
   "version": "3.7.4"
  }
 },
 "nbformat": 4,
 "nbformat_minor": 2
}
